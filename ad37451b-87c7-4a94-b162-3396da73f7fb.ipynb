{
 "cells": [
  {
   "cell_type": "markdown",
   "metadata": {},
   "source": [
    "**МОДЕЛЬ МОНЕТИЗАЦИИ ИГРОВОГО ПРИЛОЖЕНИЯ**"
   ]
  },
  {
   "cell_type": "markdown",
   "metadata": {},
   "source": [
    "[Презентация] https://disk.yandex.ru/i/LSHr3HPTi68QVg"
   ]
  },
  {
   "cell_type": "markdown",
   "metadata": {},
   "source": [
    "[Дашборд] https://public.tableau.com/views/_16614241884380/Dashboard1?:language=en-US&:display_count=n&:origin=viz_share_link"
   ]
  },
  {
   "cell_type": "markdown",
   "metadata": {},
   "source": [
    "### Описание проекта"
   ]
  },
  {
   "cell_type": "markdown",
   "metadata": {},
   "source": [
    "**Задача**:\n",
    "\n",
    "Проанализируйте поведения игроков в зависимости от источника перехода.\n",
    "\n",
    "- Проведите исследовательский анализ данных;\n",
    "- Проанализируйте влияние источника перехода в игру на поведение пользователя;\n",
    "- Проверьте статистические гипотезы\n",
    "    1. *Проверьте гипотезу: время завершения уровня различается в зависимости способа прохождения:*\n",
    "        - *через реализацию проекта,*\n",
    "        - *через победу над первым игроком.*\n",
    "    2. *Сформулируйте собственную статистическую гипотезу. Дополните её нулевой и альтернативной гипотезами. Проверьте гипотезу с помощью статистического теста.*\n",
    "\n",
    "**Описание датасетов:**\n",
    "\n",
    "Основной датасет содержит данные о событиях, совершенных в мобильной игре «Космические братья». В ней пользователи строят свою космическую программу и пытаются преуспеть в нелёгком деле колонизации галактики.\n",
    "\n",
    "Основная монетизация игры — только планируется. Но предполагается, что в приложении будет происходить показ рекламы на экране с выбором типа объекта для постройки.\n",
    "\n",
    "В датасете представлены данные по игре пользователей на первом уровне. Завершение первого уровня требует от игрока выполнения одного из двух условий:\n",
    "\n",
    "- Победа над первым врагом\n",
    "- Реализация проекта - разработка орбитальной сборки спутников\n",
    "\n",
    "В датасете содержатся данные первых пользователей приложения — когорты пользователей, которые начали пользоваться приложением в период с 4 по 10 мая включительно.\n",
    "\n",
    "Датасет *game_actions.csv*:\n",
    "\n",
    "- `event_datetime` — время события;\n",
    "- `event` — одно из трёх событий:\n",
    "    1. `building` — объект построен,\n",
    "    2. `finished_stage_1` — первый уровень завершён,\n",
    "    3. `project` — проект завершён;\n",
    "- `building_type` — один из трёх типов здания:\n",
    "    1. `assembly_shop` — сборочный цех,\n",
    "    2. `spaceport` — космопорт,\n",
    "    3. `research_center` — исследовательский центр;\n",
    "- `user_id` — идентификатор пользователя;\n",
    "- `project_type` — тип реализованного проекта;\n",
    "\n",
    "Помимо основного датасета есть два датасета с информацией о рекламных активностях. Они также помогут в решении задачи.\n",
    "\n",
    "Датасет *ad_cost.csv*:\n",
    "\n",
    "- `day` - день, в который был совершен клик по объявлению\n",
    "- `source` - источник трафика\n",
    "- `cost` - стоимость кликов\n",
    "\n",
    "Датасет user_source.csv содержит колонки:\n",
    "\n",
    "- `user_id` - идентификатор пользователя\n",
    "- `source` - источников, с которого пришёл пользователь, установивший приложение\n",
    "\n",
    "По итогам исследования подготовьте презентацию. Для создания презентации используйте любой удобный инструмент, но отправить презентацию нужно **обязательно** в формате **pdf,** прикрепив ссылку на файл в основном проекте.\n",
    "\n",
    "**Датасеты:**\n",
    "\n",
    "[ad_costs.csv](https://disk.yandex.ru/d/PjE2POcSyDSoVQ)\n",
    "\n",
    "[game_actions.csv](https://disk.yandex.ru/d/d0326TvVybgbVQ)\n",
    "\n",
    "[user_sourse.csv](https://disk.yandex.ru/d/VlmspW1CYuC8Lg)\n",
    "\n",
    "**Дашборды**\n",
    "\n",
    "Чтобы отправить дашборд, приложите к проекту ссылку на файл. Выполните один из наборов:\n",
    "\n",
    "1. Набор №1\n",
    "    1. Постройте диаграмму распределения количества построенных объектов\n",
    "    2. Добавьте индикатор количества пользователей\n",
    "    3. Добавьте фильтр дашборда по признаку завершения уровня\n",
    "2. Набор №2\n",
    "    1. Постройте диаграмму, отображающую количество событий по дням\n",
    "    2. Постройте гистограмму, отображающую количество пользователей, пришедших из разных источников\n",
    "    3. Добавьте фильтр дашборда по типу события"
   ]
  },
  {
   "cell_type": "markdown",
   "metadata": {},
   "source": [
    "###  Декомпозиция"
   ]
  },
  {
   "cell_type": "markdown",
   "metadata": {},
   "source": [
    "**Шаг 1.** Загрузка  и подготовка данных\n",
    "- Таблица game_actions\n",
    "- Таблица ad_costs\n",
    "- Таблица user_source\n",
    "\n",
    "**Шаг 2.** Исследовательский анализ данных\n",
    "- Среднее время прохождения уровня\n",
    "- Количество построек на каждого пользователя\n",
    "- Сколько раз за день пользователи в среднем заходят в мобильное приложение\n",
    "- Показатели вовлечённости - DAU, WAU, Sticky Factor\n",
    "- Коэффициент удержания Retention Rate\n",
    "- Стоимость привлечения клиента CAC\n",
    "\n",
    "**Шаг 3.** Проверка статистических гипотез\n",
    "- Гипотеза различия времени прохождения уровня\n",
    "- Гипотеза различия количества построенных зданий\n",
    "\n",
    "**Шаг 4.** Формулирование модели монетизации и выводов\n",
    "- Модель монетизации\n",
    "- Общий вывод "
   ]
  },
  {
   "cell_type": "markdown",
   "metadata": {},
   "source": [
    "### Шаг.1  Загрузка  и подготовка данных к исследованию"
   ]
  },
  {
   "cell_type": "markdown",
   "metadata": {},
   "source": [
    "#### Загрузка данных"
   ]
  },
  {
   "cell_type": "code",
   "execution_count": 1,
   "metadata": {},
   "outputs": [],
   "source": [
    "#импортируем библиотеку pandas\n",
    "import pandas as pd\n",
    "\n",
    "#импортируем библиотеку numpy\n",
    "import numpy as np\n",
    "\n",
    "#импортируем библиотеку stats для работы со статистикой\n",
    "from scipy import stats as st\n",
    "\n",
    "#для создания графиков и гистограмм импортируем библиотеку matplotlib\n",
    "import matplotlib.pyplot as plt\n",
    "from matplotlib import pyplot as plt\n",
    "\n",
    "#импортируем библиотеку seaborn\n",
    "import seaborn as sns\n",
    "\n",
    "#импортируем библиотеку plotly\n",
    "from plotly import graph_objects as go\n",
    "\n",
    "import plotly.express as px\n",
    "\n",
    "\n",
    "#импортируем библиотеку warnings, чтобы скрыть возникающие предупреждения\n",
    "import warnings\n",
    "warnings.filterwarnings('ignore')"
   ]
  },
  {
   "cell_type": "code",
   "execution_count": 2,
   "metadata": {},
   "outputs": [],
   "source": [
    "# загрузим датасеты\n",
    "ad_costs = pd.read_csv('/datasets/ad_costs.csv')\n",
    "game_actions = pd.read_csv('/datasets/game_actions.csv')\n",
    "user_source = pd.read_csv('/datasets/user_source.csv')"
   ]
  },
  {
   "cell_type": "code",
   "execution_count": 3,
   "metadata": {
    "scrolled": true
   },
   "outputs": [
    {
     "name": "stdout",
     "output_type": "stream",
     "text": [
      "Первые пять строк таблицы game_actions :\n"
     ]
    },
    {
     "data": {
      "text/html": [
       "<div>\n",
       "<style scoped>\n",
       "    .dataframe tbody tr th:only-of-type {\n",
       "        vertical-align: middle;\n",
       "    }\n",
       "\n",
       "    .dataframe tbody tr th {\n",
       "        vertical-align: top;\n",
       "    }\n",
       "\n",
       "    .dataframe thead th {\n",
       "        text-align: right;\n",
       "    }\n",
       "</style>\n",
       "<table border=\"1\" class=\"dataframe\">\n",
       "  <thead>\n",
       "    <tr style=\"text-align: right;\">\n",
       "      <th></th>\n",
       "      <th>event_datetime</th>\n",
       "      <th>event</th>\n",
       "      <th>building_type</th>\n",
       "      <th>user_id</th>\n",
       "      <th>project_type</th>\n",
       "    </tr>\n",
       "  </thead>\n",
       "  <tbody>\n",
       "    <tr>\n",
       "      <th>0</th>\n",
       "      <td>2020-05-04 00:00:01</td>\n",
       "      <td>building</td>\n",
       "      <td>assembly_shop</td>\n",
       "      <td>55e92310-cb8e-4754-b622-597e124b03de</td>\n",
       "      <td>NaN</td>\n",
       "    </tr>\n",
       "    <tr>\n",
       "      <th>1</th>\n",
       "      <td>2020-05-04 00:00:03</td>\n",
       "      <td>building</td>\n",
       "      <td>assembly_shop</td>\n",
       "      <td>c07b1c10-f477-44dc-81dc-ec82254b1347</td>\n",
       "      <td>NaN</td>\n",
       "    </tr>\n",
       "    <tr>\n",
       "      <th>2</th>\n",
       "      <td>2020-05-04 00:00:16</td>\n",
       "      <td>building</td>\n",
       "      <td>assembly_shop</td>\n",
       "      <td>6edd42cc-e753-4ff6-a947-2107cd560710</td>\n",
       "      <td>NaN</td>\n",
       "    </tr>\n",
       "    <tr>\n",
       "      <th>3</th>\n",
       "      <td>2020-05-04 00:00:16</td>\n",
       "      <td>building</td>\n",
       "      <td>assembly_shop</td>\n",
       "      <td>92c69003-d60a-444a-827f-8cc51bf6bf4c</td>\n",
       "      <td>NaN</td>\n",
       "    </tr>\n",
       "    <tr>\n",
       "      <th>4</th>\n",
       "      <td>2020-05-04 00:00:35</td>\n",
       "      <td>building</td>\n",
       "      <td>assembly_shop</td>\n",
       "      <td>cdc6bb92-0ccb-4490-9866-ef142f09139d</td>\n",
       "      <td>NaN</td>\n",
       "    </tr>\n",
       "  </tbody>\n",
       "</table>\n",
       "</div>"
      ],
      "text/plain": [
       "        event_datetime     event  building_type  \\\n",
       "0  2020-05-04 00:00:01  building  assembly_shop   \n",
       "1  2020-05-04 00:00:03  building  assembly_shop   \n",
       "2  2020-05-04 00:00:16  building  assembly_shop   \n",
       "3  2020-05-04 00:00:16  building  assembly_shop   \n",
       "4  2020-05-04 00:00:35  building  assembly_shop   \n",
       "\n",
       "                                user_id project_type  \n",
       "0  55e92310-cb8e-4754-b622-597e124b03de          NaN  \n",
       "1  c07b1c10-f477-44dc-81dc-ec82254b1347          NaN  \n",
       "2  6edd42cc-e753-4ff6-a947-2107cd560710          NaN  \n",
       "3  92c69003-d60a-444a-827f-8cc51bf6bf4c          NaN  \n",
       "4  cdc6bb92-0ccb-4490-9866-ef142f09139d          NaN  "
      ]
     },
     "metadata": {},
     "output_type": "display_data"
    },
    {
     "name": "stdout",
     "output_type": "stream",
     "text": [
      "\n",
      "Общая информация о таблице game_actions :\n",
      "<class 'pandas.core.frame.DataFrame'>\n",
      "RangeIndex: 135640 entries, 0 to 135639\n",
      "Data columns (total 5 columns):\n",
      " #   Column          Non-Null Count   Dtype \n",
      "---  ------          --------------   ----- \n",
      " 0   event_datetime  135640 non-null  object\n",
      " 1   event           135640 non-null  object\n",
      " 2   building_type   127957 non-null  object\n",
      " 3   user_id         135640 non-null  object\n",
      " 4   project_type    1866 non-null    object\n",
      "dtypes: object(5)\n",
      "memory usage: 5.2+ MB\n",
      "**************************************************\n",
      "Первые пять строк таблицы ad_costs :\n"
     ]
    },
    {
     "data": {
      "text/html": [
       "<div>\n",
       "<style scoped>\n",
       "    .dataframe tbody tr th:only-of-type {\n",
       "        vertical-align: middle;\n",
       "    }\n",
       "\n",
       "    .dataframe tbody tr th {\n",
       "        vertical-align: top;\n",
       "    }\n",
       "\n",
       "    .dataframe thead th {\n",
       "        text-align: right;\n",
       "    }\n",
       "</style>\n",
       "<table border=\"1\" class=\"dataframe\">\n",
       "  <thead>\n",
       "    <tr style=\"text-align: right;\">\n",
       "      <th></th>\n",
       "      <th>source</th>\n",
       "      <th>day</th>\n",
       "      <th>cost</th>\n",
       "    </tr>\n",
       "  </thead>\n",
       "  <tbody>\n",
       "    <tr>\n",
       "      <th>0</th>\n",
       "      <td>facebook_ads</td>\n",
       "      <td>2020-05-03</td>\n",
       "      <td>935.882786</td>\n",
       "    </tr>\n",
       "    <tr>\n",
       "      <th>1</th>\n",
       "      <td>facebook_ads</td>\n",
       "      <td>2020-05-04</td>\n",
       "      <td>548.354480</td>\n",
       "    </tr>\n",
       "    <tr>\n",
       "      <th>2</th>\n",
       "      <td>facebook_ads</td>\n",
       "      <td>2020-05-05</td>\n",
       "      <td>260.185754</td>\n",
       "    </tr>\n",
       "    <tr>\n",
       "      <th>3</th>\n",
       "      <td>facebook_ads</td>\n",
       "      <td>2020-05-06</td>\n",
       "      <td>177.982200</td>\n",
       "    </tr>\n",
       "    <tr>\n",
       "      <th>4</th>\n",
       "      <td>facebook_ads</td>\n",
       "      <td>2020-05-07</td>\n",
       "      <td>111.766796</td>\n",
       "    </tr>\n",
       "  </tbody>\n",
       "</table>\n",
       "</div>"
      ],
      "text/plain": [
       "         source         day        cost\n",
       "0  facebook_ads  2020-05-03  935.882786\n",
       "1  facebook_ads  2020-05-04  548.354480\n",
       "2  facebook_ads  2020-05-05  260.185754\n",
       "3  facebook_ads  2020-05-06  177.982200\n",
       "4  facebook_ads  2020-05-07  111.766796"
      ]
     },
     "metadata": {},
     "output_type": "display_data"
    },
    {
     "name": "stdout",
     "output_type": "stream",
     "text": [
      "\n",
      "Общая информация о таблице ad_costs :\n",
      "<class 'pandas.core.frame.DataFrame'>\n",
      "RangeIndex: 28 entries, 0 to 27\n",
      "Data columns (total 3 columns):\n",
      " #   Column  Non-Null Count  Dtype  \n",
      "---  ------  --------------  -----  \n",
      " 0   source  28 non-null     object \n",
      " 1   day     28 non-null     object \n",
      " 2   cost    28 non-null     float64\n",
      "dtypes: float64(1), object(2)\n",
      "memory usage: 800.0+ bytes\n",
      "**************************************************\n",
      "Первые пять строк таблицы user_source :\n"
     ]
    },
    {
     "data": {
      "text/html": [
       "<div>\n",
       "<style scoped>\n",
       "    .dataframe tbody tr th:only-of-type {\n",
       "        vertical-align: middle;\n",
       "    }\n",
       "\n",
       "    .dataframe tbody tr th {\n",
       "        vertical-align: top;\n",
       "    }\n",
       "\n",
       "    .dataframe thead th {\n",
       "        text-align: right;\n",
       "    }\n",
       "</style>\n",
       "<table border=\"1\" class=\"dataframe\">\n",
       "  <thead>\n",
       "    <tr style=\"text-align: right;\">\n",
       "      <th></th>\n",
       "      <th>user_id</th>\n",
       "      <th>source</th>\n",
       "    </tr>\n",
       "  </thead>\n",
       "  <tbody>\n",
       "    <tr>\n",
       "      <th>0</th>\n",
       "      <td>0001f83c-c6ac-4621-b7f0-8a28b283ac30</td>\n",
       "      <td>facebook_ads</td>\n",
       "    </tr>\n",
       "    <tr>\n",
       "      <th>1</th>\n",
       "      <td>00151b4f-ba38-44a8-a650-d7cf130a0105</td>\n",
       "      <td>yandex_direct</td>\n",
       "    </tr>\n",
       "    <tr>\n",
       "      <th>2</th>\n",
       "      <td>001aaea6-3d14-43f1-8ca8-7f48820f17aa</td>\n",
       "      <td>youtube_channel_reklama</td>\n",
       "    </tr>\n",
       "    <tr>\n",
       "      <th>3</th>\n",
       "      <td>001d39dc-366c-4021-9604-6a3b9ff01e25</td>\n",
       "      <td>instagram_new_adverts</td>\n",
       "    </tr>\n",
       "    <tr>\n",
       "      <th>4</th>\n",
       "      <td>002f508f-67b6-479f-814b-b05f00d4e995</td>\n",
       "      <td>facebook_ads</td>\n",
       "    </tr>\n",
       "  </tbody>\n",
       "</table>\n",
       "</div>"
      ],
      "text/plain": [
       "                                user_id                   source\n",
       "0  0001f83c-c6ac-4621-b7f0-8a28b283ac30             facebook_ads\n",
       "1  00151b4f-ba38-44a8-a650-d7cf130a0105            yandex_direct\n",
       "2  001aaea6-3d14-43f1-8ca8-7f48820f17aa  youtube_channel_reklama\n",
       "3  001d39dc-366c-4021-9604-6a3b9ff01e25    instagram_new_adverts\n",
       "4  002f508f-67b6-479f-814b-b05f00d4e995             facebook_ads"
      ]
     },
     "metadata": {},
     "output_type": "display_data"
    },
    {
     "name": "stdout",
     "output_type": "stream",
     "text": [
      "\n",
      "Общая информация о таблице user_source :\n",
      "<class 'pandas.core.frame.DataFrame'>\n",
      "RangeIndex: 13576 entries, 0 to 13575\n",
      "Data columns (total 2 columns):\n",
      " #   Column   Non-Null Count  Dtype \n",
      "---  ------   --------------  ----- \n",
      " 0   user_id  13576 non-null  object\n",
      " 1   source   13576 non-null  object\n",
      "dtypes: object(2)\n",
      "memory usage: 212.2+ KB\n",
      "**************************************************\n"
     ]
    }
   ],
   "source": [
    "#получим общую информацию о таблицах\n",
    "for item, name in [(game_actions, 'game_actions'), (ad_costs, 'ad_costs'), (user_source, 'user_source')]:\n",
    "    print('Первые пять строк таблицы', name, ':')\n",
    "    display(item.head())\n",
    "    \n",
    "    print()\n",
    "    \n",
    "    print('Общая информация о таблице', name, ':')\n",
    "    item.info()\n",
    "    print('*'*50)"
   ]
  },
  {
   "cell_type": "markdown",
   "metadata": {},
   "source": [
    "Вывод:\n",
    "\n",
    " - Таблица game_actions - данные первых пользователей приложения.\n",
    " В таблице actions пять столбцов, количество значений в столбцах отличается: в столбцах event_datetime, event, user_id количество значений одинаковое и составляет 135640, в столбце building_type количество значений меньше и составляет 127957, в столбце project_type значений меньше всего, - 1866. \n",
    " Заменять пропущенные значения не будем, чтобы не испортить общую картину, а рассмотрим датасет как есть.\n",
    " Типы данные везде те, кроме столбца с datetime. А вот пропуски есть в building_type (это ожидаемо, поскольку некоторые event не подразумевают постройку) и project_type (тоже очевидно, не все выполнили проект).\n",
    " \n",
    "-  Таблица ad_costs - информация о рекламных активностях.\n",
    "В таблице ad_costs три столбца, в столбцах day, source, cost количество значений одинаковое и составляет 28.\n",
    "\n",
    "- Таблица user_source - информация о рекламных активностях.\n",
    "user_id - идентификатор пользователя\n",
    "source - источников, с которого пришёл пользователь, установивший приложение\n",
    "В таблице user_source два столбца, в столбцах user_id, source количество значений одинаковое и составляет 13576 ."
   ]
  },
  {
   "cell_type": "markdown",
   "metadata": {},
   "source": [
    "#### Подготовка данных к исследованию"
   ]
  },
  {
   "cell_type": "markdown",
   "metadata": {},
   "source": [
    "Проверим таблицы на дубликаты"
   ]
  },
  {
   "cell_type": "code",
   "execution_count": 4,
   "metadata": {},
   "outputs": [
    {
     "name": "stdout",
     "output_type": "stream",
     "text": [
      "Количество дубликатов в таблице game_actions : 1\n",
      "Количество дубликатов в таблице ad_costs : 0\n",
      "Количество дубликатов в таблице user_source : 0\n"
     ]
    }
   ],
   "source": [
    "#посчитаем количество дубликатов в каждой таблице\n",
    "\n",
    "for item, name in [(game_actions, 'game_actions'), (ad_costs, 'ad_costs'), (user_source, 'user_source')]:\n",
    "    print('Количество дубликатов в таблице', name, ':', item.duplicated().sum())"
   ]
  },
  {
   "cell_type": "code",
   "execution_count": 5,
   "metadata": {},
   "outputs": [
    {
     "name": "stdout",
     "output_type": "stream",
     "text": [
      "Количество дубликатов в таблице game_actions : 0\n"
     ]
    }
   ],
   "source": [
    "#удалим дубликаты в таблице game_actions\n",
    "\n",
    "game_actions = game_actions.drop_duplicates()\n",
    "\n",
    "print('Количество дубликатов в таблице game_actions', ':', game_actions.duplicated().sum())"
   ]
  },
  {
   "cell_type": "markdown",
   "metadata": {},
   "source": [
    "Рассмотрим подробнее таблицы"
   ]
  },
  {
   "cell_type": "markdown",
   "metadata": {},
   "source": [
    "##### Таблица game_actions с данными первых пользователей приложения"
   ]
  },
  {
   "cell_type": "code",
   "execution_count": 6,
   "metadata": {},
   "outputs": [
    {
     "data": {
      "text/html": [
       "<div>\n",
       "<style scoped>\n",
       "    .dataframe tbody tr th:only-of-type {\n",
       "        vertical-align: middle;\n",
       "    }\n",
       "\n",
       "    .dataframe tbody tr th {\n",
       "        vertical-align: top;\n",
       "    }\n",
       "\n",
       "    .dataframe thead th {\n",
       "        text-align: right;\n",
       "    }\n",
       "</style>\n",
       "<table border=\"1\" class=\"dataframe\">\n",
       "  <thead>\n",
       "    <tr style=\"text-align: right;\">\n",
       "      <th></th>\n",
       "      <th>event_datetime</th>\n",
       "      <th>event</th>\n",
       "      <th>building_type</th>\n",
       "      <th>user_id</th>\n",
       "      <th>project_type</th>\n",
       "    </tr>\n",
       "  </thead>\n",
       "  <tbody>\n",
       "    <tr>\n",
       "      <th>count</th>\n",
       "      <td>135639</td>\n",
       "      <td>135639</td>\n",
       "      <td>127956</td>\n",
       "      <td>135639</td>\n",
       "      <td>1866</td>\n",
       "    </tr>\n",
       "    <tr>\n",
       "      <th>unique</th>\n",
       "      <td>128790</td>\n",
       "      <td>3</td>\n",
       "      <td>3</td>\n",
       "      <td>13576</td>\n",
       "      <td>1</td>\n",
       "    </tr>\n",
       "    <tr>\n",
       "      <th>top</th>\n",
       "      <td>2020-05-08 22:30:04</td>\n",
       "      <td>building</td>\n",
       "      <td>spaceport</td>\n",
       "      <td>d6aca06a-cd75-4cd8-b8cd-240a3c163884</td>\n",
       "      <td>satellite_orbital_assembly</td>\n",
       "    </tr>\n",
       "    <tr>\n",
       "      <th>freq</th>\n",
       "      <td>4</td>\n",
       "      <td>127956</td>\n",
       "      <td>59325</td>\n",
       "      <td>22</td>\n",
       "      <td>1866</td>\n",
       "    </tr>\n",
       "  </tbody>\n",
       "</table>\n",
       "</div>"
      ],
      "text/plain": [
       "             event_datetime     event building_type  \\\n",
       "count                135639    135639        127956   \n",
       "unique               128790         3             3   \n",
       "top     2020-05-08 22:30:04  building     spaceport   \n",
       "freq                      4    127956         59325   \n",
       "\n",
       "                                     user_id                project_type  \n",
       "count                                 135639                        1866  \n",
       "unique                                 13576                           1  \n",
       "top     d6aca06a-cd75-4cd8-b8cd-240a3c163884  satellite_orbital_assembly  \n",
       "freq                                      22                        1866  "
      ]
     },
     "execution_count": 6,
     "metadata": {},
     "output_type": "execute_result"
    }
   ],
   "source": [
    "# посмотрим game_actions через describe() для наглядности:\n",
    "# уникальные значения , их на наиболее частые значения\n",
    "# минимальное и максимальное значение в столбце 'event_datetime'\n",
    "\n",
    "game_actions.describe()"
   ]
  },
  {
   "cell_type": "markdown",
   "metadata": {},
   "source": [
    "**Столбец event_datetime - время события**"
   ]
  },
  {
   "cell_type": "code",
   "execution_count": 7,
   "metadata": {},
   "outputs": [
    {
     "name": "stdout",
     "output_type": "stream",
     "text": [
      "Cуммарное количество пропусков для столбца event_datetime:\n",
      "0\n"
     ]
    }
   ],
   "source": [
    "#посмотрим суммарное количество пропусков для столбца\n",
    "\n",
    "print('Cуммарное количество пропусков для столбца event_datetime:')\n",
    "print(game_actions['event_datetime'].isnull().sum())"
   ]
  },
  {
   "cell_type": "code",
   "execution_count": 8,
   "metadata": {
    "scrolled": true
   },
   "outputs": [
    {
     "name": "stdout",
     "output_type": "stream",
     "text": [
      "<class 'pandas.core.frame.DataFrame'>\n",
      "Int64Index: 135639 entries, 0 to 135639\n",
      "Data columns (total 5 columns):\n",
      " #   Column          Non-Null Count   Dtype         \n",
      "---  ------          --------------   -----         \n",
      " 0   event_datetime  135639 non-null  datetime64[ns]\n",
      " 1   event           135639 non-null  object        \n",
      " 2   building_type   127956 non-null  object        \n",
      " 3   user_id         135639 non-null  object        \n",
      " 4   project_type    1866 non-null    object        \n",
      "dtypes: datetime64[ns](1), object(4)\n",
      "memory usage: 6.2+ MB\n"
     ]
    }
   ],
   "source": [
    "#скорректируем формат отображения дат для столбца\n",
    "\n",
    "game_actions['event_datetime'] = pd.to_datetime(game_actions['event_datetime'], format='%Y-%m-%dT%H:%M:%S')\n",
    "game_actions.info()"
   ]
  },
  {
   "cell_type": "code",
   "execution_count": 9,
   "metadata": {},
   "outputs": [
    {
     "data": {
      "text/html": [
       "<div>\n",
       "<style scoped>\n",
       "    .dataframe tbody tr th:only-of-type {\n",
       "        vertical-align: middle;\n",
       "    }\n",
       "\n",
       "    .dataframe tbody tr th {\n",
       "        vertical-align: top;\n",
       "    }\n",
       "\n",
       "    .dataframe thead th {\n",
       "        text-align: right;\n",
       "    }\n",
       "</style>\n",
       "<table border=\"1\" class=\"dataframe\">\n",
       "  <thead>\n",
       "    <tr style=\"text-align: right;\">\n",
       "      <th></th>\n",
       "      <th>event_datetime</th>\n",
       "      <th>event</th>\n",
       "      <th>building_type</th>\n",
       "      <th>user_id</th>\n",
       "      <th>project_type</th>\n",
       "      <th>event_date</th>\n",
       "      <th>event_week</th>\n",
       "    </tr>\n",
       "  </thead>\n",
       "  <tbody>\n",
       "    <tr>\n",
       "      <th>0</th>\n",
       "      <td>2020-05-04 00:00:01</td>\n",
       "      <td>building</td>\n",
       "      <td>assembly_shop</td>\n",
       "      <td>55e92310-cb8e-4754-b622-597e124b03de</td>\n",
       "      <td>NaN</td>\n",
       "      <td>2020-05-04</td>\n",
       "      <td>19</td>\n",
       "    </tr>\n",
       "    <tr>\n",
       "      <th>1</th>\n",
       "      <td>2020-05-04 00:00:03</td>\n",
       "      <td>building</td>\n",
       "      <td>assembly_shop</td>\n",
       "      <td>c07b1c10-f477-44dc-81dc-ec82254b1347</td>\n",
       "      <td>NaN</td>\n",
       "      <td>2020-05-04</td>\n",
       "      <td>19</td>\n",
       "    </tr>\n",
       "    <tr>\n",
       "      <th>2</th>\n",
       "      <td>2020-05-04 00:00:16</td>\n",
       "      <td>building</td>\n",
       "      <td>assembly_shop</td>\n",
       "      <td>6edd42cc-e753-4ff6-a947-2107cd560710</td>\n",
       "      <td>NaN</td>\n",
       "      <td>2020-05-04</td>\n",
       "      <td>19</td>\n",
       "    </tr>\n",
       "    <tr>\n",
       "      <th>3</th>\n",
       "      <td>2020-05-04 00:00:16</td>\n",
       "      <td>building</td>\n",
       "      <td>assembly_shop</td>\n",
       "      <td>92c69003-d60a-444a-827f-8cc51bf6bf4c</td>\n",
       "      <td>NaN</td>\n",
       "      <td>2020-05-04</td>\n",
       "      <td>19</td>\n",
       "    </tr>\n",
       "    <tr>\n",
       "      <th>4</th>\n",
       "      <td>2020-05-04 00:00:35</td>\n",
       "      <td>building</td>\n",
       "      <td>assembly_shop</td>\n",
       "      <td>cdc6bb92-0ccb-4490-9866-ef142f09139d</td>\n",
       "      <td>NaN</td>\n",
       "      <td>2020-05-04</td>\n",
       "      <td>19</td>\n",
       "    </tr>\n",
       "  </tbody>\n",
       "</table>\n",
       "</div>"
      ],
      "text/plain": [
       "       event_datetime     event  building_type  \\\n",
       "0 2020-05-04 00:00:01  building  assembly_shop   \n",
       "1 2020-05-04 00:00:03  building  assembly_shop   \n",
       "2 2020-05-04 00:00:16  building  assembly_shop   \n",
       "3 2020-05-04 00:00:16  building  assembly_shop   \n",
       "4 2020-05-04 00:00:35  building  assembly_shop   \n",
       "\n",
       "                                user_id project_type  event_date  event_week  \n",
       "0  55e92310-cb8e-4754-b622-597e124b03de          NaN  2020-05-04          19  \n",
       "1  c07b1c10-f477-44dc-81dc-ec82254b1347          NaN  2020-05-04          19  \n",
       "2  6edd42cc-e753-4ff6-a947-2107cd560710          NaN  2020-05-04          19  \n",
       "3  92c69003-d60a-444a-827f-8cc51bf6bf4c          NaN  2020-05-04          19  \n",
       "4  cdc6bb92-0ccb-4490-9866-ef142f09139d          NaN  2020-05-04          19  "
      ]
     },
     "execution_count": 9,
     "metadata": {},
     "output_type": "execute_result"
    }
   ],
   "source": [
    "# выделим в отдельные столбцы полную дату и неделю\n",
    "# посмотрим первые пять строк таблицы после добавления столбцов\n",
    "game_actions['event_date']  = game_actions['event_datetime'].dt.date\n",
    "game_actions['event_week']  = game_actions['event_datetime'].dt.week\n",
    "\n",
    "game_actions.head()"
   ]
  },
  {
   "cell_type": "markdown",
   "metadata": {},
   "source": [
    "Вывод\n",
    "\n",
    "- Cуммарное количество пропусков для столбца event_datetime равно нулю, пропущенных значений нет, подозрительных значений не наблюдается,\n",
    "- Количество уникальных значений в столбце = 128790,\n",
    "- Период, за который представлены данные в столбце, - с 4 мая по 5 июня 2020 включительно:\n",
    "- Максимальное значение даты и времени - 2020-05-04 00:00:01,\n",
    "- Максимальное значение даты и времени - 2020-06-05 12:32:49.\n",
    "\n",
    "При этом по условию задачи сказано, что в датасете содержатся данные первых пользователей приложения — когорты пользователей, которые начали пользоваться приложением в период с 4 по 10 мая включительно. Получается, в датасете представлены все действия пользователей, которые скачали приложение и начали играть с 4 по 10 мая и играли до 5 июня"
   ]
  },
  {
   "cell_type": "markdown",
   "metadata": {},
   "source": [
    "**Столбец event - событие**"
   ]
  },
  {
   "cell_type": "code",
   "execution_count": 10,
   "metadata": {},
   "outputs": [
    {
     "name": "stdout",
     "output_type": "stream",
     "text": [
      "Cуммарное количество пропусков для столбца event:\n",
      "0\n"
     ]
    }
   ],
   "source": [
    "# посмотрим суммарное количество пропусков для столбца\n",
    "\n",
    "print('Cуммарное количество пропусков для столбца event:')\n",
    "print(game_actions['event'].isnull().sum())"
   ]
  },
  {
   "cell_type": "code",
   "execution_count": 11,
   "metadata": {},
   "outputs": [
    {
     "name": "stdout",
     "output_type": "stream",
     "text": [
      "building            127956\n",
      "finished_stage_1      5817\n",
      "project               1866\n",
      "Name: event, dtype: int64\n"
     ]
    },
    {
     "data": {
      "text/html": [
       "<div>\n",
       "<style scoped>\n",
       "    .dataframe tbody tr th:only-of-type {\n",
       "        vertical-align: middle;\n",
       "    }\n",
       "\n",
       "    .dataframe tbody tr th {\n",
       "        vertical-align: top;\n",
       "    }\n",
       "\n",
       "    .dataframe thead th {\n",
       "        text-align: right;\n",
       "    }\n",
       "</style>\n",
       "<table border=\"1\" class=\"dataframe\">\n",
       "  <thead>\n",
       "    <tr style=\"text-align: right;\">\n",
       "      <th></th>\n",
       "      <th>event</th>\n",
       "      <th>user_id</th>\n",
       "    </tr>\n",
       "  </thead>\n",
       "  <tbody>\n",
       "    <tr>\n",
       "      <th>0</th>\n",
       "      <td>building</td>\n",
       "      <td>13576</td>\n",
       "    </tr>\n",
       "    <tr>\n",
       "      <th>1</th>\n",
       "      <td>finished_stage_1</td>\n",
       "      <td>5817</td>\n",
       "    </tr>\n",
       "    <tr>\n",
       "      <th>2</th>\n",
       "      <td>project</td>\n",
       "      <td>1866</td>\n",
       "    </tr>\n",
       "  </tbody>\n",
       "</table>\n",
       "</div>"
      ],
      "text/plain": [
       "              event  user_id\n",
       "0          building    13576\n",
       "1  finished_stage_1     5817\n",
       "2           project     1866"
      ]
     },
     "execution_count": 11,
     "metadata": {},
     "output_type": "execute_result"
    }
   ],
   "source": [
    "# распределим уникальные значения в столбце\n",
    "# посмотрим, как распределены уникальные пользователи\n",
    "\n",
    "print(game_actions['event'].value_counts())\n",
    "\n",
    "event_user_id = game_actions.groupby('event').agg({'user_id':'nunique'}).reset_index().sort_values(by = 'user_id', ascending = False)\n",
    "event_user_id"
   ]
  },
  {
   "cell_type": "code",
   "execution_count": 12,
   "metadata": {},
   "outputs": [
    {
     "name": "stdout",
     "output_type": "stream",
     "text": [
      "Процент завершивших первый уровень: 42.85%\n"
     ]
    }
   ],
   "source": [
    "# подсчитаем % завершивших первый уровень\n",
    "\n",
    "print('Процент завершивших первый уровень: {:.2%}'.format(event_user_id['user_id'].loc[1]/event_user_id['user_id'].loc[0]))"
   ]
  },
  {
   "cell_type": "code",
   "execution_count": 13,
   "metadata": {},
   "outputs": [
    {
     "data": {
      "image/png": "[encoded data removed]",
      "text/plain": [
       "<Figure size 1080x504 with 1 Axes>"
      ]
     },
     "metadata": {
      "needs_background": "light"
     },
     "output_type": "display_data"
    }
   ],
   "source": [
    "# построим график распределения уникальных пользователей\n",
    "\n",
    "plt.figure(figsize=(15,7))\n",
    "ax = sns.barplot(data=event_user_id, x='event', y='user_id')\n",
    "plt.suptitle('Распределение уникальных пользователей по типам событий')\n",
    "plt.xlabel('Событие')\n",
    "plt.ylabel('Количество уникальных пользователей')\n",
    "sns.set_palette('dark') \n",
    "\n",
    "#добавим подписи\n",
    "\n",
    "for p in ax.patches:\n",
    "    height = p.get_height()\n",
    "    ax.text(p.get_x()+p.get_width()/2.,\n",
    "            height + 100,\n",
    "            '{:1.0f}'.format(height),\n",
    "            ha=\"center\")"
   ]
  },
  {
   "cell_type": "markdown",
   "metadata": {},
   "source": [
    "Вывод\n",
    "\n",
    "Cуммарное количество пропусков для столбца event равно нулю, пропущенных значений нет, подозрительных значений не наблюдается. Корректировки вносить не будем. Тип данных не меняем.\n",
    " \n",
    " Данные распределены по событиям:\n",
    "- building (объект построен) = 127956 значений\n",
    "- finished_stage_1 (первый уровень завершён) = 5817 значений\n",
    "- project (проект завершён) = 1866 значений\n",
    "\n",
    "Уникальные пользователи распределены по событиям:\n",
    "- building (объект построен) = 13576 пользователей\n",
    "- finished_stage_1 (первый уровень завершён) = 5817 пользователей\n",
    "- project (проект завершён) = 1866 пользователей\n",
    "\n",
    "По условию задачи в датасете представлены данные по игре пользователей на первом уровне, и завершение первого уровня требует от игрока выполнения одного из двух условий: \"победа над первым врагом\" или\n",
    "\"реализация проекта\" - разработка орбитальной сборки спутников. Целевое событие - завершение первого уровня \n",
    "\n",
    "_Таким образом, первый уровень завершён у 5817 пользователей. Процент завершивших первый уровень составляет 42.85%. Из них 1866 пользователей завершили уровень через реализацию проекта (разработку орбитальной сборки спутников). А 5817 - 1866 = 3951 завершили уровень через победу над первым врагом. Т.е. способ прохождения уровня через победу над врагом пользователи предпочитают больше, чем разработку орбитальной сборки спутников._"
   ]
  },
  {
   "cell_type": "code",
   "execution_count": 14,
   "metadata": {},
   "outputs": [
    {
     "name": "stdout",
     "output_type": "stream",
     "text": [
      "Cуммарное количество пропусков для столбца building_type:\n",
      "7683\n"
     ]
    }
   ],
   "source": [
    "#получим суммарное количество пропусков для столбца\n",
    "\n",
    "print('Cуммарное количество пропусков для столбца building_type:')\n",
    "print(game_actions['building_type'].isnull().sum())"
   ]
  },
  {
   "cell_type": "code",
   "execution_count": 15,
   "metadata": {},
   "outputs": [
    {
     "name": "stdout",
     "output_type": "stream",
     "text": [
      "Уникальные значения в столбце building_type:\n",
      "spaceport          59325\n",
      "assembly_shop      54494\n",
      "research_center    14137\n",
      "Name: building_type, dtype: int64\n"
     ]
    },
    {
     "data": {
      "text/html": [
       "<div>\n",
       "<style scoped>\n",
       "    .dataframe tbody tr th:only-of-type {\n",
       "        vertical-align: middle;\n",
       "    }\n",
       "\n",
       "    .dataframe tbody tr th {\n",
       "        vertical-align: top;\n",
       "    }\n",
       "\n",
       "    .dataframe thead th {\n",
       "        text-align: right;\n",
       "    }\n",
       "</style>\n",
       "<table border=\"1\" class=\"dataframe\">\n",
       "  <thead>\n",
       "    <tr style=\"text-align: right;\">\n",
       "      <th></th>\n",
       "      <th>building_type</th>\n",
       "      <th>user_id</th>\n",
       "    </tr>\n",
       "  </thead>\n",
       "  <tbody>\n",
       "    <tr>\n",
       "      <th>0</th>\n",
       "      <td>assembly_shop</td>\n",
       "      <td>13576</td>\n",
       "    </tr>\n",
       "    <tr>\n",
       "      <th>2</th>\n",
       "      <td>spaceport</td>\n",
       "      <td>13231</td>\n",
       "    </tr>\n",
       "    <tr>\n",
       "      <th>1</th>\n",
       "      <td>research_center</td>\n",
       "      <td>7671</td>\n",
       "    </tr>\n",
       "  </tbody>\n",
       "</table>\n",
       "</div>"
      ],
      "text/plain": [
       "     building_type  user_id\n",
       "0    assembly_shop    13576\n",
       "2        spaceport    13231\n",
       "1  research_center     7671"
      ]
     },
     "execution_count": 15,
     "metadata": {},
     "output_type": "execute_result"
    }
   ],
   "source": [
    "# выделим уникальные значения в столбце\n",
    "# посмотрим на их рааспределение \n",
    "\n",
    "print('Уникальные значения в столбце building_type:')\n",
    "print(game_actions['building_type'].value_counts())\n",
    "\n",
    "building_type_user_id = game_actions.groupby('building_type').agg({'user_id':'nunique'}).reset_index().sort_values(by = 'user_id', ascending = False)\n",
    "building_type_user_id"
   ]
  },
  {
   "cell_type": "code",
   "execution_count": 16,
   "metadata": {},
   "outputs": [
    {
     "data": {
      "image/png": "[encoded data removed]",
      "text/plain": [
       "<Figure size 1080x504 with 1 Axes>"
      ]
     },
     "metadata": {
      "needs_background": "light"
     },
     "output_type": "display_data"
    }
   ],
   "source": [
    "# построим график распределения уникальных пользователей\n",
    "\n",
    "plt.figure(figsize=(15,7))\n",
    "ax = sns.barplot(data= building_type_user_id, x='building_type', y='user_id')\n",
    "plt.suptitle('Распределение уникальных пользователей по типам зданий')\n",
    "plt.xlabel('Событие')\n",
    "plt.ylabel('Количество уникальных пользователей')\n",
    "sns.set_palette('dark') \n",
    "\n",
    "# добавим подписи\n",
    "\n",
    "for p in ax.patches:\n",
    "    height = p.get_height()\n",
    "    ax.text(p.get_x()+p.get_width()/2.,\n",
    "            height + 100,\n",
    "            '{:1.0f}'.format(height),\n",
    "            ha=\"center\")"
   ]
  },
  {
   "cell_type": "raw",
   "metadata": {},
   "source": [
    "Вывод\n",
    "\n",
    "Суммарное количество пропусков для столбца building_type равно 7683.(Корректировки вносить не будем, тип данных не меняем)\n",
    "\n",
    "Распределение данных по типам зданий:\n",
    "- spaceport (космопорт) = 59325 значений\n",
    "- assembly_shop (сборочный цех) = 54494 значения\n",
    "- research_center (исследовательский центр) = 14137 значений\n",
    "\n",
    "Распределение уникальных пользователей по типам зданий:\n",
    "- spaceport (космопорт) = 13576 пользователей\n",
    "- assembly_shop (сборочный цех) = 13231 пользователь\n",
    "- research_center (исследовательский центр) = 7671 пользователь"
   ]
  },
  {
   "cell_type": "markdown",
   "metadata": {},
   "source": [
    "**Столбец user_id - идентификатор пользователя**"
   ]
  },
  {
   "cell_type": "code",
   "execution_count": 17,
   "metadata": {},
   "outputs": [
    {
     "name": "stdout",
     "output_type": "stream",
     "text": [
      "Cуммарное количество пропусков для столбца user_id:\n",
      "0\n"
     ]
    }
   ],
   "source": [
    "#получим суммарное количество пропусков для столбца\n",
    "\n",
    "print('Cуммарное количество пропусков для столбца user_id:')\n",
    "print(game_actions['user_id'].isnull().sum())"
   ]
  },
  {
   "cell_type": "markdown",
   "metadata": {},
   "source": [
    "Вывод\n",
    "\n",
    "Cуммарное количество пропусков для столбца user_id равно нулю, пропущенных значений нет.\n",
    "Из destribe() game_action можем вывести:\n",
    "- Количество уникальных пользователей - 13576.\n",
    "- наиболее частое число уникальных событий в столбце - 22."
   ]
  },
  {
   "cell_type": "markdown",
   "metadata": {},
   "source": [
    "**Столбец project_type - тип реализованного проекта**"
   ]
  },
  {
   "cell_type": "code",
   "execution_count": 18,
   "metadata": {},
   "outputs": [
    {
     "name": "stdout",
     "output_type": "stream",
     "text": [
      "Cуммарное количество пропусков для столбца project_type:\n",
      "133773\n"
     ]
    }
   ],
   "source": [
    "# получим суммарное количество пропусков для столбца\n",
    "\n",
    "print('Cуммарное количество пропусков для столбца project_type:')\n",
    "print(game_actions['project_type'].isnull().sum())"
   ]
  },
  {
   "cell_type": "markdown",
   "metadata": {},
   "source": [
    "Вывод\n",
    "\n",
    "Cуммарное количество пропусков для столбца project_type равно 133773.(Корректировки вносить не будем, тип данных не меняем.)\n",
    "\n",
    "Из destribe() game_action видим в столбце только один тип реализованного объекта:\n",
    "- satellite_orbital_assembly (разработка орбитальной сборки спутников) = 1866."
   ]
  },
  {
   "cell_type": "markdown",
   "metadata": {},
   "source": [
    "##### Таблица ad_costs с информацией о рекламных активностях"
   ]
  },
  {
   "cell_type": "code",
   "execution_count": 19,
   "metadata": {},
   "outputs": [
    {
     "data": {
      "text/html": [
       "<div>\n",
       "<style scoped>\n",
       "    .dataframe tbody tr th:only-of-type {\n",
       "        vertical-align: middle;\n",
       "    }\n",
       "\n",
       "    .dataframe tbody tr th {\n",
       "        vertical-align: top;\n",
       "    }\n",
       "\n",
       "    .dataframe thead th {\n",
       "        text-align: right;\n",
       "    }\n",
       "</style>\n",
       "<table border=\"1\" class=\"dataframe\">\n",
       "  <thead>\n",
       "    <tr style=\"text-align: right;\">\n",
       "      <th></th>\n",
       "      <th>source</th>\n",
       "      <th>day</th>\n",
       "      <th>cost</th>\n",
       "    </tr>\n",
       "  </thead>\n",
       "  <tbody>\n",
       "    <tr>\n",
       "      <th>0</th>\n",
       "      <td>facebook_ads</td>\n",
       "      <td>2020-05-03</td>\n",
       "      <td>935.882786</td>\n",
       "    </tr>\n",
       "    <tr>\n",
       "      <th>1</th>\n",
       "      <td>facebook_ads</td>\n",
       "      <td>2020-05-04</td>\n",
       "      <td>548.354480</td>\n",
       "    </tr>\n",
       "    <tr>\n",
       "      <th>2</th>\n",
       "      <td>facebook_ads</td>\n",
       "      <td>2020-05-05</td>\n",
       "      <td>260.185754</td>\n",
       "    </tr>\n",
       "    <tr>\n",
       "      <th>3</th>\n",
       "      <td>facebook_ads</td>\n",
       "      <td>2020-05-06</td>\n",
       "      <td>177.982200</td>\n",
       "    </tr>\n",
       "    <tr>\n",
       "      <th>4</th>\n",
       "      <td>facebook_ads</td>\n",
       "      <td>2020-05-07</td>\n",
       "      <td>111.766796</td>\n",
       "    </tr>\n",
       "  </tbody>\n",
       "</table>\n",
       "</div>"
      ],
      "text/plain": [
       "         source         day        cost\n",
       "0  facebook_ads  2020-05-03  935.882786\n",
       "1  facebook_ads  2020-05-04  548.354480\n",
       "2  facebook_ads  2020-05-05  260.185754\n",
       "3  facebook_ads  2020-05-06  177.982200\n",
       "4  facebook_ads  2020-05-07  111.766796"
      ]
     },
     "execution_count": 19,
     "metadata": {},
     "output_type": "execute_result"
    }
   ],
   "source": [
    "# распечатаем таблицу с расходами\n",
    "ad_costs.head()"
   ]
  },
  {
   "cell_type": "markdown",
   "metadata": {},
   "source": [
    "**Столбец source - источник трафика**"
   ]
  },
  {
   "cell_type": "code",
   "execution_count": 20,
   "metadata": {},
   "outputs": [
    {
     "name": "stdout",
     "output_type": "stream",
     "text": [
      "Cуммарное количество пропусков для столбца source:\n",
      "0\n"
     ]
    }
   ],
   "source": [
    "#получим суммарное количество пропусков для столбца\n",
    "\n",
    "print('Cуммарное количество пропусков для столбца source:')\n",
    "print(ad_costs['source'].isnull().sum())"
   ]
  },
  {
   "cell_type": "code",
   "execution_count": 21,
   "metadata": {},
   "outputs": [
    {
     "name": "stdout",
     "output_type": "stream",
     "text": [
      "Уникальные значения в столбце source:\n",
      "yandex_direct              7\n",
      "facebook_ads               7\n",
      "instagram_new_adverts      7\n",
      "youtube_channel_reklama    7\n",
      "Name: source, dtype: int64\n"
     ]
    }
   ],
   "source": [
    "#выделим уникальные значения в столбце\n",
    "\n",
    "print('Уникальные значения в столбце source:')\n",
    "print(ad_costs['source'].value_counts())"
   ]
  },
  {
   "cell_type": "markdown",
   "metadata": {},
   "source": [
    "Вывод\n",
    "\n",
    "Cуммарное количество пропусков для столбца source равно нулю.\n",
    "\n",
    "Уникальные источники трафика:\n",
    "- yandex_direct = 7\n",
    "- instagram_new_adverts = 7\n",
    "- youtube_channel_reklama = 7\n",
    "- facebook_ads = 7"
   ]
  },
  {
   "cell_type": "markdown",
   "metadata": {},
   "source": [
    "**Столбец day - день, в который был совершен клик по объявлению**"
   ]
  },
  {
   "cell_type": "code",
   "execution_count": 22,
   "metadata": {},
   "outputs": [
    {
     "name": "stdout",
     "output_type": "stream",
     "text": [
      "Cуммарное количество пропусков для столбца day:\n",
      "0\n"
     ]
    }
   ],
   "source": [
    "# получим суммарное количество пропусков для столбца\n",
    "\n",
    "print('Cуммарное количество пропусков для столбца day:')\n",
    "print(ad_costs['day'].isnull().sum())"
   ]
  },
  {
   "cell_type": "code",
   "execution_count": 23,
   "metadata": {},
   "outputs": [],
   "source": [
    "# скорректируем формат отображения дат для столбца\n",
    "\n",
    "ad_costs['day'] = pd.to_datetime(ad_costs['day'], format='%Y-%m-%d')"
   ]
  },
  {
   "cell_type": "code",
   "execution_count": 24,
   "metadata": {},
   "outputs": [
    {
     "name": "stdout",
     "output_type": "stream",
     "text": [
      "count                      28\n",
      "unique                      7\n",
      "top       2020-05-05 00:00:00\n",
      "freq                        4\n",
      "first     2020-05-03 00:00:00\n",
      "last      2020-05-09 00:00:00\n",
      "Name: day, dtype: object\n"
     ]
    }
   ],
   "source": [
    "# получим числовое описание данных (список характерных значений) для столбца через describe()\n",
    "\n",
    "print(ad_costs['day'].describe())"
   ]
  },
  {
   "cell_type": "markdown",
   "metadata": {},
   "source": [
    "Вывод\n",
    "\n",
    "Cуммарное количество пропусков для столбца day равно нулю.\n",
    "\n",
    "Количество уникальных значений в столбце = 7.\n",
    "\n",
    "Период, за который представлены данные в столбце, - с 3 мая по 9 мая 2020 включительно."
   ]
  },
  {
   "cell_type": "markdown",
   "metadata": {},
   "source": [
    "**Столбец cost - стоимость кликов**"
   ]
  },
  {
   "cell_type": "code",
   "execution_count": 25,
   "metadata": {},
   "outputs": [
    {
     "name": "stdout",
     "output_type": "stream",
     "text": [
      "Cуммарное количество пропусков для столбца cost:\n",
      "0\n"
     ]
    }
   ],
   "source": [
    "# получим суммарное количество пропусков для столбца\n",
    "\n",
    "print('Cуммарное количество пропусков для столбца cost:')\n",
    "print(ad_costs['cost'].isnull().sum())"
   ]
  },
  {
   "cell_type": "code",
   "execution_count": 26,
   "metadata": {},
   "outputs": [
    {
     "name": "stdout",
     "output_type": "stream",
     "text": [
      "count     28.000000\n",
      "mean     271.556321\n",
      "std      286.867650\n",
      "min       23.314669\n",
      "25%       66.747365\n",
      "50%      160.056443\n",
      "75%      349.034473\n",
      "max      969.139394\n",
      "Name: cost, dtype: float64\n"
     ]
    }
   ],
   "source": [
    "# получим числовое описание данных (список характерных значений) для столбца  через describe()\n",
    "\n",
    "print(ad_costs['cost'].describe())"
   ]
  },
  {
   "cell_type": "code",
   "execution_count": 27,
   "metadata": {},
   "outputs": [
    {
     "data": {
      "image/png": "[encoded data removed]",
      "text/plain": [
       "<Figure size 1080x504 with 1 Axes>"
      ]
     },
     "metadata": {
      "needs_background": "light"
     },
     "output_type": "display_data"
    }
   ],
   "source": [
    "# построим гистограмму для параметра стоимость кликов\n",
    "\n",
    "ad_costs.hist('cost', figsize=(15,7), bins = 'auto')\n",
    "plt.suptitle('Гистограмма для параметра \"Стоимость кликов\"')\n",
    "plt.xlabel('Стоимость кликов')\n",
    "plt.show()"
   ]
  },
  {
   "cell_type": "code",
   "execution_count": 28,
   "metadata": {},
   "outputs": [
    {
     "data": {
      "text/html": [
       "<div>\n",
       "<style scoped>\n",
       "    .dataframe tbody tr th:only-of-type {\n",
       "        vertical-align: middle;\n",
       "    }\n",
       "\n",
       "    .dataframe tbody tr th {\n",
       "        vertical-align: top;\n",
       "    }\n",
       "\n",
       "    .dataframe thead th {\n",
       "        text-align: right;\n",
       "    }\n",
       "</style>\n",
       "<table border=\"1\" class=\"dataframe\">\n",
       "  <thead>\n",
       "    <tr style=\"text-align: right;\">\n",
       "      <th></th>\n",
       "      <th>source</th>\n",
       "      <th>cost</th>\n",
       "    </tr>\n",
       "  </thead>\n",
       "  <tbody>\n",
       "    <tr>\n",
       "      <th>2</th>\n",
       "      <td>yandex_direct</td>\n",
       "      <td>2233.111449</td>\n",
       "    </tr>\n",
       "    <tr>\n",
       "      <th>1</th>\n",
       "      <td>instagram_new_adverts</td>\n",
       "      <td>2161.441691</td>\n",
       "    </tr>\n",
       "    <tr>\n",
       "      <th>0</th>\n",
       "      <td>facebook_ads</td>\n",
       "      <td>2140.904643</td>\n",
       "    </tr>\n",
       "    <tr>\n",
       "      <th>3</th>\n",
       "      <td>youtube_channel_reklama</td>\n",
       "      <td>1068.119204</td>\n",
       "    </tr>\n",
       "  </tbody>\n",
       "</table>\n",
       "</div>"
      ],
      "text/plain": [
       "                    source         cost\n",
       "2            yandex_direct  2233.111449\n",
       "1    instagram_new_adverts  2161.441691\n",
       "0             facebook_ads  2140.904643\n",
       "3  youtube_channel_reklama  1068.119204"
      ]
     },
     "execution_count": 28,
     "metadata": {},
     "output_type": "execute_result"
    }
   ],
   "source": [
    "# посмотрим, как распределена стоимость по источникам трафика\n",
    "\n",
    "source_cost = ad_costs.groupby('source').agg({'cost':'sum'}).reset_index().sort_values(by = 'cost', ascending = False)\n",
    "source_cost"
   ]
  },
  {
   "cell_type": "code",
   "execution_count": 29,
   "metadata": {},
   "outputs": [
    {
     "data": {
      "image/png": "[encoded data removed]",
      "text/plain": [
       "<Figure size 1080x504 with 1 Axes>"
      ]
     },
     "metadata": {
      "needs_background": "light"
     },
     "output_type": "display_data"
    }
   ],
   "source": [
    "# построим график распределения стоимости по источникам трафика\n",
    "\n",
    "plt.figure(figsize=(15,7))\n",
    "ax = sns.barplot(data= source_cost, x='source', y='cost')\n",
    "plt.suptitle('Распределение стоимости по источникам трафика')\n",
    "plt.xlabel('Источник трафика')\n",
    "plt.ylabel('Суммарная стоимость')\n",
    "sns.set_palette('dark') \n",
    "\n",
    "#добавим подписи\n",
    "\n",
    "for p in ax.patches:\n",
    "    height = p.get_height()\n",
    "    ax.text(p.get_x()+p.get_width()/2.,\n",
    "            height + 50,\n",
    "            '{:1.2f}'.format(height),\n",
    "            ha=\"center\")"
   ]
  },
  {
   "cell_type": "markdown",
   "metadata": {},
   "source": [
    "Вывод\n",
    "\n",
    "Cуммарное количество пропусков для столбца cost равно нулю.\n",
    "\n",
    "Количество уникальных значений в столбце = 28.\n",
    "- Максимальная стоимость кликов = 969.13\n",
    "- Минимальная стоимость кликов = 23.31\n",
    "- Среднее значение стоимости кликов = 271.55\n",
    "- Медианное значение стоимости кликов = 160.05\n",
    "\n",
    "Распределение стоимости кликов по источникам трафика:\n",
    "- yandex_direct = 2233.11\n",
    "- instagram_new_adverts = 2161.44\n",
    "- facebook_ads = 2140.90\n",
    "- youtube_channel_reklama = 1068.11\n",
    "\n",
    "_Таким образом, наибольший дневной бюджет канала приходится на источник трафика yandex_direct, на втором месте instagram_new_adverts, на третьем месте facebook_ads, а меньше всего - на youtube_channel_reklama._"
   ]
  },
  {
   "cell_type": "markdown",
   "metadata": {},
   "source": [
    "##### Таблица user_source с информацией о рекламных активностях"
   ]
  },
  {
   "cell_type": "code",
   "execution_count": 30,
   "metadata": {},
   "outputs": [
    {
     "data": {
      "text/html": [
       "<div>\n",
       "<style scoped>\n",
       "    .dataframe tbody tr th:only-of-type {\n",
       "        vertical-align: middle;\n",
       "    }\n",
       "\n",
       "    .dataframe tbody tr th {\n",
       "        vertical-align: top;\n",
       "    }\n",
       "\n",
       "    .dataframe thead th {\n",
       "        text-align: right;\n",
       "    }\n",
       "</style>\n",
       "<table border=\"1\" class=\"dataframe\">\n",
       "  <thead>\n",
       "    <tr style=\"text-align: right;\">\n",
       "      <th></th>\n",
       "      <th>user_id</th>\n",
       "      <th>source</th>\n",
       "    </tr>\n",
       "  </thead>\n",
       "  <tbody>\n",
       "    <tr>\n",
       "      <th>count</th>\n",
       "      <td>13576</td>\n",
       "      <td>13576</td>\n",
       "    </tr>\n",
       "    <tr>\n",
       "      <th>unique</th>\n",
       "      <td>13576</td>\n",
       "      <td>4</td>\n",
       "    </tr>\n",
       "    <tr>\n",
       "      <th>top</th>\n",
       "      <td>bd193431-316f-473c-8be6-ee8683ef2516</td>\n",
       "      <td>yandex_direct</td>\n",
       "    </tr>\n",
       "    <tr>\n",
       "      <th>freq</th>\n",
       "      <td>1</td>\n",
       "      <td>4817</td>\n",
       "    </tr>\n",
       "  </tbody>\n",
       "</table>\n",
       "</div>"
      ],
      "text/plain": [
       "                                     user_id         source\n",
       "count                                  13576          13576\n",
       "unique                                 13576              4\n",
       "top     bd193431-316f-473c-8be6-ee8683ef2516  yandex_direct\n",
       "freq                                       1           4817"
      ]
     },
     "execution_count": 30,
     "metadata": {},
     "output_type": "execute_result"
    }
   ],
   "source": [
    "# распечатаем таблицу сс помощью deacribe()\n",
    "\n",
    "user_source.describe()"
   ]
  },
  {
   "cell_type": "markdown",
   "metadata": {},
   "source": [
    "**Столбец user_id - идентификатор пользователя**"
   ]
  },
  {
   "cell_type": "code",
   "execution_count": 31,
   "metadata": {},
   "outputs": [
    {
     "name": "stdout",
     "output_type": "stream",
     "text": [
      "Cуммарное количество пропусков для столбца user_id:\n",
      "0\n"
     ]
    }
   ],
   "source": [
    "# проверим количество пропусков для столбца\n",
    "\n",
    "print('Cуммарное количество пропусков для столбца user_id:')\n",
    "print(user_source['user_id'].isnull().sum())"
   ]
  },
  {
   "cell_type": "markdown",
   "metadata": {},
   "source": [
    "Cуммарное количество пропусков для столбца user_id равно нулю.\n",
    "\n",
    "Количество уникальных пользователей - 13576."
   ]
  },
  {
   "cell_type": "markdown",
   "metadata": {},
   "source": [
    "**Столбец source - источник, с которого пришёл пользователь, установивший приложение**"
   ]
  },
  {
   "cell_type": "code",
   "execution_count": 32,
   "metadata": {},
   "outputs": [
    {
     "name": "stdout",
     "output_type": "stream",
     "text": [
      "Уникальные значения в столбце source:\n",
      "yandex_direct              4817\n",
      "instagram_new_adverts      3347\n",
      "facebook_ads               2726\n",
      "youtube_channel_reklama    2686\n",
      "Name: source, dtype: int64\n"
     ]
    },
    {
     "data": {
      "text/html": [
       "<div>\n",
       "<style scoped>\n",
       "    .dataframe tbody tr th:only-of-type {\n",
       "        vertical-align: middle;\n",
       "    }\n",
       "\n",
       "    .dataframe tbody tr th {\n",
       "        vertical-align: top;\n",
       "    }\n",
       "\n",
       "    .dataframe thead th {\n",
       "        text-align: right;\n",
       "    }\n",
       "</style>\n",
       "<table border=\"1\" class=\"dataframe\">\n",
       "  <thead>\n",
       "    <tr style=\"text-align: right;\">\n",
       "      <th></th>\n",
       "      <th>source</th>\n",
       "      <th>user_id</th>\n",
       "    </tr>\n",
       "  </thead>\n",
       "  <tbody>\n",
       "    <tr>\n",
       "      <th>2</th>\n",
       "      <td>yandex_direct</td>\n",
       "      <td>4817</td>\n",
       "    </tr>\n",
       "    <tr>\n",
       "      <th>1</th>\n",
       "      <td>instagram_new_adverts</td>\n",
       "      <td>3347</td>\n",
       "    </tr>\n",
       "    <tr>\n",
       "      <th>0</th>\n",
       "      <td>facebook_ads</td>\n",
       "      <td>2726</td>\n",
       "    </tr>\n",
       "    <tr>\n",
       "      <th>3</th>\n",
       "      <td>youtube_channel_reklama</td>\n",
       "      <td>2686</td>\n",
       "    </tr>\n",
       "  </tbody>\n",
       "</table>\n",
       "</div>"
      ],
      "text/plain": [
       "                    source  user_id\n",
       "2            yandex_direct     4817\n",
       "1    instagram_new_adverts     3347\n",
       "0             facebook_ads     2726\n",
       "3  youtube_channel_reklama     2686"
      ]
     },
     "execution_count": 32,
     "metadata": {},
     "output_type": "execute_result"
    }
   ],
   "source": [
    "# выделим уникальные значения в столбце\n",
    "#посмотрим, как распределены уникальные пользователи\n",
    "print('Уникальные значения в столбце source:')\n",
    "print(user_source['source'].value_counts())\n",
    "\n",
    "source_user_id = user_source.groupby('source').agg({'user_id':'nunique'}).reset_index().sort_values(by = 'user_id', ascending = False)\n",
    "source_user_id"
   ]
  },
  {
   "cell_type": "code",
   "execution_count": 33,
   "metadata": {},
   "outputs": [
    {
     "data": {
      "image/png": "[encoded data removed]",
      "text/plain": [
       "<Figure size 1080x504 with 1 Axes>"
      ]
     },
     "metadata": {
      "needs_background": "light"
     },
     "output_type": "display_data"
    }
   ],
   "source": [
    "# построим график распределения стоимости по источникам трафика\n",
    "\n",
    "plt.figure(figsize=(15,7))\n",
    "ax = sns.barplot(data= source_user_id, x='source', y='user_id')\n",
    "plt.suptitle('Распределение уникальных пользователей по источникам трафика')\n",
    "plt.xlabel('Источник трафика')\n",
    "plt.ylabel('Количество уникальных пользователей')\n",
    "sns.set_palette('dark') \n",
    "\n",
    "#добавим подписи\n",
    "\n",
    "for p in ax.patches:\n",
    "    height = p.get_height()\n",
    "    ax.text(p.get_x()+p.get_width()/2.,\n",
    "            height + 50,\n",
    "            '{:1.0f}'.format(height),\n",
    "            ha=\"center\")"
   ]
  },
  {
   "cell_type": "markdown",
   "metadata": {},
   "source": [
    "Вывод \n",
    "\n",
    "Cуммарное количество пропусков для столбца source равно нулю.\n",
    "\n",
    "Распределение уникальных пользователей по источникам трафика:\n",
    "- yandex_direct = 4817 пользователей\n",
    "- instagram_new_adverts = 3347 пользователей\n",
    "- facebook_ads = 2726 пользователей\n",
    "- youtube_channel_reklama = 2686 пользователей.\n",
    "\n",
    "Аналогично распределению стоимости кликов, больше всего пользователей приходится на источник трафика yandex_direct, на втором месте instagram_new_adverts, на третьем месте facebook_ads, а меньше всего - на youtube_channel_reklama."
   ]
  },
  {
   "cell_type": "markdown",
   "metadata": {},
   "source": [
    "**Вывод**:\n",
    "\n",
    "В качестве исходных данных были предоставлен датасет с данными первых пользователей приложения и два дополнительных датасета с информацией о рекламных активностях.Целевое событие - завершение первого уровня.\n",
    "\n",
    "На данном шаге открыли файлы с исходными данными и изучили общую информацию по каждой таблице. Проверили таблицы на наличие\n",
    "- Дубликаты - обнаружены в таблице game_actions составляет 1, исключен.  \n",
    "- Пропуски - обнаружены лишь в столбцаз project_type равно 133773, building_type - 7683.Пропуски не зполняли.\n",
    "\n",
    "**Таблица `game_actions`:**\n",
    "\n",
    "- Столбец event_datetime - время события\n",
    "\n",
    "Период, за который представлены данные в столбце, - с 4 мая по 5 июня включительно:\n",
    "\n",
    "    - Максимальное значение даты и времени - 2020-05-04 00:00:01\n",
    "    - Максимальное значение даты и времени - 2020-06-05 12:32:49\n",
    "\n",
    "При этом по условию задачи сказано, что в датасете содержатся данные первых пользователей приложения — когорты пользователей, которые начали пользоваться приложением в период с 4 по 10 мая включительно.\n",
    "\n",
    "- Столбец event - событие\n",
    "\n",
    "Распределение данных по событиям:\n",
    "\n",
    "    - building (объект построен) = 127956 значений\n",
    "    - finished_stage_1 (первый уровень завершён) = 5817 значений\n",
    "    - project (проект завершён) = 1866 значений\n",
    "\n",
    "Распределение уникальных пользователей по следующим событиям:\n",
    "\n",
    "    - building (объект построен) = 13576 пользователей\n",
    "    - finished_stage_1 (первый уровень завершён) = 5817 пользователей\n",
    "    - project (проект завершён) = 1866 пользователей\n",
    "\n",
    "По условию задачи в датасете представлены данные по игре пользователей на первом уровне, и завершение первого уровня требует от игрока выполнения одного из двух условий: \"победа над первым врагом\" или\n",
    "\"реализация проекта\" - разработка орбитальной сборки спутников\n",
    "Целевое событие - завершение первого уровня. \n",
    "\n",
    "_Таким образом, первый уровень завершён finished_stage_1 у 5817 пользователей. Процент завершивших первый уровень составляет 42.85%. Из них 1866 пользователей завершили уровень через реализацию проекта project (разработку орбитальной сборки спутников). А 5817 - 1866 = 3951 завершили уровень через победу над первым врагом. Т.е. способ прохождения уровня через победу над врагом пользователи предпочитают больше, чем разработку орбитальной сборки спутников._\n",
    "\n",
    "- Столбец building_type - тип здания\n",
    "\n",
    "Здесь идет аспределение данных по типам зданий:\n",
    "\n",
    "    - spaceport (космопорт) = 59325 значений\n",
    "    - assembly_shop (сборочный цех) = 54494 значения\n",
    "    - research_center (исследовательский центр) = 14137 значений\n",
    "\n",
    "Также аспределение уникальные пользователи по типам зданий:\n",
    "\n",
    "    - spaceport (космопорт) = 13576 пользователей\n",
    "    - assembly_shop (сборочный цех) = 13231 пользователь\n",
    "    - research_center (исследовательский центр) = 7671 пользователь\n",
    "\n",
    "- Столбец user_id - идентификатор пользователя\n",
    "\n",
    "Количество уникальных пользователей - 13576.\n",
    "\n",
    "- Столбец project_type - тип реализованного проекта.В столбце представлен только один тип реализованного объекта - satellite_orbital_assembly (разработка орбитальной сборки спутников) = 1866\n",
    "\n",
    "**Таблица `game_actions`:**\n",
    "\n",
    "- Столбец source - источник трафика\n",
    "\n",
    "Уникальные источники трафика:\n",
    "\n",
    "yandex_direct = 7,instagram_new_adverts = 7,youtube_channel_reklama = 7,facebook_ads = 7\n",
    "\n",
    "- Столбец day - день, в который был совершен клик по объявлению\n",
    "\n",
    "Количество уникальных значений в столбце = 7.\n",
    "\n",
    "Период, за который представлены данные в столбце, - с 3 мая по 9 мая 2020 включительно:\n",
    "\n",
    "    - Максимальное значение даты и времени - 2020-05-03\n",
    "    - Максимальное значение даты и времени - 2020-05-09\n",
    "\n",
    "Столбец cost - стоимость кликов\n",
    "\n",
    "    - Максимальная стоимость кликов = 969.13\n",
    "    - Минимальная стоимость кликов = 23.31\n",
    "    - Среднее значение стоимости кликов = 271.55\n",
    "    - Медианное значение стоимости кликов = 160.05\n",
    "\n",
    "Распределение стоимости кликов по источникам трафика:\n",
    "\n",
    "    - yandex_direct = 2233.11\n",
    "    - instagram_new_adverts = 2161.44\n",
    "    - facebook_ads = 2140.90\n",
    "    - youtube_channel_reklama = 1068.11\n",
    "\n",
    "_Таким образом, наибольший дневной бюджет канала приходится на источник трафика yandex_direct, на втором месте instagram_new_adverts, на третьем месте facebook_ads, а меньше всего - на youtube_channel_reklama._\n",
    "\n",
    "**Таблица `user_source`:**\n",
    "\n",
    "- Столбец user_id - идентификатор пользователя\n",
    "\n",
    "Количество уникальных пользователей - 13576.\n",
    "\n",
    "- Столбец source - источник, с которого пришёл пользователь, установивший приложение\n",
    "\n",
    "Распределение уникальных пользователей по источникам трафика:\n",
    "\n",
    "    - yandex_direct = 4817 пользователей\n",
    "    - instagram_new_adverts = 3347 пользователей\n",
    "    - facebook_ads = 2726 пользователей\n",
    "    - youtube_channel_reklama = 2686 пользователей\n",
    "\n",
    "_Аналогично распределению стоимости кликов, больше всего пользователей приходится на источник трафика yandex_direct, на втором месте instagram_new_adverts, на третьем месте facebook_ads, а меньше всего - на youtube_channel_reklama._\n",
    "\n",
    "Данные готовы к исследованию."
   ]
  },
  {
   "cell_type": "markdown",
   "metadata": {},
   "source": [
    "### Шаг 2. Исследовательский анализ данных"
   ]
  },
  {
   "cell_type": "markdown",
   "metadata": {},
   "source": [
    "На данном этапе разделим данные для анализа все по нужным датафреймам, добавим нужные функции для работы с будущем."
   ]
  },
  {
   "cell_type": "markdown",
   "metadata": {},
   "source": [
    "#### Среднее время прохождения уровня"
   ]
  },
  {
   "cell_type": "code",
   "execution_count": 34,
   "metadata": {},
   "outputs": [
    {
     "data": {
      "text/html": [
       "<div>\n",
       "<style scoped>\n",
       "    .dataframe tbody tr th:only-of-type {\n",
       "        vertical-align: middle;\n",
       "    }\n",
       "\n",
       "    .dataframe tbody tr th {\n",
       "        vertical-align: top;\n",
       "    }\n",
       "\n",
       "    .dataframe thead th {\n",
       "        text-align: right;\n",
       "    }\n",
       "</style>\n",
       "<table border=\"1\" class=\"dataframe\">\n",
       "  <thead>\n",
       "    <tr style=\"text-align: right;\">\n",
       "      <th></th>\n",
       "      <th>event_datetime</th>\n",
       "      <th>event</th>\n",
       "      <th>building_type</th>\n",
       "      <th>user_id</th>\n",
       "      <th>project_type</th>\n",
       "      <th>event_date</th>\n",
       "      <th>event_week</th>\n",
       "    </tr>\n",
       "  </thead>\n",
       "  <tbody>\n",
       "    <tr>\n",
       "      <th>47121</th>\n",
       "      <td>2020-05-08 18:10:25</td>\n",
       "      <td>project</td>\n",
       "      <td>NaN</td>\n",
       "      <td>e3c66498-9d45-4000-9392-f81e6796e7da</td>\n",
       "      <td>satellite_orbital_assembly</td>\n",
       "      <td>2020-05-08</td>\n",
       "      <td>19</td>\n",
       "    </tr>\n",
       "    <tr>\n",
       "      <th>57398</th>\n",
       "      <td>2020-05-09 13:49:11</td>\n",
       "      <td>project</td>\n",
       "      <td>NaN</td>\n",
       "      <td>936e7af6-8338-4703-a1df-fc6c3f5b8e34</td>\n",
       "      <td>satellite_orbital_assembly</td>\n",
       "      <td>2020-05-09</td>\n",
       "      <td>19</td>\n",
       "    </tr>\n",
       "    <tr>\n",
       "      <th>58797</th>\n",
       "      <td>2020-05-09 16:19:33</td>\n",
       "      <td>project</td>\n",
       "      <td>NaN</td>\n",
       "      <td>a4491c86-c498-4f74-a56e-65c136d0e9a1</td>\n",
       "      <td>satellite_orbital_assembly</td>\n",
       "      <td>2020-05-09</td>\n",
       "      <td>19</td>\n",
       "    </tr>\n",
       "    <tr>\n",
       "      <th>61174</th>\n",
       "      <td>2020-05-09 20:29:01</td>\n",
       "      <td>project</td>\n",
       "      <td>NaN</td>\n",
       "      <td>85d9e675-562b-4329-8bbd-14d3b39096be</td>\n",
       "      <td>satellite_orbital_assembly</td>\n",
       "      <td>2020-05-09</td>\n",
       "      <td>19</td>\n",
       "    </tr>\n",
       "    <tr>\n",
       "      <th>63770</th>\n",
       "      <td>2020-05-10 00:57:47</td>\n",
       "      <td>project</td>\n",
       "      <td>NaN</td>\n",
       "      <td>1889ca71-3c57-4e61-9ea6-a711971bbf0a</td>\n",
       "      <td>satellite_orbital_assembly</td>\n",
       "      <td>2020-05-10</td>\n",
       "      <td>19</td>\n",
       "    </tr>\n",
       "  </tbody>\n",
       "</table>\n",
       "</div>"
      ],
      "text/plain": [
       "           event_datetime    event building_type  \\\n",
       "47121 2020-05-08 18:10:25  project           NaN   \n",
       "57398 2020-05-09 13:49:11  project           NaN   \n",
       "58797 2020-05-09 16:19:33  project           NaN   \n",
       "61174 2020-05-09 20:29:01  project           NaN   \n",
       "63770 2020-05-10 00:57:47  project           NaN   \n",
       "\n",
       "                                    user_id                project_type  \\\n",
       "47121  e3c66498-9d45-4000-9392-f81e6796e7da  satellite_orbital_assembly   \n",
       "57398  936e7af6-8338-4703-a1df-fc6c3f5b8e34  satellite_orbital_assembly   \n",
       "58797  a4491c86-c498-4f74-a56e-65c136d0e9a1  satellite_orbital_assembly   \n",
       "61174  85d9e675-562b-4329-8bbd-14d3b39096be  satellite_orbital_assembly   \n",
       "63770  1889ca71-3c57-4e61-9ea6-a711971bbf0a  satellite_orbital_assembly   \n",
       "\n",
       "       event_date  event_week  \n",
       "47121  2020-05-08          19  \n",
       "57398  2020-05-09          19  \n",
       "58797  2020-05-09          19  \n",
       "61174  2020-05-09          19  \n",
       "63770  2020-05-10          19  "
      ]
     },
     "execution_count": 34,
     "metadata": {},
     "output_type": "execute_result"
    }
   ],
   "source": [
    "# отберём пользователей, которые завершили уровень через реализацию проекта\n",
    "\n",
    "user_project = game_actions.query('event == \"project\"')\n",
    "user_project.head()"
   ]
  },
  {
   "cell_type": "code",
   "execution_count": 35,
   "metadata": {},
   "outputs": [],
   "source": [
    "#создадим список пользователей, которые прошли уровень через реализацию проекта\n",
    "\n",
    "user_project = user_project['user_id']\n"
   ]
  },
  {
   "cell_type": "code",
   "execution_count": 36,
   "metadata": {},
   "outputs": [],
   "source": [
    "#создадим новый столбец с вариантом прохождения уровня \"Реализация проекта\"\n",
    "\n",
    "game_actions.loc[game_actions['event'] == \"project\", 'type'] = 'Реализация проекта'\n"
   ]
  },
  {
   "cell_type": "code",
   "execution_count": 37,
   "metadata": {},
   "outputs": [
    {
     "data": {
      "text/html": [
       "<div>\n",
       "<style scoped>\n",
       "    .dataframe tbody tr th:only-of-type {\n",
       "        vertical-align: middle;\n",
       "    }\n",
       "\n",
       "    .dataframe tbody tr th {\n",
       "        vertical-align: top;\n",
       "    }\n",
       "\n",
       "    .dataframe thead th {\n",
       "        text-align: right;\n",
       "    }\n",
       "</style>\n",
       "<table border=\"1\" class=\"dataframe\">\n",
       "  <thead>\n",
       "    <tr style=\"text-align: right;\">\n",
       "      <th></th>\n",
       "      <th>event_datetime</th>\n",
       "      <th>event</th>\n",
       "      <th>building_type</th>\n",
       "      <th>user_id</th>\n",
       "      <th>project_type</th>\n",
       "      <th>event_date</th>\n",
       "      <th>event_week</th>\n",
       "      <th>type</th>\n",
       "    </tr>\n",
       "  </thead>\n",
       "  <tbody>\n",
       "    <tr>\n",
       "      <th>0</th>\n",
       "      <td>2020-05-04 00:00:01</td>\n",
       "      <td>building</td>\n",
       "      <td>assembly_shop</td>\n",
       "      <td>55e92310-cb8e-4754-b622-597e124b03de</td>\n",
       "      <td>NaN</td>\n",
       "      <td>2020-05-04</td>\n",
       "      <td>19</td>\n",
       "      <td>NaN</td>\n",
       "    </tr>\n",
       "    <tr>\n",
       "      <th>1</th>\n",
       "      <td>2020-05-04 00:00:03</td>\n",
       "      <td>building</td>\n",
       "      <td>assembly_shop</td>\n",
       "      <td>c07b1c10-f477-44dc-81dc-ec82254b1347</td>\n",
       "      <td>NaN</td>\n",
       "      <td>2020-05-04</td>\n",
       "      <td>19</td>\n",
       "      <td>NaN</td>\n",
       "    </tr>\n",
       "    <tr>\n",
       "      <th>2</th>\n",
       "      <td>2020-05-04 00:00:16</td>\n",
       "      <td>building</td>\n",
       "      <td>assembly_shop</td>\n",
       "      <td>6edd42cc-e753-4ff6-a947-2107cd560710</td>\n",
       "      <td>NaN</td>\n",
       "      <td>2020-05-04</td>\n",
       "      <td>19</td>\n",
       "      <td>NaN</td>\n",
       "    </tr>\n",
       "    <tr>\n",
       "      <th>3</th>\n",
       "      <td>2020-05-04 00:00:16</td>\n",
       "      <td>building</td>\n",
       "      <td>assembly_shop</td>\n",
       "      <td>92c69003-d60a-444a-827f-8cc51bf6bf4c</td>\n",
       "      <td>NaN</td>\n",
       "      <td>2020-05-04</td>\n",
       "      <td>19</td>\n",
       "      <td>NaN</td>\n",
       "    </tr>\n",
       "    <tr>\n",
       "      <th>4</th>\n",
       "      <td>2020-05-04 00:00:35</td>\n",
       "      <td>building</td>\n",
       "      <td>assembly_shop</td>\n",
       "      <td>cdc6bb92-0ccb-4490-9866-ef142f09139d</td>\n",
       "      <td>NaN</td>\n",
       "      <td>2020-05-04</td>\n",
       "      <td>19</td>\n",
       "      <td>NaN</td>\n",
       "    </tr>\n",
       "  </tbody>\n",
       "</table>\n",
       "</div>"
      ],
      "text/plain": [
       "       event_datetime     event  building_type  \\\n",
       "0 2020-05-04 00:00:01  building  assembly_shop   \n",
       "1 2020-05-04 00:00:03  building  assembly_shop   \n",
       "2 2020-05-04 00:00:16  building  assembly_shop   \n",
       "3 2020-05-04 00:00:16  building  assembly_shop   \n",
       "4 2020-05-04 00:00:35  building  assembly_shop   \n",
       "\n",
       "                                user_id project_type  event_date  event_week  \\\n",
       "0  55e92310-cb8e-4754-b622-597e124b03de          NaN  2020-05-04          19   \n",
       "1  c07b1c10-f477-44dc-81dc-ec82254b1347          NaN  2020-05-04          19   \n",
       "2  6edd42cc-e753-4ff6-a947-2107cd560710          NaN  2020-05-04          19   \n",
       "3  92c69003-d60a-444a-827f-8cc51bf6bf4c          NaN  2020-05-04          19   \n",
       "4  cdc6bb92-0ccb-4490-9866-ef142f09139d          NaN  2020-05-04          19   \n",
       "\n",
       "  type  \n",
       "0  NaN  \n",
       "1  NaN  \n",
       "2  NaN  \n",
       "3  NaN  \n",
       "4  NaN  "
      ]
     },
     "execution_count": 37,
     "metadata": {},
     "output_type": "execute_result"
    }
   ],
   "source": [
    "#добавим в новый столбец вариант прохождения уровня \"Победа над первым врагом\"\n",
    "\n",
    "game_actions.loc[(game_actions['event'] == \"finished_stage_1\") \n",
    "                  & (~game_actions['user_id'].isin(user_project)), 'type'] = 'Победа над первым врагом'\n",
    "                     \n",
    "game_actions.head()"
   ]
  },
  {
   "cell_type": "code",
   "execution_count": 38,
   "metadata": {
    "scrolled": true
   },
   "outputs": [
    {
     "data": {
      "text/html": [
       "<div>\n",
       "<style scoped>\n",
       "    .dataframe tbody tr th:only-of-type {\n",
       "        vertical-align: middle;\n",
       "    }\n",
       "\n",
       "    .dataframe tbody tr th {\n",
       "        vertical-align: top;\n",
       "    }\n",
       "\n",
       "    .dataframe thead th {\n",
       "        text-align: right;\n",
       "    }\n",
       "</style>\n",
       "<table border=\"1\" class=\"dataframe\">\n",
       "  <thead>\n",
       "    <tr style=\"text-align: right;\">\n",
       "      <th></th>\n",
       "      <th>type</th>\n",
       "      <th>user_id</th>\n",
       "      <th>%</th>\n",
       "    </tr>\n",
       "  </thead>\n",
       "  <tbody>\n",
       "    <tr>\n",
       "      <th>0</th>\n",
       "      <td>Победа над первым врагом</td>\n",
       "      <td>3951</td>\n",
       "      <td>29.102829</td>\n",
       "    </tr>\n",
       "    <tr>\n",
       "      <th>1</th>\n",
       "      <td>Реализация проекта</td>\n",
       "      <td>1866</td>\n",
       "      <td>13.744844</td>\n",
       "    </tr>\n",
       "  </tbody>\n",
       "</table>\n",
       "</div>"
      ],
      "text/plain": [
       "                       type  user_id          %\n",
       "0  Победа над первым врагом     3951  29.102829\n",
       "1        Реализация проекта     1866  13.744844"
      ]
     },
     "execution_count": 38,
     "metadata": {},
     "output_type": "execute_result"
    }
   ],
   "source": [
    "# посмотрим, как распределены уникальные пользователи\n",
    "\n",
    "type_event = game_actions.groupby('type').agg({'user_id':'nunique'}).reset_index().sort_values(by = 'user_id', ascending = False)\n",
    "type_event['%'] = type_event['user_id'] / game_actions['user_id'].nunique() * 100\n",
    "type_event"
   ]
  },
  {
   "cell_type": "code",
   "execution_count": 39,
   "metadata": {},
   "outputs": [],
   "source": [
    "#отберем победителей и подсчитаем минимальную дату победы для каждого пользователя\n",
    "\n",
    "win_game_date = game_actions.query('type == type').groupby('user_id').agg({'event_datetime':'min', 'type':'min'}).rename(columns = {'event_datetime': 'win_game_date'})\n"
   ]
  },
  {
   "cell_type": "code",
   "execution_count": 40,
   "metadata": {},
   "outputs": [],
   "source": [
    "#подсчитаем минимальную дату для каждого пользователя\n",
    "\n",
    "start_game_date = game_actions.groupby('user_id').agg({'event_datetime':'min'}).rename(columns = {'event_datetime': 'start_game_date'})\n"
   ]
  },
  {
   "cell_type": "code",
   "execution_count": 41,
   "metadata": {},
   "outputs": [
    {
     "data": {
      "text/html": [
       "<div>\n",
       "<style scoped>\n",
       "    .dataframe tbody tr th:only-of-type {\n",
       "        vertical-align: middle;\n",
       "    }\n",
       "\n",
       "    .dataframe tbody tr th {\n",
       "        vertical-align: top;\n",
       "    }\n",
       "\n",
       "    .dataframe thead th {\n",
       "        text-align: right;\n",
       "    }\n",
       "</style>\n",
       "<table border=\"1\" class=\"dataframe\">\n",
       "  <thead>\n",
       "    <tr style=\"text-align: right;\">\n",
       "      <th></th>\n",
       "      <th>user_id</th>\n",
       "      <th>win_game_date</th>\n",
       "      <th>type</th>\n",
       "      <th>start_game_date</th>\n",
       "    </tr>\n",
       "  </thead>\n",
       "  <tbody>\n",
       "    <tr>\n",
       "      <th>0</th>\n",
       "      <td>001d39dc-366c-4021-9604-6a3b9ff01e25</td>\n",
       "      <td>2020-05-12 07:40:47</td>\n",
       "      <td>Победа над первым врагом</td>\n",
       "      <td>2020-05-05 21:02:05</td>\n",
       "    </tr>\n",
       "    <tr>\n",
       "      <th>1</th>\n",
       "      <td>003ee7e8-6356-4286-a715-62f22a18d2a1</td>\n",
       "      <td>2020-05-17 21:47:49</td>\n",
       "      <td>Победа над первым врагом</td>\n",
       "      <td>2020-05-05 08:31:04</td>\n",
       "    </tr>\n",
       "    <tr>\n",
       "      <th>2</th>\n",
       "      <td>004074f8-251a-4776-922c-8348dca1a2f6</td>\n",
       "      <td>2020-05-16 19:57:40</td>\n",
       "      <td>Победа над первым врагом</td>\n",
       "      <td>2020-05-04 01:07:35</td>\n",
       "    </tr>\n",
       "    <tr>\n",
       "      <th>3</th>\n",
       "      <td>00464e5e-28ed-4be6-bf44-517ef7b3937b</td>\n",
       "      <td>2020-05-15 16:02:01</td>\n",
       "      <td>Победа над первым врагом</td>\n",
       "      <td>2020-05-04 08:35:29</td>\n",
       "    </tr>\n",
       "    <tr>\n",
       "      <th>4</th>\n",
       "      <td>0056c007-c082-43cc-bdef-afc49bca4cb9</td>\n",
       "      <td>2020-05-16 13:48:39</td>\n",
       "      <td>Победа над первым врагом</td>\n",
       "      <td>2020-05-10 11:49:47</td>\n",
       "    </tr>\n",
       "    <tr>\n",
       "      <th>...</th>\n",
       "      <td>...</td>\n",
       "      <td>...</td>\n",
       "      <td>...</td>\n",
       "      <td>...</td>\n",
       "    </tr>\n",
       "    <tr>\n",
       "      <th>5812</th>\n",
       "      <td>ffd002f3-3545-423e-8dba-0c6a2d48a3aa</td>\n",
       "      <td>2020-05-19 04:03:24</td>\n",
       "      <td>Победа над первым врагом</td>\n",
       "      <td>2020-05-06 06:34:18</td>\n",
       "    </tr>\n",
       "    <tr>\n",
       "      <th>5813</th>\n",
       "      <td>ffe810f4-1a1f-464b-924d-6f120b0cb8df</td>\n",
       "      <td>2020-05-18 02:03:36</td>\n",
       "      <td>Победа над первым врагом</td>\n",
       "      <td>2020-05-04 17:46:05</td>\n",
       "    </tr>\n",
       "    <tr>\n",
       "      <th>5814</th>\n",
       "      <td>ffef4fed-164c-40e1-bde1-3980f76d0fb5</td>\n",
       "      <td>2020-05-11 22:15:54</td>\n",
       "      <td>Победа над первым врагом</td>\n",
       "      <td>2020-05-04 01:58:59</td>\n",
       "    </tr>\n",
       "    <tr>\n",
       "      <th>5815</th>\n",
       "      <td>fffb626c-5ab6-47c9-8113-2062a2f18494</td>\n",
       "      <td>2020-05-12 13:01:52</td>\n",
       "      <td>Победа над первым врагом</td>\n",
       "      <td>2020-05-04 02:05:09</td>\n",
       "    </tr>\n",
       "    <tr>\n",
       "      <th>5816</th>\n",
       "      <td>ffff69cc-fec1-4fd3-9f98-93be1112a6b8</td>\n",
       "      <td>2020-05-25 03:55:06</td>\n",
       "      <td>Реализация проекта</td>\n",
       "      <td>2020-05-08 06:57:30</td>\n",
       "    </tr>\n",
       "  </tbody>\n",
       "</table>\n",
       "<p>5817 rows × 4 columns</p>\n",
       "</div>"
      ],
      "text/plain": [
       "                                   user_id       win_game_date  \\\n",
       "0     001d39dc-366c-4021-9604-6a3b9ff01e25 2020-05-12 07:40:47   \n",
       "1     003ee7e8-6356-4286-a715-62f22a18d2a1 2020-05-17 21:47:49   \n",
       "2     004074f8-251a-4776-922c-8348dca1a2f6 2020-05-16 19:57:40   \n",
       "3     00464e5e-28ed-4be6-bf44-517ef7b3937b 2020-05-15 16:02:01   \n",
       "4     0056c007-c082-43cc-bdef-afc49bca4cb9 2020-05-16 13:48:39   \n",
       "...                                    ...                 ...   \n",
       "5812  ffd002f3-3545-423e-8dba-0c6a2d48a3aa 2020-05-19 04:03:24   \n",
       "5813  ffe810f4-1a1f-464b-924d-6f120b0cb8df 2020-05-18 02:03:36   \n",
       "5814  ffef4fed-164c-40e1-bde1-3980f76d0fb5 2020-05-11 22:15:54   \n",
       "5815  fffb626c-5ab6-47c9-8113-2062a2f18494 2020-05-12 13:01:52   \n",
       "5816  ffff69cc-fec1-4fd3-9f98-93be1112a6b8 2020-05-25 03:55:06   \n",
       "\n",
       "                          type     start_game_date  \n",
       "0     Победа над первым врагом 2020-05-05 21:02:05  \n",
       "1     Победа над первым врагом 2020-05-05 08:31:04  \n",
       "2     Победа над первым врагом 2020-05-04 01:07:35  \n",
       "3     Победа над первым врагом 2020-05-04 08:35:29  \n",
       "4     Победа над первым врагом 2020-05-10 11:49:47  \n",
       "...                        ...                 ...  \n",
       "5812  Победа над первым врагом 2020-05-06 06:34:18  \n",
       "5813  Победа над первым врагом 2020-05-04 17:46:05  \n",
       "5814  Победа над первым врагом 2020-05-04 01:58:59  \n",
       "5815  Победа над первым врагом 2020-05-04 02:05:09  \n",
       "5816        Реализация проекта 2020-05-08 06:57:30  \n",
       "\n",
       "[5817 rows x 4 columns]"
      ]
     },
     "execution_count": 41,
     "metadata": {},
     "output_type": "execute_result"
    }
   ],
   "source": [
    "#объединим win_game_date и start_game_date\n",
    "\n",
    "merge_game = win_game_date.merge(start_game_date, how='inner', on = 'user_id').reset_index()\n",
    "merge_game"
   ]
  },
  {
   "cell_type": "code",
   "execution_count": 42,
   "metadata": {},
   "outputs": [
    {
     "data": {
      "text/html": [
       "<div>\n",
       "<style scoped>\n",
       "    .dataframe tbody tr th:only-of-type {\n",
       "        vertical-align: middle;\n",
       "    }\n",
       "\n",
       "    .dataframe tbody tr th {\n",
       "        vertical-align: top;\n",
       "    }\n",
       "\n",
       "    .dataframe thead th {\n",
       "        text-align: right;\n",
       "    }\n",
       "</style>\n",
       "<table border=\"1\" class=\"dataframe\">\n",
       "  <thead>\n",
       "    <tr style=\"text-align: right;\">\n",
       "      <th></th>\n",
       "      <th>user_id</th>\n",
       "      <th>win_game_date</th>\n",
       "      <th>type</th>\n",
       "      <th>start_game_date</th>\n",
       "      <th>game_time</th>\n",
       "    </tr>\n",
       "  </thead>\n",
       "  <tbody>\n",
       "    <tr>\n",
       "      <th>0</th>\n",
       "      <td>001d39dc-366c-4021-9604-6a3b9ff01e25</td>\n",
       "      <td>2020-05-12 07:40:47</td>\n",
       "      <td>Победа над первым врагом</td>\n",
       "      <td>2020-05-05 21:02:05</td>\n",
       "      <td>6 days 10:38:42</td>\n",
       "    </tr>\n",
       "    <tr>\n",
       "      <th>1</th>\n",
       "      <td>003ee7e8-6356-4286-a715-62f22a18d2a1</td>\n",
       "      <td>2020-05-17 21:47:49</td>\n",
       "      <td>Победа над первым врагом</td>\n",
       "      <td>2020-05-05 08:31:04</td>\n",
       "      <td>12 days 13:16:45</td>\n",
       "    </tr>\n",
       "    <tr>\n",
       "      <th>2</th>\n",
       "      <td>004074f8-251a-4776-922c-8348dca1a2f6</td>\n",
       "      <td>2020-05-16 19:57:40</td>\n",
       "      <td>Победа над первым врагом</td>\n",
       "      <td>2020-05-04 01:07:35</td>\n",
       "      <td>12 days 18:50:05</td>\n",
       "    </tr>\n",
       "    <tr>\n",
       "      <th>3</th>\n",
       "      <td>00464e5e-28ed-4be6-bf44-517ef7b3937b</td>\n",
       "      <td>2020-05-15 16:02:01</td>\n",
       "      <td>Победа над первым врагом</td>\n",
       "      <td>2020-05-04 08:35:29</td>\n",
       "      <td>11 days 07:26:32</td>\n",
       "    </tr>\n",
       "    <tr>\n",
       "      <th>4</th>\n",
       "      <td>0056c007-c082-43cc-bdef-afc49bca4cb9</td>\n",
       "      <td>2020-05-16 13:48:39</td>\n",
       "      <td>Победа над первым врагом</td>\n",
       "      <td>2020-05-10 11:49:47</td>\n",
       "      <td>6 days 01:58:52</td>\n",
       "    </tr>\n",
       "    <tr>\n",
       "      <th>...</th>\n",
       "      <td>...</td>\n",
       "      <td>...</td>\n",
       "      <td>...</td>\n",
       "      <td>...</td>\n",
       "      <td>...</td>\n",
       "    </tr>\n",
       "    <tr>\n",
       "      <th>5812</th>\n",
       "      <td>ffd002f3-3545-423e-8dba-0c6a2d48a3aa</td>\n",
       "      <td>2020-05-19 04:03:24</td>\n",
       "      <td>Победа над первым врагом</td>\n",
       "      <td>2020-05-06 06:34:18</td>\n",
       "      <td>12 days 21:29:06</td>\n",
       "    </tr>\n",
       "    <tr>\n",
       "      <th>5813</th>\n",
       "      <td>ffe810f4-1a1f-464b-924d-6f120b0cb8df</td>\n",
       "      <td>2020-05-18 02:03:36</td>\n",
       "      <td>Победа над первым врагом</td>\n",
       "      <td>2020-05-04 17:46:05</td>\n",
       "      <td>13 days 08:17:31</td>\n",
       "    </tr>\n",
       "    <tr>\n",
       "      <th>5814</th>\n",
       "      <td>ffef4fed-164c-40e1-bde1-3980f76d0fb5</td>\n",
       "      <td>2020-05-11 22:15:54</td>\n",
       "      <td>Победа над первым врагом</td>\n",
       "      <td>2020-05-04 01:58:59</td>\n",
       "      <td>7 days 20:16:55</td>\n",
       "    </tr>\n",
       "    <tr>\n",
       "      <th>5815</th>\n",
       "      <td>fffb626c-5ab6-47c9-8113-2062a2f18494</td>\n",
       "      <td>2020-05-12 13:01:52</td>\n",
       "      <td>Победа над первым врагом</td>\n",
       "      <td>2020-05-04 02:05:09</td>\n",
       "      <td>8 days 10:56:43</td>\n",
       "    </tr>\n",
       "    <tr>\n",
       "      <th>5816</th>\n",
       "      <td>ffff69cc-fec1-4fd3-9f98-93be1112a6b8</td>\n",
       "      <td>2020-05-25 03:55:06</td>\n",
       "      <td>Реализация проекта</td>\n",
       "      <td>2020-05-08 06:57:30</td>\n",
       "      <td>16 days 20:57:36</td>\n",
       "    </tr>\n",
       "  </tbody>\n",
       "</table>\n",
       "<p>5817 rows × 5 columns</p>\n",
       "</div>"
      ],
      "text/plain": [
       "                                   user_id       win_game_date  \\\n",
       "0     001d39dc-366c-4021-9604-6a3b9ff01e25 2020-05-12 07:40:47   \n",
       "1     003ee7e8-6356-4286-a715-62f22a18d2a1 2020-05-17 21:47:49   \n",
       "2     004074f8-251a-4776-922c-8348dca1a2f6 2020-05-16 19:57:40   \n",
       "3     00464e5e-28ed-4be6-bf44-517ef7b3937b 2020-05-15 16:02:01   \n",
       "4     0056c007-c082-43cc-bdef-afc49bca4cb9 2020-05-16 13:48:39   \n",
       "...                                    ...                 ...   \n",
       "5812  ffd002f3-3545-423e-8dba-0c6a2d48a3aa 2020-05-19 04:03:24   \n",
       "5813  ffe810f4-1a1f-464b-924d-6f120b0cb8df 2020-05-18 02:03:36   \n",
       "5814  ffef4fed-164c-40e1-bde1-3980f76d0fb5 2020-05-11 22:15:54   \n",
       "5815  fffb626c-5ab6-47c9-8113-2062a2f18494 2020-05-12 13:01:52   \n",
       "5816  ffff69cc-fec1-4fd3-9f98-93be1112a6b8 2020-05-25 03:55:06   \n",
       "\n",
       "                          type     start_game_date        game_time  \n",
       "0     Победа над первым врагом 2020-05-05 21:02:05  6 days 10:38:42  \n",
       "1     Победа над первым врагом 2020-05-05 08:31:04 12 days 13:16:45  \n",
       "2     Победа над первым врагом 2020-05-04 01:07:35 12 days 18:50:05  \n",
       "3     Победа над первым врагом 2020-05-04 08:35:29 11 days 07:26:32  \n",
       "4     Победа над первым врагом 2020-05-10 11:49:47  6 days 01:58:52  \n",
       "...                        ...                 ...              ...  \n",
       "5812  Победа над первым врагом 2020-05-06 06:34:18 12 days 21:29:06  \n",
       "5813  Победа над первым врагом 2020-05-04 17:46:05 13 days 08:17:31  \n",
       "5814  Победа над первым врагом 2020-05-04 01:58:59  7 days 20:16:55  \n",
       "5815  Победа над первым врагом 2020-05-04 02:05:09  8 days 10:56:43  \n",
       "5816        Реализация проекта 2020-05-08 06:57:30 16 days 20:57:36  \n",
       "\n",
       "[5817 rows x 5 columns]"
      ]
     },
     "execution_count": 42,
     "metadata": {},
     "output_type": "execute_result"
    }
   ],
   "source": [
    "#подсчитаем время прохождения уровня\n",
    "\n",
    "merge_game['game_time'] = merge_game['win_game_date'] - merge_game['start_game_date']\n",
    "merge_game"
   ]
  },
  {
   "cell_type": "code",
   "execution_count": 43,
   "metadata": {},
   "outputs": [
    {
     "name": "stdout",
     "output_type": "stream",
     "text": [
      "Среднее время прохождения уровня для обоих вариантов: 11 days 08:31:30.522262334\n"
     ]
    }
   ],
   "source": [
    "# подсчитаем среднее время прохождения уровня\n",
    "\n",
    "print('Среднее время прохождения уровня для обоих вариантов:',\n",
    "      merge_game['game_time'].mean())"
   ]
  },
  {
   "cell_type": "code",
   "execution_count": 44,
   "metadata": {},
   "outputs": [
    {
     "name": "stdout",
     "output_type": "stream",
     "text": [
      "Медианное время прохождения уровня для обоих вариантов: 10 days 23:42:56\n"
     ]
    }
   ],
   "source": [
    "# подсчитаем медианное время прохождения уровня\n",
    "\n",
    "print('Медианное время прохождения уровня для обоих вариантов:',\n",
    "      merge_game['game_time'].median())"
   ]
  },
  {
   "cell_type": "code",
   "execution_count": 45,
   "metadata": {},
   "outputs": [
    {
     "name": "stdout",
     "output_type": "stream",
     "text": [
      "Среднее время прохождения уровня для варианта \"Победа над первым врагом\": 11 days 02:30:24.076183244\n"
     ]
    }
   ],
   "source": [
    "# подсчитаем среднее время прохождения уровня для варианта победы над первым врагом\n",
    "\n",
    "print('Среднее время прохождения уровня для варианта \"Победа над первым врагом\":',\n",
    "      merge_game.query('type == \"Победа над первым врагом\"')['game_time'].mean())"
   ]
  },
  {
   "cell_type": "code",
   "execution_count": 46,
   "metadata": {},
   "outputs": [
    {
     "name": "stdout",
     "output_type": "stream",
     "text": [
      "Медианное время прохождения уровня для варианта \"Победа над первым врагом\": 10 days 19:01:37\n"
     ]
    }
   ],
   "source": [
    "# подсчитаем медианное время прохождения уровня для варианта победы над первым врагом\n",
    "\n",
    "print('Медианное время прохождения уровня для варианта \"Победа над первым врагом\":',\n",
    "      merge_game.query('type == \"Победа над первым врагом\"')['game_time'].median())"
   ]
  },
  {
   "cell_type": "code",
   "execution_count": 47,
   "metadata": {},
   "outputs": [
    {
     "name": "stdout",
     "output_type": "stream",
     "text": [
      "Среднее время прохождения уровня для варианта \"Реализация проекта\": 11 days 21:16:06.260986066\n"
     ]
    }
   ],
   "source": [
    "# подсчитаем среднее время прохождения уровня для варианта реализации проекта\n",
    "\n",
    "print('Среднее время прохождения уровня для варианта \"Реализация проекта\":',\n",
    "      merge_game.query('type == \"Реализация проекта\"')['game_time'].mean())"
   ]
  },
  {
   "cell_type": "code",
   "execution_count": 48,
   "metadata": {},
   "outputs": [
    {
     "name": "stdout",
     "output_type": "stream",
     "text": [
      "Медианное время прохождения уровня для варианта \"Реализация проекта\": 11 days 07:12:24\n"
     ]
    }
   ],
   "source": [
    "# подсчитаем медианное время прохождения уровня для варианта реализации проекта\n",
    "\n",
    "print('Медианное время прохождения уровня для варианта \"Реализация проекта\":',\n",
    "      merge_game.query('type == \"Реализация проекта\"')['game_time'].median())"
   ]
  },
  {
   "cell_type": "code",
   "execution_count": 49,
   "metadata": {},
   "outputs": [],
   "source": [
    "#добавим столбец с днем начала игры\n",
    "\n",
    "merge_game['start_game_day'] = merge_game['start_game_date'].dt.date"
   ]
  },
  {
   "cell_type": "code",
   "execution_count": 50,
   "metadata": {},
   "outputs": [
    {
     "data": {
      "text/html": [
       "<div>\n",
       "<style scoped>\n",
       "    .dataframe tbody tr th:only-of-type {\n",
       "        vertical-align: middle;\n",
       "    }\n",
       "\n",
       "    .dataframe tbody tr th {\n",
       "        vertical-align: top;\n",
       "    }\n",
       "\n",
       "    .dataframe thead th {\n",
       "        text-align: right;\n",
       "    }\n",
       "</style>\n",
       "<table border=\"1\" class=\"dataframe\">\n",
       "  <thead>\n",
       "    <tr style=\"text-align: right;\">\n",
       "      <th></th>\n",
       "      <th>user_id</th>\n",
       "      <th>win_game_date</th>\n",
       "      <th>type</th>\n",
       "      <th>start_game_date</th>\n",
       "      <th>game_time</th>\n",
       "      <th>start_game_day</th>\n",
       "      <th>game_day</th>\n",
       "    </tr>\n",
       "  </thead>\n",
       "  <tbody>\n",
       "    <tr>\n",
       "      <th>0</th>\n",
       "      <td>001d39dc-366c-4021-9604-6a3b9ff01e25</td>\n",
       "      <td>2020-05-12 07:40:47</td>\n",
       "      <td>Победа над первым врагом</td>\n",
       "      <td>2020-05-05 21:02:05</td>\n",
       "      <td>6 days 10:38:42</td>\n",
       "      <td>2020-05-05</td>\n",
       "      <td>6</td>\n",
       "    </tr>\n",
       "    <tr>\n",
       "      <th>1</th>\n",
       "      <td>003ee7e8-6356-4286-a715-62f22a18d2a1</td>\n",
       "      <td>2020-05-17 21:47:49</td>\n",
       "      <td>Победа над первым врагом</td>\n",
       "      <td>2020-05-05 08:31:04</td>\n",
       "      <td>12 days 13:16:45</td>\n",
       "      <td>2020-05-05</td>\n",
       "      <td>13</td>\n",
       "    </tr>\n",
       "    <tr>\n",
       "      <th>2</th>\n",
       "      <td>004074f8-251a-4776-922c-8348dca1a2f6</td>\n",
       "      <td>2020-05-16 19:57:40</td>\n",
       "      <td>Победа над первым врагом</td>\n",
       "      <td>2020-05-04 01:07:35</td>\n",
       "      <td>12 days 18:50:05</td>\n",
       "      <td>2020-05-04</td>\n",
       "      <td>13</td>\n",
       "    </tr>\n",
       "    <tr>\n",
       "      <th>3</th>\n",
       "      <td>00464e5e-28ed-4be6-bf44-517ef7b3937b</td>\n",
       "      <td>2020-05-15 16:02:01</td>\n",
       "      <td>Победа над первым врагом</td>\n",
       "      <td>2020-05-04 08:35:29</td>\n",
       "      <td>11 days 07:26:32</td>\n",
       "      <td>2020-05-04</td>\n",
       "      <td>11</td>\n",
       "    </tr>\n",
       "    <tr>\n",
       "      <th>4</th>\n",
       "      <td>0056c007-c082-43cc-bdef-afc49bca4cb9</td>\n",
       "      <td>2020-05-16 13:48:39</td>\n",
       "      <td>Победа над первым врагом</td>\n",
       "      <td>2020-05-10 11:49:47</td>\n",
       "      <td>6 days 01:58:52</td>\n",
       "      <td>2020-05-10</td>\n",
       "      <td>6</td>\n",
       "    </tr>\n",
       "    <tr>\n",
       "      <th>...</th>\n",
       "      <td>...</td>\n",
       "      <td>...</td>\n",
       "      <td>...</td>\n",
       "      <td>...</td>\n",
       "      <td>...</td>\n",
       "      <td>...</td>\n",
       "      <td>...</td>\n",
       "    </tr>\n",
       "    <tr>\n",
       "      <th>5812</th>\n",
       "      <td>ffd002f3-3545-423e-8dba-0c6a2d48a3aa</td>\n",
       "      <td>2020-05-19 04:03:24</td>\n",
       "      <td>Победа над первым врагом</td>\n",
       "      <td>2020-05-06 06:34:18</td>\n",
       "      <td>12 days 21:29:06</td>\n",
       "      <td>2020-05-06</td>\n",
       "      <td>13</td>\n",
       "    </tr>\n",
       "    <tr>\n",
       "      <th>5813</th>\n",
       "      <td>ffe810f4-1a1f-464b-924d-6f120b0cb8df</td>\n",
       "      <td>2020-05-18 02:03:36</td>\n",
       "      <td>Победа над первым врагом</td>\n",
       "      <td>2020-05-04 17:46:05</td>\n",
       "      <td>13 days 08:17:31</td>\n",
       "      <td>2020-05-04</td>\n",
       "      <td>13</td>\n",
       "    </tr>\n",
       "    <tr>\n",
       "      <th>5814</th>\n",
       "      <td>ffef4fed-164c-40e1-bde1-3980f76d0fb5</td>\n",
       "      <td>2020-05-11 22:15:54</td>\n",
       "      <td>Победа над первым врагом</td>\n",
       "      <td>2020-05-04 01:58:59</td>\n",
       "      <td>7 days 20:16:55</td>\n",
       "      <td>2020-05-04</td>\n",
       "      <td>8</td>\n",
       "    </tr>\n",
       "    <tr>\n",
       "      <th>5815</th>\n",
       "      <td>fffb626c-5ab6-47c9-8113-2062a2f18494</td>\n",
       "      <td>2020-05-12 13:01:52</td>\n",
       "      <td>Победа над первым врагом</td>\n",
       "      <td>2020-05-04 02:05:09</td>\n",
       "      <td>8 days 10:56:43</td>\n",
       "      <td>2020-05-04</td>\n",
       "      <td>8</td>\n",
       "    </tr>\n",
       "    <tr>\n",
       "      <th>5816</th>\n",
       "      <td>ffff69cc-fec1-4fd3-9f98-93be1112a6b8</td>\n",
       "      <td>2020-05-25 03:55:06</td>\n",
       "      <td>Реализация проекта</td>\n",
       "      <td>2020-05-08 06:57:30</td>\n",
       "      <td>16 days 20:57:36</td>\n",
       "      <td>2020-05-08</td>\n",
       "      <td>17</td>\n",
       "    </tr>\n",
       "  </tbody>\n",
       "</table>\n",
       "<p>5817 rows × 7 columns</p>\n",
       "</div>"
      ],
      "text/plain": [
       "                                   user_id       win_game_date  \\\n",
       "0     001d39dc-366c-4021-9604-6a3b9ff01e25 2020-05-12 07:40:47   \n",
       "1     003ee7e8-6356-4286-a715-62f22a18d2a1 2020-05-17 21:47:49   \n",
       "2     004074f8-251a-4776-922c-8348dca1a2f6 2020-05-16 19:57:40   \n",
       "3     00464e5e-28ed-4be6-bf44-517ef7b3937b 2020-05-15 16:02:01   \n",
       "4     0056c007-c082-43cc-bdef-afc49bca4cb9 2020-05-16 13:48:39   \n",
       "...                                    ...                 ...   \n",
       "5812  ffd002f3-3545-423e-8dba-0c6a2d48a3aa 2020-05-19 04:03:24   \n",
       "5813  ffe810f4-1a1f-464b-924d-6f120b0cb8df 2020-05-18 02:03:36   \n",
       "5814  ffef4fed-164c-40e1-bde1-3980f76d0fb5 2020-05-11 22:15:54   \n",
       "5815  fffb626c-5ab6-47c9-8113-2062a2f18494 2020-05-12 13:01:52   \n",
       "5816  ffff69cc-fec1-4fd3-9f98-93be1112a6b8 2020-05-25 03:55:06   \n",
       "\n",
       "                          type     start_game_date        game_time  \\\n",
       "0     Победа над первым врагом 2020-05-05 21:02:05  6 days 10:38:42   \n",
       "1     Победа над первым врагом 2020-05-05 08:31:04 12 days 13:16:45   \n",
       "2     Победа над первым врагом 2020-05-04 01:07:35 12 days 18:50:05   \n",
       "3     Победа над первым врагом 2020-05-04 08:35:29 11 days 07:26:32   \n",
       "4     Победа над первым врагом 2020-05-10 11:49:47  6 days 01:58:52   \n",
       "...                        ...                 ...              ...   \n",
       "5812  Победа над первым врагом 2020-05-06 06:34:18 12 days 21:29:06   \n",
       "5813  Победа над первым врагом 2020-05-04 17:46:05 13 days 08:17:31   \n",
       "5814  Победа над первым врагом 2020-05-04 01:58:59  7 days 20:16:55   \n",
       "5815  Победа над первым врагом 2020-05-04 02:05:09  8 days 10:56:43   \n",
       "5816        Реализация проекта 2020-05-08 06:57:30 16 days 20:57:36   \n",
       "\n",
       "     start_game_day  game_day  \n",
       "0        2020-05-05         6  \n",
       "1        2020-05-05        13  \n",
       "2        2020-05-04        13  \n",
       "3        2020-05-04        11  \n",
       "4        2020-05-10         6  \n",
       "...             ...       ...  \n",
       "5812     2020-05-06        13  \n",
       "5813     2020-05-04        13  \n",
       "5814     2020-05-04         8  \n",
       "5815     2020-05-04         8  \n",
       "5816     2020-05-08        17  \n",
       "\n",
       "[5817 rows x 7 columns]"
      ]
     },
     "execution_count": 50,
     "metadata": {},
     "output_type": "execute_result"
    }
   ],
   "source": [
    "#выделим день\n",
    "\n",
    "merge_game['game_day'] = merge_game['game_time'] / np.timedelta64(1, 'D')\n",
    "merge_game['game_day'] = merge_game['game_day'].round().astype('int') \n",
    "\n",
    "merge_game"
   ]
  },
  {
   "cell_type": "code",
   "execution_count": 51,
   "metadata": {},
   "outputs": [
    {
     "data": {
      "text/html": [
       "<div>\n",
       "<style scoped>\n",
       "    .dataframe tbody tr th:only-of-type {\n",
       "        vertical-align: middle;\n",
       "    }\n",
       "\n",
       "    .dataframe tbody tr th {\n",
       "        vertical-align: top;\n",
       "    }\n",
       "\n",
       "    .dataframe thead th {\n",
       "        text-align: right;\n",
       "    }\n",
       "</style>\n",
       "<table border=\"1\" class=\"dataframe\">\n",
       "  <thead>\n",
       "    <tr style=\"text-align: right;\">\n",
       "      <th></th>\n",
       "      <th>type</th>\n",
       "      <th>game_day</th>\n",
       "    </tr>\n",
       "  </thead>\n",
       "  <tbody>\n",
       "    <tr>\n",
       "      <th>1</th>\n",
       "      <td>Реализация проекта</td>\n",
       "      <td>11.877278</td>\n",
       "    </tr>\n",
       "    <tr>\n",
       "      <th>0</th>\n",
       "      <td>Победа над первым врагом</td>\n",
       "      <td>11.108580</td>\n",
       "    </tr>\n",
       "  </tbody>\n",
       "</table>\n",
       "</div>"
      ],
      "text/plain": [
       "                       type   game_day\n",
       "1        Реализация проекта  11.877278\n",
       "0  Победа над первым врагом  11.108580"
      ]
     },
     "execution_count": 51,
     "metadata": {},
     "output_type": "execute_result"
    }
   ],
   "source": [
    "# посмотрим, как распределены уникальные пользователи\n",
    "\n",
    "merge_game_time = merge_game.groupby('type').agg({'game_day':'mean'}).reset_index().sort_values(by = 'game_day', ascending = False)\n",
    "merge_game_time"
   ]
  },
  {
   "cell_type": "code",
   "execution_count": 52,
   "metadata": {
    "scrolled": true
   },
   "outputs": [
    {
     "data": {
      "image/png": "[encoded data removed]",
      "text/plain": [
       "<Figure size 1080x504 with 1 Axes>"
      ]
     },
     "metadata": {
      "needs_background": "light"
     },
     "output_type": "display_data"
    }
   ],
   "source": [
    "# построим график динамики времени прохождения уровня\n",
    "\n",
    "merge_game.pivot_table(index ='start_game_day',\n",
    "                                                columns = 'type', values = 'game_day').plot(grid = True, figsize = (15,7),title='Время прохождения уровня')\n",
    "plt.xlabel('Старт игры')\n",
    "plt.ylabel('Время прохождения уровня')\n",
    "plt.show()"
   ]
  },
  {
   "cell_type": "code",
   "execution_count": 53,
   "metadata": {},
   "outputs": [
    {
     "data": {
      "image/png": "[encoded data removed]",
      "text/plain": [
       "<Figure size 1728x720 with 1 Axes>"
      ]
     },
     "metadata": {
      "needs_background": "light"
     },
     "output_type": "display_data"
    }
   ],
   "source": [
    "# построим гистограммы\n",
    "\n",
    "merge_game.pivot_table(index ='start_game_day',\n",
    "                                                columns = 'type', values = 'game_day').plot(kind = 'bar', grid = True, figsize = (24,10),title='Время прохождения уровня')\n",
    "\n",
    "plt.xlabel('Старт игры')\n",
    "plt.ylabel('Время прохождения уровня')\n",
    "plt.show()"
   ]
  },
  {
   "cell_type": "markdown",
   "metadata": {},
   "source": [
    "Вывод\n",
    "\n",
    "На данном шаге подсчитаем среднее время прохождения уровня. Создадим вспомогательный столбец, в котором промаркируем, каким именно способом был завершен первый уровень - победой над врагом или реализацией проекта.\n",
    "\n",
    "В результате вычислений получаем:\n",
    "\n",
    "Среднее время прохождения уровня для варианта 'Победа над первым врагом' = 11 days 02:30:24\n",
    "Медианное время прохождения уровня для варианта \"Победа над первым врагом\" = 10 days 19:01:37\n",
    "\n",
    "Среднее время прохождения уровня для варианта \"Реализация проекта\": 11 days 21:16:06\n",
    "\n",
    "Медианное время прохождения уровня для варианта \"Реализация проекта\": 11 days 07:12:24\n",
    "Таким образом, пользователи завершают первый уровень быстрее, если выбирают вариант победить врага. "
   ]
  },
  {
   "cell_type": "markdown",
   "metadata": {},
   "source": [
    "#### Количество построек на каждого пользователя"
   ]
  },
  {
   "cell_type": "code",
   "execution_count": 54,
   "metadata": {},
   "outputs": [
    {
     "data": {
      "text/html": [
       "<div>\n",
       "<style scoped>\n",
       "    .dataframe tbody tr th:only-of-type {\n",
       "        vertical-align: middle;\n",
       "    }\n",
       "\n",
       "    .dataframe tbody tr th {\n",
       "        vertical-align: top;\n",
       "    }\n",
       "\n",
       "    .dataframe thead th {\n",
       "        text-align: right;\n",
       "    }\n",
       "</style>\n",
       "<table border=\"1\" class=\"dataframe\">\n",
       "  <thead>\n",
       "    <tr style=\"text-align: right;\">\n",
       "      <th></th>\n",
       "      <th>building_type</th>\n",
       "    </tr>\n",
       "    <tr>\n",
       "      <th>user_id</th>\n",
       "      <th></th>\n",
       "    </tr>\n",
       "  </thead>\n",
       "  <tbody>\n",
       "    <tr>\n",
       "      <th>0001f83c-c6ac-4621-b7f0-8a28b283ac30</th>\n",
       "      <td>13</td>\n",
       "    </tr>\n",
       "    <tr>\n",
       "      <th>00151b4f-ba38-44a8-a650-d7cf130a0105</th>\n",
       "      <td>9</td>\n",
       "    </tr>\n",
       "    <tr>\n",
       "      <th>001aaea6-3d14-43f1-8ca8-7f48820f17aa</th>\n",
       "      <td>4</td>\n",
       "    </tr>\n",
       "    <tr>\n",
       "      <th>001d39dc-366c-4021-9604-6a3b9ff01e25</th>\n",
       "      <td>8</td>\n",
       "    </tr>\n",
       "    <tr>\n",
       "      <th>002f508f-67b6-479f-814b-b05f00d4e995</th>\n",
       "      <td>12</td>\n",
       "    </tr>\n",
       "  </tbody>\n",
       "</table>\n",
       "</div>"
      ],
      "text/plain": [
       "                                      building_type\n",
       "user_id                                            \n",
       "0001f83c-c6ac-4621-b7f0-8a28b283ac30             13\n",
       "00151b4f-ba38-44a8-a650-d7cf130a0105              9\n",
       "001aaea6-3d14-43f1-8ca8-7f48820f17aa              4\n",
       "001d39dc-366c-4021-9604-6a3b9ff01e25              8\n",
       "002f508f-67b6-479f-814b-b05f00d4e995             12"
      ]
     },
     "execution_count": 54,
     "metadata": {},
     "output_type": "execute_result"
    }
   ],
   "source": [
    "# сгруппируем датасет по пользователю и посмотрим количество построек на каждого\n",
    "\n",
    "building_count = game_actions.groupby('user_id').agg({'building_type': 'count'})\n",
    "building_count.head()"
   ]
  },
  {
   "cell_type": "code",
   "execution_count": 55,
   "metadata": {},
   "outputs": [
    {
     "name": "stdout",
     "output_type": "stream",
     "text": [
      "Cреднее значение количества построек на пользователя: 9.43\n"
     ]
    }
   ],
   "source": [
    "# подсчитаем среднее значение количества построек\n",
    "\n",
    "print('Cреднее значение количества построек на пользователя: {:.2f}'.format(building_count['building_type'].mean()))"
   ]
  },
  {
   "cell_type": "code",
   "execution_count": 56,
   "metadata": {},
   "outputs": [
    {
     "name": "stdout",
     "output_type": "stream",
     "text": [
      "Медианное значение количества построек на пользователя: 10.0\n"
     ]
    }
   ],
   "source": [
    "# подсчитаем медианное значение количества построек\n",
    "\n",
    "print('Медианное значение количества построек на пользователя:', building_count['building_type'].median())"
   ]
  },
  {
   "cell_type": "code",
   "execution_count": 57,
   "metadata": {},
   "outputs": [
    {
     "data": {
      "text/html": [
       "<div>\n",
       "<style scoped>\n",
       "    .dataframe tbody tr th:only-of-type {\n",
       "        vertical-align: middle;\n",
       "    }\n",
       "\n",
       "    .dataframe tbody tr th {\n",
       "        vertical-align: top;\n",
       "    }\n",
       "\n",
       "    .dataframe thead th {\n",
       "        text-align: right;\n",
       "    }\n",
       "</style>\n",
       "<table border=\"1\" class=\"dataframe\">\n",
       "  <thead>\n",
       "    <tr style=\"text-align: right;\">\n",
       "      <th></th>\n",
       "      <th>event_datetime</th>\n",
       "      <th>event</th>\n",
       "      <th>building_type</th>\n",
       "      <th>user_id</th>\n",
       "      <th>project_type</th>\n",
       "      <th>event_date</th>\n",
       "      <th>event_week</th>\n",
       "      <th>type</th>\n",
       "    </tr>\n",
       "  </thead>\n",
       "  <tbody>\n",
       "    <tr>\n",
       "      <th>6659</th>\n",
       "      <td>2020-05-04 19:47:29</td>\n",
       "      <td>finished_stage_1</td>\n",
       "      <td>NaN</td>\n",
       "      <td>ced7b368-818f-48f6-9461-2346de0892c5</td>\n",
       "      <td>NaN</td>\n",
       "      <td>2020-05-04</td>\n",
       "      <td>19</td>\n",
       "      <td>Победа над первым врагом</td>\n",
       "    </tr>\n",
       "    <tr>\n",
       "      <th>13134</th>\n",
       "      <td>2020-05-05 13:22:09</td>\n",
       "      <td>finished_stage_1</td>\n",
       "      <td>NaN</td>\n",
       "      <td>7ef7fc89-2779-46ea-b328-9e5035b83af5</td>\n",
       "      <td>NaN</td>\n",
       "      <td>2020-05-05</td>\n",
       "      <td>19</td>\n",
       "      <td>Победа над первым врагом</td>\n",
       "    </tr>\n",
       "    <tr>\n",
       "      <th>15274</th>\n",
       "      <td>2020-05-05 18:54:37</td>\n",
       "      <td>finished_stage_1</td>\n",
       "      <td>NaN</td>\n",
       "      <td>70db22b3-c2f4-43bc-94ea-51c8d2904a29</td>\n",
       "      <td>NaN</td>\n",
       "      <td>2020-05-05</td>\n",
       "      <td>19</td>\n",
       "      <td>Победа над первым врагом</td>\n",
       "    </tr>\n",
       "    <tr>\n",
       "      <th>16284</th>\n",
       "      <td>2020-05-05 21:27:29</td>\n",
       "      <td>finished_stage_1</td>\n",
       "      <td>NaN</td>\n",
       "      <td>903fc9ef-ba97-4b12-9d5c-ac8d602fbd8b</td>\n",
       "      <td>NaN</td>\n",
       "      <td>2020-05-05</td>\n",
       "      <td>19</td>\n",
       "      <td>Победа над первым врагом</td>\n",
       "    </tr>\n",
       "    <tr>\n",
       "      <th>19650</th>\n",
       "      <td>2020-05-06 06:02:22</td>\n",
       "      <td>finished_stage_1</td>\n",
       "      <td>NaN</td>\n",
       "      <td>58e077ba-feb1-4556-a5a0-d96bd04efa39</td>\n",
       "      <td>NaN</td>\n",
       "      <td>2020-05-06</td>\n",
       "      <td>19</td>\n",
       "      <td>Победа над первым врагом</td>\n",
       "    </tr>\n",
       "  </tbody>\n",
       "</table>\n",
       "</div>"
      ],
      "text/plain": [
       "           event_datetime             event building_type  \\\n",
       "6659  2020-05-04 19:47:29  finished_stage_1           NaN   \n",
       "13134 2020-05-05 13:22:09  finished_stage_1           NaN   \n",
       "15274 2020-05-05 18:54:37  finished_stage_1           NaN   \n",
       "16284 2020-05-05 21:27:29  finished_stage_1           NaN   \n",
       "19650 2020-05-06 06:02:22  finished_stage_1           NaN   \n",
       "\n",
       "                                    user_id project_type  event_date  \\\n",
       "6659   ced7b368-818f-48f6-9461-2346de0892c5          NaN  2020-05-04   \n",
       "13134  7ef7fc89-2779-46ea-b328-9e5035b83af5          NaN  2020-05-05   \n",
       "15274  70db22b3-c2f4-43bc-94ea-51c8d2904a29          NaN  2020-05-05   \n",
       "16284  903fc9ef-ba97-4b12-9d5c-ac8d602fbd8b          NaN  2020-05-05   \n",
       "19650  58e077ba-feb1-4556-a5a0-d96bd04efa39          NaN  2020-05-06   \n",
       "\n",
       "       event_week                      type  \n",
       "6659           19  Победа над первым врагом  \n",
       "13134          19  Победа над первым врагом  \n",
       "15274          19  Победа над первым врагом  \n",
       "16284          19  Победа над первым врагом  \n",
       "19650          19  Победа над первым врагом  "
      ]
     },
     "execution_count": 57,
     "metadata": {},
     "output_type": "execute_result"
    }
   ],
   "source": [
    "#отберем данные по пользователям, которые завершили уровень победой над врагом для создания фильтра\n",
    "\n",
    "win_users_type = game_actions.query('type == \"Победа над первым врагом\"')\n",
    "win_users_type.head()"
   ]
  },
  {
   "cell_type": "code",
   "execution_count": 58,
   "metadata": {},
   "outputs": [],
   "source": [
    "# создадим список пользователей, которые прошли уровень через победу над врагом \n",
    "\n",
    "user_win = win_users_type['user_id']"
   ]
  },
  {
   "cell_type": "code",
   "execution_count": 59,
   "metadata": {
    "scrolled": true
   },
   "outputs": [
    {
     "data": {
      "text/html": [
       "<div>\n",
       "<style scoped>\n",
       "    .dataframe tbody tr th:only-of-type {\n",
       "        vertical-align: middle;\n",
       "    }\n",
       "\n",
       "    .dataframe tbody tr th {\n",
       "        vertical-align: top;\n",
       "    }\n",
       "\n",
       "    .dataframe thead th {\n",
       "        text-align: right;\n",
       "    }\n",
       "</style>\n",
       "<table border=\"1\" class=\"dataframe\">\n",
       "  <thead>\n",
       "    <tr style=\"text-align: right;\">\n",
       "      <th></th>\n",
       "      <th>event_datetime</th>\n",
       "      <th>event</th>\n",
       "      <th>building_type</th>\n",
       "      <th>user_id</th>\n",
       "      <th>project_type</th>\n",
       "      <th>event_date</th>\n",
       "      <th>event_week</th>\n",
       "      <th>type</th>\n",
       "    </tr>\n",
       "  </thead>\n",
       "  <tbody>\n",
       "    <tr>\n",
       "      <th>0</th>\n",
       "      <td>2020-05-04 00:00:01</td>\n",
       "      <td>building</td>\n",
       "      <td>assembly_shop</td>\n",
       "      <td>55e92310-cb8e-4754-b622-597e124b03de</td>\n",
       "      <td>NaN</td>\n",
       "      <td>2020-05-04</td>\n",
       "      <td>19</td>\n",
       "      <td>Первый уровень не завершен</td>\n",
       "    </tr>\n",
       "    <tr>\n",
       "      <th>1</th>\n",
       "      <td>2020-05-04 00:00:03</td>\n",
       "      <td>building</td>\n",
       "      <td>assembly_shop</td>\n",
       "      <td>c07b1c10-f477-44dc-81dc-ec82254b1347</td>\n",
       "      <td>NaN</td>\n",
       "      <td>2020-05-04</td>\n",
       "      <td>19</td>\n",
       "      <td>Реализация проекта</td>\n",
       "    </tr>\n",
       "    <tr>\n",
       "      <th>2</th>\n",
       "      <td>2020-05-04 00:00:16</td>\n",
       "      <td>building</td>\n",
       "      <td>assembly_shop</td>\n",
       "      <td>6edd42cc-e753-4ff6-a947-2107cd560710</td>\n",
       "      <td>NaN</td>\n",
       "      <td>2020-05-04</td>\n",
       "      <td>19</td>\n",
       "      <td>Победа над первым врагом</td>\n",
       "    </tr>\n",
       "    <tr>\n",
       "      <th>3</th>\n",
       "      <td>2020-05-04 00:00:16</td>\n",
       "      <td>building</td>\n",
       "      <td>assembly_shop</td>\n",
       "      <td>92c69003-d60a-444a-827f-8cc51bf6bf4c</td>\n",
       "      <td>NaN</td>\n",
       "      <td>2020-05-04</td>\n",
       "      <td>19</td>\n",
       "      <td>Первый уровень не завершен</td>\n",
       "    </tr>\n",
       "    <tr>\n",
       "      <th>4</th>\n",
       "      <td>2020-05-04 00:00:35</td>\n",
       "      <td>building</td>\n",
       "      <td>assembly_shop</td>\n",
       "      <td>cdc6bb92-0ccb-4490-9866-ef142f09139d</td>\n",
       "      <td>NaN</td>\n",
       "      <td>2020-05-04</td>\n",
       "      <td>19</td>\n",
       "      <td>Победа над первым врагом</td>\n",
       "    </tr>\n",
       "  </tbody>\n",
       "</table>\n",
       "</div>"
      ],
      "text/plain": [
       "       event_datetime     event  building_type  \\\n",
       "0 2020-05-04 00:00:01  building  assembly_shop   \n",
       "1 2020-05-04 00:00:03  building  assembly_shop   \n",
       "2 2020-05-04 00:00:16  building  assembly_shop   \n",
       "3 2020-05-04 00:00:16  building  assembly_shop   \n",
       "4 2020-05-04 00:00:35  building  assembly_shop   \n",
       "\n",
       "                                user_id project_type  event_date  event_week  \\\n",
       "0  55e92310-cb8e-4754-b622-597e124b03de          NaN  2020-05-04          19   \n",
       "1  c07b1c10-f477-44dc-81dc-ec82254b1347          NaN  2020-05-04          19   \n",
       "2  6edd42cc-e753-4ff6-a947-2107cd560710          NaN  2020-05-04          19   \n",
       "3  92c69003-d60a-444a-827f-8cc51bf6bf4c          NaN  2020-05-04          19   \n",
       "4  cdc6bb92-0ccb-4490-9866-ef142f09139d          NaN  2020-05-04          19   \n",
       "\n",
       "                         type  \n",
       "0  Первый уровень не завершен  \n",
       "1          Реализация проекта  \n",
       "2    Победа над первым врагом  \n",
       "3  Первый уровень не завершен  \n",
       "4    Победа над первым врагом  "
      ]
     },
     "execution_count": 59,
     "metadata": {},
     "output_type": "execute_result"
    }
   ],
   "source": [
    "# сформируем новый датасет, где для каждого события укажем к какому варианту прохождения уровня относится\n",
    "\n",
    "game_actions_type = game_actions\n",
    "\n",
    "game_actions_type.loc[(game_actions['event'] == \"building\") \n",
    "                  & (game_actions['user_id'].isin(user_win)), 'type'] = 'Победа над первым врагом'   \n",
    "\n",
    "game_actions_type.loc[(game_actions['event'] == \"building\") \n",
    "                  & (game_actions['user_id'].isin(user_project)), 'type'] = 'Реализация проекта'\n",
    "\n",
    "game_actions_type.loc[(game_actions['event'] == \"building\") \n",
    "                  & (~game_actions['user_id'].isin(user_project)) & (~game_actions['user_id'].isin(user_win)), 'type'] = 'Первый уровень не завершен'\n",
    "\n",
    "game_actions_type.loc[(game_actions['event'] == \"finished_stage_1\") \n",
    "                  & (game_actions['user_id'].isin(user_project)), 'type'] = 'Реализация проекта'\n",
    "\n",
    "game_actions_type.head()"
   ]
  },
  {
   "cell_type": "code",
   "execution_count": 60,
   "metadata": {},
   "outputs": [
    {
     "data": {
      "text/html": [
       "<div>\n",
       "<style scoped>\n",
       "    .dataframe tbody tr th:only-of-type {\n",
       "        vertical-align: middle;\n",
       "    }\n",
       "\n",
       "    .dataframe tbody tr th {\n",
       "        vertical-align: top;\n",
       "    }\n",
       "\n",
       "    .dataframe thead th {\n",
       "        text-align: right;\n",
       "    }\n",
       "</style>\n",
       "<table border=\"1\" class=\"dataframe\">\n",
       "  <thead>\n",
       "    <tr style=\"text-align: right;\">\n",
       "      <th></th>\n",
       "      <th>type</th>\n",
       "      <th>building_type</th>\n",
       "      <th>user_id</th>\n",
       "      <th>count</th>\n",
       "    </tr>\n",
       "  </thead>\n",
       "  <tbody>\n",
       "    <tr>\n",
       "      <th>0</th>\n",
       "      <td>Первый уровень не завершен</td>\n",
       "      <td>67170</td>\n",
       "      <td>7759</td>\n",
       "      <td>8.657043</td>\n",
       "    </tr>\n",
       "    <tr>\n",
       "      <th>1</th>\n",
       "      <td>Победа над первым врагом</td>\n",
       "      <td>37185</td>\n",
       "      <td>3951</td>\n",
       "      <td>9.411541</td>\n",
       "    </tr>\n",
       "    <tr>\n",
       "      <th>2</th>\n",
       "      <td>Реализация проекта</td>\n",
       "      <td>23601</td>\n",
       "      <td>1866</td>\n",
       "      <td>12.647910</td>\n",
       "    </tr>\n",
       "  </tbody>\n",
       "</table>\n",
       "</div>"
      ],
      "text/plain": [
       "                         type  building_type  user_id      count\n",
       "0  Первый уровень не завершен          67170     7759   8.657043\n",
       "1    Победа над первым врагом          37185     3951   9.411541\n",
       "2          Реализация проекта          23601     1866  12.647910"
      ]
     },
     "execution_count": 60,
     "metadata": {},
     "output_type": "execute_result"
    }
   ],
   "source": [
    "# посмотрим, как распределены уникальные пользователи\n",
    "\n",
    "building_count = game_actions_type.groupby('type').agg({'building_type':'count','user_id':'nunique'}).reset_index().sort_values(by = 'user_id', ascending = False)\n",
    "building_count['count'] = building_count['building_type'] / building_count['user_id']\n",
    "building_count"
   ]
  },
  {
   "cell_type": "code",
   "execution_count": 61,
   "metadata": {},
   "outputs": [
    {
     "data": {
      "image/png": "[encoded data removed]",
      "text/plain": [
       "<Figure size 1080x504 with 1 Axes>"
      ]
     },
     "metadata": {
      "needs_background": "light"
     },
     "output_type": "display_data"
    }
   ],
   "source": [
    "# построим график распределения \n",
    "\n",
    "plt.figure(figsize=(15,7))\n",
    "ax = sns.barplot(data=building_count, x='type', y='count')\n",
    "plt.suptitle('Количество построек на каждого пользователя')\n",
    "plt.xlabel('Вариант прохожденияя уровня')\n",
    "plt.ylabel('Количество')\n",
    "sns.set_palette('dark') \n",
    "\n",
    "#добавим подписи\n",
    "\n",
    "for p in ax.patches:\n",
    "    height = p.get_height()\n",
    "    ax.text(p.get_x()+p.get_width()/2.,\n",
    "            height + 0.1,\n",
    "            '{:1.2f}'.format(height),\n",
    "            ha=\"center\")"
   ]
  },
  {
   "cell_type": "code",
   "execution_count": 62,
   "metadata": {},
   "outputs": [
    {
     "data": {
      "image/png": "[encoded data removed]",
      "text/plain": [
       "<Figure size 1728x720 with 1 Axes>"
      ]
     },
     "metadata": {
      "needs_background": "light"
     },
     "output_type": "display_data"
    }
   ],
   "source": [
    "#построим гистограммы\n",
    "\n",
    "game_actions_type.pivot_table(index ='event_date',\n",
    "                                                columns = 'type', values = 'building_type', aggfunc = 'count').plot(kind = 'bar', grid = True, figsize = (24,10),title='Количество построек')\n",
    "\n",
    "plt.xlabel('Дата')\n",
    "plt.ylabel('Количество построек')\n",
    "plt.show()"
   ]
  },
  {
   "cell_type": "markdown",
   "metadata": {},
   "source": [
    "Вывод\n",
    "\n",
    "Количество построек на пользователя в разрезе варианта прохождения уровня:\n",
    "\n",
    "Реализация проекта: 12.65\n",
    "Победа над первым врагом: 9.41\n",
    "Первый уровень не завершён: 8.66"
   ]
  },
  {
   "cell_type": "markdown",
   "metadata": {},
   "source": [
    "#### Сколько раз за день пользователи в среднем заходят в мобильное приложение"
   ]
  },
  {
   "cell_type": "code",
   "execution_count": 63,
   "metadata": {},
   "outputs": [
    {
     "data": {
      "text/plain": [
       "visits             4110.272727\n",
       "users              2884.878788\n",
       "visits_per_user       1.333484\n",
       "dtype: float64"
      ]
     },
     "execution_count": 63,
     "metadata": {},
     "output_type": "execute_result"
    }
   ],
   "source": [
    "# рассчитаем количество сессий в день на каждого уникального пользователя\n",
    "\n",
    "visits_per_user = game_actions.groupby('event_date').agg({'user_id': ['count', 'nunique']})\n",
    "\n",
    "visits_per_user.columns = ['visits', 'users']\n",
    "visits_per_user['visits_per_user'] = visits_per_user['visits'] / visits_per_user['users'] \n",
    "visits_per_user.mean()"
   ]
  },
  {
   "cell_type": "code",
   "execution_count": 64,
   "metadata": {},
   "outputs": [
    {
     "data": {
      "text/plain": [
       "event_date\n",
       "2020-05-10    1.649528\n",
       "2020-05-09    1.564093\n",
       "2020-05-08    1.528197\n",
       "2020-05-07    1.470477\n",
       "2020-05-06    1.448060\n",
       "2020-06-04    1.428571\n",
       "2020-05-05    1.418834\n",
       "2020-05-04    1.394369\n",
       "2020-05-12    1.370845\n",
       "2020-05-11    1.365304\n",
       "Name: visits_per_user, dtype: float64"
      ]
     },
     "execution_count": 64,
     "metadata": {},
     "output_type": "execute_result"
    }
   ],
   "source": [
    "# посмотрим столбец visits_per_user\n",
    "\n",
    "visits_per_user['visits_per_user'].sort_values(ascending = False).head(10)"
   ]
  },
  {
   "cell_type": "code",
   "execution_count": 65,
   "metadata": {},
   "outputs": [
    {
     "name": "stdout",
     "output_type": "stream",
     "text": [
      "Максимальное количество сессий в день на каждого уникального пользователя: 1.65\n"
     ]
    }
   ],
   "source": [
    "# рассчитаем максимальное количество сессий в день на каждого уникального пользователя\n",
    "\n",
    "print('Максимальное количество сессий в день на каждого уникального пользователя: {:.2f}'.format(visits_per_user['visits_per_user'].max()))"
   ]
  },
  {
   "cell_type": "code",
   "execution_count": 66,
   "metadata": {},
   "outputs": [
    {
     "name": "stdout",
     "output_type": "stream",
     "text": [
      "Минимальное количество сессий в день на каждого уникального пользователя: 1.22\n"
     ]
    }
   ],
   "source": [
    "# рассчитаем минимальное количество сессий в день на каждого уникального пользователя\n",
    "\n",
    "print('Минимальное количество сессий в день на каждого уникального пользователя: {:.2f}'. format(visits_per_user['visits_per_user'].min()))"
   ]
  },
  {
   "cell_type": "code",
   "execution_count": 67,
   "metadata": {},
   "outputs": [
    {
     "data": {
      "image/png": "[encoded data removed]",
      "text/plain": [
       "<Figure size 1728x720 with 1 Axes>"
      ]
     },
     "metadata": {
      "needs_background": "light"
     },
     "output_type": "display_data"
    }
   ],
   "source": [
    "# построим график\n",
    "\n",
    "visits_per_user['visits_per_user'].plot(grid = True, figsize = (24,10),title='Сколько раз за день пользователи в среднем заходят на сайт')\n",
    "plt.xlabel('Дни')\n",
    "plt.ylabel('Среднее количество сесий')\n",
    "plt.show()"
   ]
  },
  {
   "cell_type": "markdown",
   "metadata": {},
   "source": [
    "Вывод\n",
    "\n",
    "Подсчитаем, сколько раз за день пользователи в среднем заходят в мобильное приложение.\n",
    "\n",
    "Среднее количество сессий в день = 4110\n",
    "Среднее количество уникальных пользователей в день = 2884\n",
    "Среднее количество сессий в день на каждого уникального пользователя = 1.33\n",
    "Максимальное количество сессий в день на каждого уникального пользователя = 1.65\n",
    "Минимальное количество сессий в день на каждого уникального пользователя = 1.22.\n",
    "\n",
    "На графике видим, что максимальное количество сессий в день на каждого уникального пользователя приходится на 10 мая. Далее видим снижение до 2021-05-20 , за которым следуют периодические подъемы и снижения, с максимальным падением 2020-05.29 и максимальным подъемом 2020-05.04.Активность пошла на спад после 21-го мая. То есть после привлечения последнего игрока активность медленно падала в течение 11 дней, а дальше стабилизировалась к минимальным показателям."
   ]
  },
  {
   "cell_type": "markdown",
   "metadata": {},
   "source": [
    "#### Показатели вовлечённости - DAU, WAU, Sticky Factor"
   ]
  },
  {
   "cell_type": "code",
   "execution_count": 68,
   "metadata": {},
   "outputs": [
    {
     "name": "stdout",
     "output_type": "stream",
     "text": [
      "Количество уникальных пользователей в день DAU: 2884\n"
     ]
    }
   ],
   "source": [
    "# cгруппируем данные по уникальным пользователям и найдём среднее\n",
    "\n",
    "# DAU - количество уникальных пользователей в день\n",
    "\n",
    "dau_total = game_actions.groupby('event_date').agg({'user_id': 'nunique'}).mean()\n",
    "\n",
    "print('Количество уникальных пользователей в день DAU:', int(dau_total))"
   ]
  },
  {
   "cell_type": "code",
   "execution_count": 69,
   "metadata": {},
   "outputs": [
    {
     "data": {
      "text/html": [
       "<div>\n",
       "<style scoped>\n",
       "    .dataframe tbody tr th:only-of-type {\n",
       "        vertical-align: middle;\n",
       "    }\n",
       "\n",
       "    .dataframe tbody tr th {\n",
       "        vertical-align: top;\n",
       "    }\n",
       "\n",
       "    .dataframe thead th {\n",
       "        text-align: right;\n",
       "    }\n",
       "</style>\n",
       "<table border=\"1\" class=\"dataframe\">\n",
       "  <thead>\n",
       "    <tr style=\"text-align: right;\">\n",
       "      <th></th>\n",
       "      <th>user_id</th>\n",
       "    </tr>\n",
       "    <tr>\n",
       "      <th>event_date</th>\n",
       "      <th></th>\n",
       "    </tr>\n",
       "  </thead>\n",
       "  <tbody>\n",
       "    <tr>\n",
       "      <th>2020-05-10</th>\n",
       "      <td>9219</td>\n",
       "    </tr>\n",
       "    <tr>\n",
       "      <th>2020-05-09</th>\n",
       "      <td>8394</td>\n",
       "    </tr>\n",
       "    <tr>\n",
       "      <th>2020-05-08</th>\n",
       "      <td>7891</td>\n",
       "    </tr>\n",
       "    <tr>\n",
       "      <th>2020-05-07</th>\n",
       "      <td>7384</td>\n",
       "    </tr>\n",
       "    <tr>\n",
       "      <th>2020-05-06</th>\n",
       "      <td>6854</td>\n",
       "    </tr>\n",
       "  </tbody>\n",
       "</table>\n",
       "</div>"
      ],
      "text/plain": [
       "            user_id\n",
       "event_date         \n",
       "2020-05-10     9219\n",
       "2020-05-09     8394\n",
       "2020-05-08     7891\n",
       "2020-05-07     7384\n",
       "2020-05-06     6854"
      ]
     },
     "execution_count": 69,
     "metadata": {},
     "output_type": "execute_result"
    }
   ],
   "source": [
    "# посмотрим количество уникальных пользователей по дням\n",
    "\n",
    "game_actions.groupby('event_date').agg({'user_id': 'nunique'}).sort_values(by = 'user_id', ascending = False).head()"
   ]
  },
  {
   "cell_type": "code",
   "execution_count": 70,
   "metadata": {},
   "outputs": [
    {
     "name": "stdout",
     "output_type": "stream",
     "text": [
      "Количество уникальных пользователей в неделю WAU: 6120\n"
     ]
    }
   ],
   "source": [
    "# WAU - количество уникальных пользователей в неделю\n",
    "\n",
    "wau_total = game_actions.groupby('event_week').agg({'user_id': 'nunique'}).mean()\n",
    "\n",
    "print('Количество уникальных пользователей в неделю WAU:', int(wau_total))"
   ]
  },
  {
   "cell_type": "code",
   "execution_count": 71,
   "metadata": {},
   "outputs": [
    {
     "name": "stdout",
     "output_type": "stream",
     "text": [
      "Вовлечённость аудитории Sticky Factor за неделю: 47.12%\n"
     ]
    }
   ],
   "source": [
    "# рассчитаем метрику Sticky Factor за неделю\n",
    "\n",
    "sticky_week = int(dau_total) / int(wau_total)\n",
    "print('Вовлечённость аудитории Sticky Factor за неделю: {:.2%}'.format(sticky_week))"
   ]
  },
  {
   "cell_type": "code",
   "execution_count": 72,
   "metadata": {
    "scrolled": true
   },
   "outputs": [
    {
     "data": {
      "image/png": "[encoded data removed]",
      "text/plain": [
       "<Figure size 1080x504 with 1 Axes>"
      ]
     },
     "metadata": {
      "needs_background": "light"
     },
     "output_type": "display_data"
    }
   ],
   "source": [
    "# построим график количества уникальных пользователей в день DAU\n",
    "\n",
    "game_actions.groupby('event_date').agg({'user_id': 'nunique'}).plot(grid = True, figsize = (15,7),title='Количество уникальных пользователей в день DAU')\n",
    "plt.xlabel('Дни')\n",
    "plt.xticks(np.arange(game_actions['event_date'].min(), game_actions['event_date'].max() + pd.to_timedelta('1 day'), pd.to_timedelta('1 day')), rotation = 45)\n",
    "plt.ylabel('Количество уникальных пользователей в день DAU')\n",
    "plt.show()\n"
   ]
  },
  {
   "cell_type": "code",
   "execution_count": 73,
   "metadata": {},
   "outputs": [
    {
     "data": {
      "image/png": "[encoded data removed]",
      "text/plain": [
       "<Figure size 1080x504 with 1 Axes>"
      ]
     },
     "metadata": {
      "needs_background": "light"
     },
     "output_type": "display_data"
    }
   ],
   "source": [
    "#построим график количества уникальных пользователей в неделю WAU\n",
    "\n",
    "game_actions.groupby('event_week').agg({'user_id': 'nunique'}).plot(grid = True, figsize = (15,7),title='Количество уникальных пользователей в неделю WAU')\n",
    "plt.xlabel('Недели')\n",
    "plt.ylabel('Количество уникальных пользователей в неделю WAU')\n",
    "plt.show()"
   ]
  },
  {
   "cell_type": "markdown",
   "metadata": {},
   "source": [
    "Вывод\n",
    "\n",
    "На данном шаге подсчитаем показатели вовлеченности - количество уникальных пользователей в день DAU, в неделю WAU, Sticky Factor за неделю.\n",
    "\n",
    "Количество уникальных пользователей в день DAU = 2884 пользователя\n",
    "\n",
    "Количество уникальных пользователей в неделю WAU = 6120 пользователей\n",
    "\n",
    "Вовлечённость аудитории Sticky Factor за неделю = 47.12%\n",
    "\n",
    "Количество уникальных пользователей приходится на каждый день:\n",
    "- на первом месте 2020-05-10 = 9219 уникальных пользователей\n",
    "- на втором месте 2020-05-09 = 8394 уникальных пользователя\n",
    "- на третьем месте 2020-05-08 = 7891 уникальный пользователь\n",
    "\n",
    "На графиках также видим, что самое большое количество пользователей приходится на 10 мая, и в целом пик приходится на \"вторые майские\" праздники. Видимо, в честь праздника пользователи решили сразиться с виртуальными врагами. Также по условию задачи нам представлены данные по первому уровню, получается, большинство пользователей прошли уровень к 10 мая, а далее перешли на второй уровень или ушли в отток, и количество пользователей в день закономерно снижается.\n",
    "\n",
    "Наглядно видим большую информативность DAU над WAU."
   ]
  },
  {
   "cell_type": "markdown",
   "metadata": {},
   "source": [
    "#### Коэффициент удержания Retention Rate"
   ]
  },
  {
   "cell_type": "markdown",
   "metadata": {},
   "source": [
    "Так как не все пользователи проходят первый уровень, для расчета метрики Retention Rate рассмотрим 2 когорты:1)пользователи, окончившие первый уровень (любым способом), 2)пользователи, которые не закончили первый уровень. "
   ]
  },
  {
   "cell_type": "code",
   "execution_count": 74,
   "metadata": {},
   "outputs": [
    {
     "data": {
      "text/plain": [
       "user_id\n",
       "0001f83c-c6ac-4621-b7f0-8a28b283ac30    2020-05-06\n",
       "00151b4f-ba38-44a8-a650-d7cf130a0105    2020-05-06\n",
       "001aaea6-3d14-43f1-8ca8-7f48820f17aa    2020-05-05\n",
       "001d39dc-366c-4021-9604-6a3b9ff01e25    2020-05-05\n",
       "002f508f-67b6-479f-814b-b05f00d4e995    2020-05-05\n",
       "Name: first_date, dtype: object"
      ]
     },
     "execution_count": 74,
     "metadata": {},
     "output_type": "execute_result"
    }
   ],
   "source": [
    "#возьмём дату, когда пользователь впервые проявил активность\n",
    "\n",
    "first_date = game_actions.groupby(['user_id'])['event_date'].min()\n",
    "\n",
    "#данные запишем в объект Series\n",
    "\n",
    "first_date.name = 'first_date'\n",
    "first_date.head()"
   ]
  },
  {
   "cell_type": "code",
   "execution_count": 75,
   "metadata": {
    "scrolled": false
   },
   "outputs": [
    {
     "data": {
      "text/html": [
       "<div>\n",
       "<style scoped>\n",
       "    .dataframe tbody tr th:only-of-type {\n",
       "        vertical-align: middle;\n",
       "    }\n",
       "\n",
       "    .dataframe tbody tr th {\n",
       "        vertical-align: top;\n",
       "    }\n",
       "\n",
       "    .dataframe thead th {\n",
       "        text-align: right;\n",
       "    }\n",
       "</style>\n",
       "<table border=\"1\" class=\"dataframe\">\n",
       "  <thead>\n",
       "    <tr style=\"text-align: right;\">\n",
       "      <th></th>\n",
       "      <th>event_datetime</th>\n",
       "      <th>event</th>\n",
       "      <th>building_type</th>\n",
       "      <th>user_id</th>\n",
       "      <th>project_type</th>\n",
       "      <th>event_date</th>\n",
       "      <th>event_week</th>\n",
       "      <th>type</th>\n",
       "      <th>first_date</th>\n",
       "    </tr>\n",
       "  </thead>\n",
       "  <tbody>\n",
       "    <tr>\n",
       "      <th>0</th>\n",
       "      <td>2020-05-04 00:00:01</td>\n",
       "      <td>building</td>\n",
       "      <td>assembly_shop</td>\n",
       "      <td>55e92310-cb8e-4754-b622-597e124b03de</td>\n",
       "      <td>NaN</td>\n",
       "      <td>2020-05-04</td>\n",
       "      <td>19</td>\n",
       "      <td>Первый уровень не завершен</td>\n",
       "      <td>2020-05-04</td>\n",
       "    </tr>\n",
       "    <tr>\n",
       "      <th>1</th>\n",
       "      <td>2020-05-04 00:00:03</td>\n",
       "      <td>building</td>\n",
       "      <td>assembly_shop</td>\n",
       "      <td>c07b1c10-f477-44dc-81dc-ec82254b1347</td>\n",
       "      <td>NaN</td>\n",
       "      <td>2020-05-04</td>\n",
       "      <td>19</td>\n",
       "      <td>Реализация проекта</td>\n",
       "      <td>2020-05-04</td>\n",
       "    </tr>\n",
       "    <tr>\n",
       "      <th>2</th>\n",
       "      <td>2020-05-04 00:00:16</td>\n",
       "      <td>building</td>\n",
       "      <td>assembly_shop</td>\n",
       "      <td>6edd42cc-e753-4ff6-a947-2107cd560710</td>\n",
       "      <td>NaN</td>\n",
       "      <td>2020-05-04</td>\n",
       "      <td>19</td>\n",
       "      <td>Победа над первым врагом</td>\n",
       "      <td>2020-05-04</td>\n",
       "    </tr>\n",
       "    <tr>\n",
       "      <th>3</th>\n",
       "      <td>2020-05-04 00:00:16</td>\n",
       "      <td>building</td>\n",
       "      <td>assembly_shop</td>\n",
       "      <td>92c69003-d60a-444a-827f-8cc51bf6bf4c</td>\n",
       "      <td>NaN</td>\n",
       "      <td>2020-05-04</td>\n",
       "      <td>19</td>\n",
       "      <td>Первый уровень не завершен</td>\n",
       "      <td>2020-05-04</td>\n",
       "    </tr>\n",
       "    <tr>\n",
       "      <th>4</th>\n",
       "      <td>2020-05-04 00:00:35</td>\n",
       "      <td>building</td>\n",
       "      <td>assembly_shop</td>\n",
       "      <td>cdc6bb92-0ccb-4490-9866-ef142f09139d</td>\n",
       "      <td>NaN</td>\n",
       "      <td>2020-05-04</td>\n",
       "      <td>19</td>\n",
       "      <td>Победа над первым врагом</td>\n",
       "      <td>2020-05-04</td>\n",
       "    </tr>\n",
       "  </tbody>\n",
       "</table>\n",
       "</div>"
      ],
      "text/plain": [
       "       event_datetime     event  building_type  \\\n",
       "0 2020-05-04 00:00:01  building  assembly_shop   \n",
       "1 2020-05-04 00:00:03  building  assembly_shop   \n",
       "2 2020-05-04 00:00:16  building  assembly_shop   \n",
       "3 2020-05-04 00:00:16  building  assembly_shop   \n",
       "4 2020-05-04 00:00:35  building  assembly_shop   \n",
       "\n",
       "                                user_id project_type  event_date  event_week  \\\n",
       "0  55e92310-cb8e-4754-b622-597e124b03de          NaN  2020-05-04          19   \n",
       "1  c07b1c10-f477-44dc-81dc-ec82254b1347          NaN  2020-05-04          19   \n",
       "2  6edd42cc-e753-4ff6-a947-2107cd560710          NaN  2020-05-04          19   \n",
       "3  92c69003-d60a-444a-827f-8cc51bf6bf4c          NaN  2020-05-04          19   \n",
       "4  cdc6bb92-0ccb-4490-9866-ef142f09139d          NaN  2020-05-04          19   \n",
       "\n",
       "                         type  first_date  \n",
       "0  Первый уровень не завершен  2020-05-04  \n",
       "1          Реализация проекта  2020-05-04  \n",
       "2    Победа над первым врагом  2020-05-04  \n",
       "3  Первый уровень не завершен  2020-05-04  \n",
       "4    Победа над первым врагом  2020-05-04  "
      ]
     },
     "execution_count": 75,
     "metadata": {},
     "output_type": "execute_result"
    }
   ],
   "source": [
    "#объединим датафрейм и Series по столбцу 'user_id':\n",
    "\n",
    "game_actions = game_actions.join(first_date, on='user_id') \n",
    "\n",
    "game_actions.head()"
   ]
  },
  {
   "cell_type": "code",
   "execution_count": 76,
   "metadata": {},
   "outputs": [],
   "source": [
    "# выделим из столбцов event_date и first_date день\n",
    "\n",
    "game_actions['event_day'] = game_actions['event_date'].astype('datetime64[D]')\n",
    "\n",
    "game_actions['first_day'] = game_actions['first_date'].astype('datetime64[D]')\n"
   ]
  },
  {
   "cell_type": "code",
   "execution_count": 77,
   "metadata": {},
   "outputs": [
    {
     "data": {
      "text/html": [
       "<div>\n",
       "<style scoped>\n",
       "    .dataframe tbody tr th:only-of-type {\n",
       "        vertical-align: middle;\n",
       "    }\n",
       "\n",
       "    .dataframe tbody tr th {\n",
       "        vertical-align: top;\n",
       "    }\n",
       "\n",
       "    .dataframe thead th {\n",
       "        text-align: right;\n",
       "    }\n",
       "</style>\n",
       "<table border=\"1\" class=\"dataframe\">\n",
       "  <thead>\n",
       "    <tr style=\"text-align: right;\">\n",
       "      <th></th>\n",
       "      <th>first_day</th>\n",
       "      <th>cohort_lifetime</th>\n",
       "      <th>user_id</th>\n",
       "    </tr>\n",
       "  </thead>\n",
       "  <tbody>\n",
       "    <tr>\n",
       "      <th>0</th>\n",
       "      <td>2020-05-04</td>\n",
       "      <td>0</td>\n",
       "      <td>5860</td>\n",
       "    </tr>\n",
       "    <tr>\n",
       "      <th>1</th>\n",
       "      <td>2020-05-04</td>\n",
       "      <td>1</td>\n",
       "      <td>3021</td>\n",
       "    </tr>\n",
       "    <tr>\n",
       "      <th>2</th>\n",
       "      <td>2020-05-04</td>\n",
       "      <td>2</td>\n",
       "      <td>3204</td>\n",
       "    </tr>\n",
       "    <tr>\n",
       "      <th>3</th>\n",
       "      <td>2020-05-04</td>\n",
       "      <td>3</td>\n",
       "      <td>3412</td>\n",
       "    </tr>\n",
       "    <tr>\n",
       "      <th>4</th>\n",
       "      <td>2020-05-04</td>\n",
       "      <td>4</td>\n",
       "      <td>3564</td>\n",
       "    </tr>\n",
       "  </tbody>\n",
       "</table>\n",
       "</div>"
      ],
      "text/plain": [
       "   first_day  cohort_lifetime  user_id\n",
       "0 2020-05-04                0     5860\n",
       "1 2020-05-04                1     3021\n",
       "2 2020-05-04                2     3204\n",
       "3 2020-05-04                3     3412\n",
       "4 2020-05-04                4     3564"
      ]
     },
     "execution_count": 77,
     "metadata": {},
     "output_type": "execute_result"
    }
   ],
   "source": [
    "# рассчитаем lifetime пользователя в рамках когорты\n",
    "\n",
    "\n",
    "game_actions['cohort_lifetime'] = game_actions['event_day'] - game_actions['first_day']\n",
    "\n",
    "game_actions['cohort_lifetime'] = game_actions['cohort_lifetime'] / np.timedelta64(1, 'D')\n",
    "\n",
    "game_actions['cohort_lifetime'] = game_actions['cohort_lifetime'].round().astype('int') \n",
    "\n",
    "# сгруппируем данные по когорте и lifetime\n",
    "\n",
    "cohorts = game_actions.groupby(['first_day','cohort_lifetime']).agg({'user_id':'nunique'}).reset_index() \n",
    "cohorts.head()"
   ]
  },
  {
   "cell_type": "code",
   "execution_count": 78,
   "metadata": {},
   "outputs": [
    {
     "data": {
      "text/html": [
       "<div>\n",
       "<style scoped>\n",
       "    .dataframe tbody tr th:only-of-type {\n",
       "        vertical-align: middle;\n",
       "    }\n",
       "\n",
       "    .dataframe tbody tr th {\n",
       "        vertical-align: top;\n",
       "    }\n",
       "\n",
       "    .dataframe thead th {\n",
       "        text-align: right;\n",
       "    }\n",
       "</style>\n",
       "<table border=\"1\" class=\"dataframe\">\n",
       "  <thead>\n",
       "    <tr style=\"text-align: right;\">\n",
       "      <th></th>\n",
       "      <th>event_datetime</th>\n",
       "      <th>event</th>\n",
       "      <th>building_type</th>\n",
       "      <th>user_id</th>\n",
       "      <th>project_type</th>\n",
       "      <th>event_date</th>\n",
       "      <th>event_week</th>\n",
       "      <th>type</th>\n",
       "      <th>first_date</th>\n",
       "      <th>event_day</th>\n",
       "      <th>first_day</th>\n",
       "      <th>cohort_lifetime</th>\n",
       "      <th>time_in_game</th>\n",
       "    </tr>\n",
       "  </thead>\n",
       "  <tbody>\n",
       "    <tr>\n",
       "      <th>0</th>\n",
       "      <td>2020-05-04 00:00:01</td>\n",
       "      <td>building</td>\n",
       "      <td>assembly_shop</td>\n",
       "      <td>55e92310-cb8e-4754-b622-597e124b03de</td>\n",
       "      <td>NaN</td>\n",
       "      <td>2020-05-04</td>\n",
       "      <td>19</td>\n",
       "      <td>Первый уровень не завершен</td>\n",
       "      <td>2020-05-04</td>\n",
       "      <td>2020-05-04</td>\n",
       "      <td>2020-05-04</td>\n",
       "      <td>0</td>\n",
       "      <td>6</td>\n",
       "    </tr>\n",
       "    <tr>\n",
       "      <th>1</th>\n",
       "      <td>2020-05-05 05:20:15</td>\n",
       "      <td>building</td>\n",
       "      <td>assembly_shop</td>\n",
       "      <td>55e92310-cb8e-4754-b622-597e124b03de</td>\n",
       "      <td>NaN</td>\n",
       "      <td>2020-05-05</td>\n",
       "      <td>19</td>\n",
       "      <td>Первый уровень не завершен</td>\n",
       "      <td>2020-05-04</td>\n",
       "      <td>2020-05-05</td>\n",
       "      <td>2020-05-04</td>\n",
       "      <td>1</td>\n",
       "      <td>6</td>\n",
       "    </tr>\n",
       "    <tr>\n",
       "      <th>2</th>\n",
       "      <td>2020-05-05 19:24:02</td>\n",
       "      <td>building</td>\n",
       "      <td>assembly_shop</td>\n",
       "      <td>55e92310-cb8e-4754-b622-597e124b03de</td>\n",
       "      <td>NaN</td>\n",
       "      <td>2020-05-05</td>\n",
       "      <td>19</td>\n",
       "      <td>Первый уровень не завершен</td>\n",
       "      <td>2020-05-04</td>\n",
       "      <td>2020-05-05</td>\n",
       "      <td>2020-05-04</td>\n",
       "      <td>1</td>\n",
       "      <td>6</td>\n",
       "    </tr>\n",
       "    <tr>\n",
       "      <th>3</th>\n",
       "      <td>2020-05-05 20:59:19</td>\n",
       "      <td>building</td>\n",
       "      <td>assembly_shop</td>\n",
       "      <td>55e92310-cb8e-4754-b622-597e124b03de</td>\n",
       "      <td>NaN</td>\n",
       "      <td>2020-05-05</td>\n",
       "      <td>19</td>\n",
       "      <td>Первый уровень не завершен</td>\n",
       "      <td>2020-05-04</td>\n",
       "      <td>2020-05-05</td>\n",
       "      <td>2020-05-04</td>\n",
       "      <td>1</td>\n",
       "      <td>6</td>\n",
       "    </tr>\n",
       "    <tr>\n",
       "      <th>4</th>\n",
       "      <td>2020-05-06 00:52:56</td>\n",
       "      <td>building</td>\n",
       "      <td>assembly_shop</td>\n",
       "      <td>55e92310-cb8e-4754-b622-597e124b03de</td>\n",
       "      <td>NaN</td>\n",
       "      <td>2020-05-06</td>\n",
       "      <td>19</td>\n",
       "      <td>Первый уровень не завершен</td>\n",
       "      <td>2020-05-04</td>\n",
       "      <td>2020-05-06</td>\n",
       "      <td>2020-05-04</td>\n",
       "      <td>2</td>\n",
       "      <td>6</td>\n",
       "    </tr>\n",
       "  </tbody>\n",
       "</table>\n",
       "</div>"
      ],
      "text/plain": [
       "       event_datetime     event  building_type  \\\n",
       "0 2020-05-04 00:00:01  building  assembly_shop   \n",
       "1 2020-05-05 05:20:15  building  assembly_shop   \n",
       "2 2020-05-05 19:24:02  building  assembly_shop   \n",
       "3 2020-05-05 20:59:19  building  assembly_shop   \n",
       "4 2020-05-06 00:52:56  building  assembly_shop   \n",
       "\n",
       "                                user_id project_type  event_date  event_week  \\\n",
       "0  55e92310-cb8e-4754-b622-597e124b03de          NaN  2020-05-04          19   \n",
       "1  55e92310-cb8e-4754-b622-597e124b03de          NaN  2020-05-05          19   \n",
       "2  55e92310-cb8e-4754-b622-597e124b03de          NaN  2020-05-05          19   \n",
       "3  55e92310-cb8e-4754-b622-597e124b03de          NaN  2020-05-05          19   \n",
       "4  55e92310-cb8e-4754-b622-597e124b03de          NaN  2020-05-06          19   \n",
       "\n",
       "                         type  first_date  event_day  first_day  \\\n",
       "0  Первый уровень не завершен  2020-05-04 2020-05-04 2020-05-04   \n",
       "1  Первый уровень не завершен  2020-05-04 2020-05-05 2020-05-04   \n",
       "2  Первый уровень не завершен  2020-05-04 2020-05-05 2020-05-04   \n",
       "3  Первый уровень не завершен  2020-05-04 2020-05-05 2020-05-04   \n",
       "4  Первый уровень не завершен  2020-05-04 2020-05-06 2020-05-04   \n",
       "\n",
       "   cohort_lifetime  time_in_game  \n",
       "0                0             6  \n",
       "1                1             6  \n",
       "2                1             6  \n",
       "3                1             6  \n",
       "4                2             6  "
      ]
     },
     "execution_count": 78,
     "metadata": {},
     "output_type": "execute_result"
    }
   ],
   "source": [
    "# добавим сколько дней пользователь провел в игре\n",
    "time_in_game = game_actions.groupby('user_id')['cohort_lifetime'].max().reset_index()\n",
    "time_in_game.columns = ['user_id', 'time_in_game']\n",
    "game_actions = game_actions.merge(time_in_game, on='user_id')\n",
    "game_actions.head()"
   ]
  },
  {
   "cell_type": "code",
   "execution_count": 79,
   "metadata": {},
   "outputs": [],
   "source": [
    "# выделим пользователей, которые окончили уровень\n",
    "users_with_finish = game_actions[game_actions['event'] == 'finished_stage_1'].reset_index(drop=True)\n",
    "users_with_finish = users_with_finish['user_id']\n",
    "\n",
    "# пользователи со статусом \"первый уровень получен\"\n",
    "finished = game_actions.query('user_id in @users_with_finish').reset_index(drop=True)\n",
    "# пользователи со статусом \"первый уровень не получен\"\n",
    "not_finished = game_actions.query('user_id not in @users_with_finish').reset_index(drop=True)\n",
    "\n",
    "# выделим пользователей, которые окончили уровень через проект\n",
    "users_with_project = finished[finished['event'] == 'project'].reset_index(drop=True)\n",
    "users_with_project = users_with_project['user_id']\n",
    "\n",
    "# пользователи, получившие первый уровень через проект\n",
    "finished_with_project = finished.query('user_id in @users_with_project').reset_index(drop=True)\n",
    "# пользователи, получившие первый уровень через победу над врагами\n",
    "finished_without_project = finished.query('user_id not in @users_with_project').reset_index(drop=True)\n"
   ]
  },
  {
   "cell_type": "code",
   "execution_count": 80,
   "metadata": {},
   "outputs": [],
   "source": [
    "# функция для построения heatmap retention rate\n",
    "def cohort_heatmap(df, name):\n",
    "    cohorts = df.groupby(['first_date','cohort_lifetime']).agg({'user_id':'nunique'}).reset_index() \n",
    "    initial_users_count = cohorts[cohorts['cohort_lifetime'] == 0][['first_date','user_id']]\n",
    "    initial_users_count.columns = ['first_date', 'initial_uid']\n",
    "    cohorts = cohorts.merge(initial_users_count, on='first_date')\n",
    "    cohorts['retention'] = cohorts['user_id'] / cohorts['initial_uid'] \n",
    "    #cohorts['first_event_datetime'] = cohorts['first_event_datetime'].dt.strftime('%Y-%m-%d')\n",
    "    # считаем Retention по упрощенной формуле\n",
    "    retention_pivot = cohorts.pivot_table(index='first_date',\n",
    "                                      columns='cohort_lifetime',\n",
    "                                      values='retention',\n",
    "                                      aggfunc='sum') \n",
    "    # сделали сводную таблицу по retention и вывели ее для наглядности\n",
    "    sns.set(font_scale=1.03)\n",
    "    plt.figure(figsize=(25, 6))\n",
    "    plt.title(f'Cohorts: User Retention: {name}', fontsize=15)\n",
    "    sns.heatmap(retention_pivot, annot=True, fmt='.1g', linewidths=.5, linecolor='white', cmap= 'viridis'); \n"
   ]
  },
  {
   "cell_type": "code",
   "execution_count": 81,
   "metadata": {},
   "outputs": [],
   "source": [
    "# выведим процентное отношение между основными группами а также retention rate\n",
    "def precent_users(df, df2):\n",
    "    users = df['user_id'].nunique()\n",
    "    users_2 = df2['user_id'].nunique()\n",
    "    precent = users_2 / users\n",
    "    print('{:.1%}'.format(precent))"
   ]
  },
  {
   "cell_type": "code",
   "execution_count": 82,
   "metadata": {},
   "outputs": [
    {
     "name": "stdout",
     "output_type": "stream",
     "text": [
      "Закончили первый уровень:\n",
      "42.8%\n",
      "Не закончили первый уровень:\n",
      "57.2%\n"
     ]
    }
   ],
   "source": [
    "print('Закончили первый уровень:')\n",
    "precent_users(game_actions,finished)\n",
    "print('Не закончили первый уровень:')\n",
    "precent_users(game_actions, not_finished)\n"
   ]
  },
  {
   "cell_type": "markdown",
   "metadata": {},
   "source": [
    "Больше половины пользователей не закончили первый уровень."
   ]
  },
  {
   "cell_type": "code",
   "execution_count": 83,
   "metadata": {},
   "outputs": [
    {
     "name": "stdout",
     "output_type": "stream",
     "text": [
      "Retention Rate пользователей с первым уровнем и пользователей без первого уровня\n",
      " \n"
     ]
    },
    {
     "data": {
      "image/png": "[encoded data removed]",
      "text/plain": [
       "<Figure size 1800x432 with 2 Axes>"
      ]
     },
     "metadata": {},
     "output_type": "display_data"
    },
    {
     "data": {
      "image/png": "[encoded data removed]",
      "text/plain": [
       "<Figure size 1800x432 with 2 Axes>"
      ]
     },
     "metadata": {},
     "output_type": "display_data"
    }
   ],
   "source": [
    "# рассмотрим Retention Rate по кагортам\n",
    "print('Retention Rate пользователей с первым уровнем и пользователей без первого уровня')\n",
    "print(' ')\n",
    "cohort_heatmap(finished, 'finished')\n",
    "cohort_heatmap(not_finished, 'not finished')"
   ]
  },
  {
   "cell_type": "markdown",
   "metadata": {},
   "source": [
    "Вывод\n",
    "\n",
    "Для метрики Retention Rate gредставлено 2 когорты.\n",
    "\n",
    "     первый тепловой график - пользователи, окончившие первый уровень (любым способом), \n",
    "     второй график - пользователи, которые не закончили первый уровень.\n",
    "\n",
    "На графиках видим: \n",
    "- вторая руппа имеет lifetime короче первой. Если пользователи, пришедшие 4 мая и завершившие уровень, еще в малои количестве остаются на 31-й день, то пользователи второй группы пропадают на 27-й день бесследно.\n",
    "\n",
    "Интересно, что и в первой и второй группе есть когорты, которые пропадают на день и возвращаются снова в небольшом количестве на 2-3 дня.\n",
    "- В обоих когортах наблюдается тенденция: чем позже пришел пользователь, тем меньше он заинтересован в игре. Так же когорты \"вымирает\" на 90% к половине lifetime (если lifetime имеет 30 дней, то на 15-й день остнется 10% от изначальных пользователей.\n",
    "\n",
    "Также видими больше половины потерь от первоначального количества пользователей уже на следующий день, после появления новой когорты. Возможно, что в самой игре не  хватает удержания."
   ]
  },
  {
   "cell_type": "markdown",
   "metadata": {},
   "source": [
    "#### Стоимость привлечения клиента CAC"
   ]
  },
  {
   "cell_type": "code",
   "execution_count": 84,
   "metadata": {},
   "outputs": [
    {
     "data": {
      "text/html": [
       "<div>\n",
       "<style scoped>\n",
       "    .dataframe tbody tr th:only-of-type {\n",
       "        vertical-align: middle;\n",
       "    }\n",
       "\n",
       "    .dataframe tbody tr th {\n",
       "        vertical-align: top;\n",
       "    }\n",
       "\n",
       "    .dataframe thead th {\n",
       "        text-align: right;\n",
       "    }\n",
       "</style>\n",
       "<table border=\"1\" class=\"dataframe\">\n",
       "  <thead>\n",
       "    <tr style=\"text-align: right;\">\n",
       "      <th></th>\n",
       "      <th>source</th>\n",
       "      <th>user_id</th>\n",
       "      <th>cost</th>\n",
       "    </tr>\n",
       "  </thead>\n",
       "  <tbody>\n",
       "    <tr>\n",
       "      <th>0</th>\n",
       "      <td>facebook_ads</td>\n",
       "      <td>2726</td>\n",
       "      <td>2140.904643</td>\n",
       "    </tr>\n",
       "    <tr>\n",
       "      <th>1</th>\n",
       "      <td>instagram_new_adverts</td>\n",
       "      <td>3347</td>\n",
       "      <td>2161.441691</td>\n",
       "    </tr>\n",
       "    <tr>\n",
       "      <th>2</th>\n",
       "      <td>yandex_direct</td>\n",
       "      <td>4817</td>\n",
       "      <td>2233.111449</td>\n",
       "    </tr>\n",
       "    <tr>\n",
       "      <th>3</th>\n",
       "      <td>youtube_channel_reklama</td>\n",
       "      <td>2686</td>\n",
       "      <td>1068.119204</td>\n",
       "    </tr>\n",
       "  </tbody>\n",
       "</table>\n",
       "</div>"
      ],
      "text/plain": [
       "                    source  user_id         cost\n",
       "0             facebook_ads     2726  2140.904643\n",
       "1    instagram_new_adverts     3347  2161.441691\n",
       "2            yandex_direct     4817  2233.111449\n",
       "3  youtube_channel_reklama     2686  1068.119204"
      ]
     },
     "execution_count": 84,
     "metadata": {},
     "output_type": "execute_result"
    }
   ],
   "source": [
    "# объединим дополнительные датасеты\n",
    "\n",
    "ad_costs_source = pd.merge(user_source.groupby('source').agg('count'), ad_costs.groupby('source').agg('sum'), on = ['source'], how = 'inner').reset_index()\n",
    "ad_costs_source"
   ]
  },
  {
   "cell_type": "code",
   "execution_count": 85,
   "metadata": {},
   "outputs": [
    {
     "data": {
      "text/html": [
       "<div>\n",
       "<style scoped>\n",
       "    .dataframe tbody tr th:only-of-type {\n",
       "        vertical-align: middle;\n",
       "    }\n",
       "\n",
       "    .dataframe tbody tr th {\n",
       "        vertical-align: top;\n",
       "    }\n",
       "\n",
       "    .dataframe thead th {\n",
       "        text-align: right;\n",
       "    }\n",
       "</style>\n",
       "<table border=\"1\" class=\"dataframe\">\n",
       "  <thead>\n",
       "    <tr style=\"text-align: right;\">\n",
       "      <th></th>\n",
       "      <th>source</th>\n",
       "      <th>user_id</th>\n",
       "      <th>cost</th>\n",
       "      <th>CAC</th>\n",
       "    </tr>\n",
       "  </thead>\n",
       "  <tbody>\n",
       "    <tr>\n",
       "      <th>0</th>\n",
       "      <td>facebook_ads</td>\n",
       "      <td>2726</td>\n",
       "      <td>2140.904643</td>\n",
       "      <td>0.785365</td>\n",
       "    </tr>\n",
       "    <tr>\n",
       "      <th>1</th>\n",
       "      <td>instagram_new_adverts</td>\n",
       "      <td>3347</td>\n",
       "      <td>2161.441691</td>\n",
       "      <td>0.645785</td>\n",
       "    </tr>\n",
       "    <tr>\n",
       "      <th>2</th>\n",
       "      <td>yandex_direct</td>\n",
       "      <td>4817</td>\n",
       "      <td>2233.111449</td>\n",
       "      <td>0.463590</td>\n",
       "    </tr>\n",
       "    <tr>\n",
       "      <th>3</th>\n",
       "      <td>youtube_channel_reklama</td>\n",
       "      <td>2686</td>\n",
       "      <td>1068.119204</td>\n",
       "      <td>0.397662</td>\n",
       "    </tr>\n",
       "  </tbody>\n",
       "</table>\n",
       "</div>"
      ],
      "text/plain": [
       "                    source  user_id         cost       CAC\n",
       "0             facebook_ads     2726  2140.904643  0.785365\n",
       "1    instagram_new_adverts     3347  2161.441691  0.645785\n",
       "2            yandex_direct     4817  2233.111449  0.463590\n",
       "3  youtube_channel_reklama     2686  1068.119204  0.397662"
      ]
     },
     "execution_count": 85,
     "metadata": {},
     "output_type": "execute_result"
    }
   ],
   "source": [
    "#подсчитаем стоимость привлечения САС\n",
    "\n",
    "ad_costs_source['CAC'] = ad_costs_source['cost'] / ad_costs_source['user_id'] \n",
    "ad_costs_source"
   ]
  },
  {
   "cell_type": "code",
   "execution_count": 86,
   "metadata": {},
   "outputs": [
    {
     "data": {
      "text/plain": [
       "0.5731002471448883"
      ]
     },
     "execution_count": 86,
     "metadata": {},
     "output_type": "execute_result"
    }
   ],
   "source": [
    "# подсчитаем среднее значение стоимости привлечения САС\n",
    "\n",
    "ad_costs_source['CAC'].mean()"
   ]
  },
  {
   "cell_type": "code",
   "execution_count": 87,
   "metadata": {},
   "outputs": [
    {
     "data": {
      "image/png": "[encoded data removed]",
      "text/plain": [
       "<Figure size 1080x504 with 1 Axes>"
      ]
     },
     "metadata": {},
     "output_type": "display_data"
    }
   ],
   "source": [
    "# построим график распределения САС\n",
    "\n",
    "plt.figure(figsize=(15,7))\n",
    "ax = sns.barplot(data= ad_costs_source, x='source', y='CAC')\n",
    "plt.suptitle('Стоимость привлечения САС в разрезе источников')\n",
    "plt.xlabel('Источник')\n",
    "plt.ylabel('Стоимость привлечения')\n",
    "sns.set_palette('dark') \n",
    "\n",
    "# добавим подписи\n",
    "\n",
    "for p in ax.patches:\n",
    "    height = p.get_height()\n",
    "    ax.text(p.get_x()+p.get_width()/2.,\n",
    "            height + 0.005,\n",
    "            '{:.2f}'.format(height),\n",
    "            ha=\"center\")"
   ]
  },
  {
   "cell_type": "markdown",
   "metadata": {},
   "source": [
    "**Вывод**\n",
    "\n",
    "На данном шаге проведен исследовательский анализ данных.\n",
    "\n",
    "**Cреднее время прохождения уровня**\n",
    "\n",
    "Среднее время прохождения уровня для варианта 'Победа над первым врагом' = 11 days 02:30:24\n",
    "Медианное время прохождения уровня для варианта \"Победа над первым врагом\" = 10 days 19:01:37\n",
    "\n",
    "Среднее время прохождения уровня для варианта \"Реализация проекта\": 11 days 21:16:06\n",
    "\n",
    "Медианное время прохождения уровня для варианта \"Реализация проекта\": 11 days 07:12:24\n",
    "\n",
    "Таким образом, пользователи завершают первый уровень быстрее, если выбирают вариант победить врага. \n",
    "\n",
    "**Количество построек на каждого пользователя**\n",
    "\n",
    "Cреднее значение количества построек на пользователя для всего датасета: 9.43\n",
    "Медианное значение количества построек на пользователя для всего датасета: 10.0\n",
    "\n",
    "- Cреднее значение количества построек на пользователя в случае победы над врагом: 9.41\n",
    "- Cреднее значение количества построек на пользователя в случае реализации проекта: 12.00\n",
    "\n",
    "**Сколько раз за день пользователи в среднем заходят в мобильное приложение**\n",
    "\n",
    "- Среднее количество сессий в день = 4110\n",
    "- Среднее количество уникальных пользователей в день = 2884\n",
    "- Среднее количество сессий в день на каждого уникального пользователя = 1.33\n",
    "- Максимальное количество сессий в день на каждого уникального пользователя = 1.65\n",
    "- Минимальное количество сессий в день на каждого уникального пользователя = 1.22\n",
    "\n",
    "**Показатели вовлечённости - DAU, WAU, Sticky Factor**\n",
    "\n",
    "- Количество уникальных пользователей в день DAU = 2884 пользователя\n",
    "- Количество уникальных пользователей в неделю WAU = 6120 пользователей\n",
    "- Вовлечённость аудитории Sticky Factor за неделю = 47.12%\n",
    "\n",
    "**Количество уникальных пользователей приходится на каждый день:**\n",
    "\n",
    "- на первом месте 2020-05-10 = 9219 уникальных пользователей\n",
    "- на втором месте 2020-05-09 = 8394 уникальных пользователя\n",
    "- на третьем месте 2020-05-08 = 7891 уникальный пользователь\n",
    "\n",
    "На графиках также видим, что самое большое количество пользователей приходится на 10 мая, и в целом пик приходится на \"вторые майские\" праздники. Также по условию задачи нам представлены данные по первому уровню, получается, большинство пользователей прошли уровень к 10 мая, а далее перешли на второй уровень или ушли в отток, и количество пользователей в день закономерно снижается.\n",
    "\n",
    "**Коэффициент удержания Retention Rate**\n",
    "\n",
    "Графики Retention Rate по 2 когортам:1)пользователи, окончившие первый уровень (любым способом), 2)пользователи, которые не закончили первый уровень.\n",
    "\n",
    "- вторая руппа имеет lifetime короче первой. Если пользователи, пришедшие 4 мая и завершившие уровень, еще в малои количестве остаются на 31-й день, то пользователи второй группы пропадают на 27-й день бесследно.\n",
    "- в обоих когортах наблюдается тенденция: чем позже пришел пользователь, тем меньше он заинтересован в игре. Так же когорты \"вымира.т\" на 90% к половине lifetime (если lifetime имеет 30 дней, то на 15-й день остнется 10% от изначальных пользователей.\n",
    "- больше половины потерь от первоначального количества пользователей уже на следующий день, после появления новой когорты. Возможно, что в самой игре не хватает удержания.\n",
    "\n",
    "**Стоимость привлечения клиента CAC**\n",
    "Распределение стоимости привлечения пользователей по источникам трафика:\n",
    "\n",
    "- facebook_ads = 0.79\n",
    "- instagram_new_adverts = 0.65\n",
    "- yandex_direct = 0.46\n",
    "- youtube_channel_reklama = 0.40\n",
    "\n",
    "Таким образом, самый дорогой способ привлечения пользователей через facebook_ads, а самый бюджетный - через youtube_channel_reklama."
   ]
  },
  {
   "cell_type": "markdown",
   "metadata": {},
   "source": [
    "### Шаг 3.  Проверка статистических гипотез"
   ]
  },
  {
   "cell_type": "markdown",
   "metadata": {},
   "source": [
    "#### Гипотеза различия времени прохождения уровня"
   ]
  },
  {
   "cell_type": "markdown",
   "metadata": {},
   "source": [
    "Нулевая гипотеза H0 - Среднее время прохождения уровня между пользователями, которые заканчивают уровень через реализацию проекта, и пользователями, которые заканчивают уровень победой над другим игроком, совпадает.\n",
    "\n",
    "Альтернативная гипотеза H1 - Среднее время прохождения уровня между пользователями, которые заканчивают уровень через реализацию проекта, и пользователями, которые заканчивают уровень победой над другим игроком, не совпадает.\n",
    "\n",
    "Критический уровень статистической значимости определим, как alpha = 0.05 "
   ]
  },
  {
   "cell_type": "code",
   "execution_count": 88,
   "metadata": {},
   "outputs": [
    {
     "data": {
      "text/html": [
       "<div>\n",
       "<style scoped>\n",
       "    .dataframe tbody tr th:only-of-type {\n",
       "        vertical-align: middle;\n",
       "    }\n",
       "\n",
       "    .dataframe tbody tr th {\n",
       "        vertical-align: top;\n",
       "    }\n",
       "\n",
       "    .dataframe thead th {\n",
       "        text-align: right;\n",
       "    }\n",
       "</style>\n",
       "<table border=\"1\" class=\"dataframe\">\n",
       "  <thead>\n",
       "    <tr style=\"text-align: right;\">\n",
       "      <th></th>\n",
       "      <th>user_id</th>\n",
       "      <th>win_game_date</th>\n",
       "      <th>type</th>\n",
       "      <th>start_game_date</th>\n",
       "      <th>game_time</th>\n",
       "      <th>start_game_day</th>\n",
       "      <th>game_day</th>\n",
       "    </tr>\n",
       "  </thead>\n",
       "  <tbody>\n",
       "    <tr>\n",
       "      <th>0</th>\n",
       "      <td>001d39dc-366c-4021-9604-6a3b9ff01e25</td>\n",
       "      <td>2020-05-12 07:40:47</td>\n",
       "      <td>Победа над первым врагом</td>\n",
       "      <td>2020-05-05 21:02:05</td>\n",
       "      <td>6 days 10:38:42</td>\n",
       "      <td>2020-05-05</td>\n",
       "      <td>6</td>\n",
       "    </tr>\n",
       "    <tr>\n",
       "      <th>1</th>\n",
       "      <td>003ee7e8-6356-4286-a715-62f22a18d2a1</td>\n",
       "      <td>2020-05-17 21:47:49</td>\n",
       "      <td>Победа над первым врагом</td>\n",
       "      <td>2020-05-05 08:31:04</td>\n",
       "      <td>12 days 13:16:45</td>\n",
       "      <td>2020-05-05</td>\n",
       "      <td>13</td>\n",
       "    </tr>\n",
       "    <tr>\n",
       "      <th>2</th>\n",
       "      <td>004074f8-251a-4776-922c-8348dca1a2f6</td>\n",
       "      <td>2020-05-16 19:57:40</td>\n",
       "      <td>Победа над первым врагом</td>\n",
       "      <td>2020-05-04 01:07:35</td>\n",
       "      <td>12 days 18:50:05</td>\n",
       "      <td>2020-05-04</td>\n",
       "      <td>13</td>\n",
       "    </tr>\n",
       "    <tr>\n",
       "      <th>3</th>\n",
       "      <td>00464e5e-28ed-4be6-bf44-517ef7b3937b</td>\n",
       "      <td>2020-05-15 16:02:01</td>\n",
       "      <td>Победа над первым врагом</td>\n",
       "      <td>2020-05-04 08:35:29</td>\n",
       "      <td>11 days 07:26:32</td>\n",
       "      <td>2020-05-04</td>\n",
       "      <td>11</td>\n",
       "    </tr>\n",
       "    <tr>\n",
       "      <th>4</th>\n",
       "      <td>0056c007-c082-43cc-bdef-afc49bca4cb9</td>\n",
       "      <td>2020-05-16 13:48:39</td>\n",
       "      <td>Победа над первым врагом</td>\n",
       "      <td>2020-05-10 11:49:47</td>\n",
       "      <td>6 days 01:58:52</td>\n",
       "      <td>2020-05-10</td>\n",
       "      <td>6</td>\n",
       "    </tr>\n",
       "  </tbody>\n",
       "</table>\n",
       "</div>"
      ],
      "text/plain": [
       "                                user_id       win_game_date  \\\n",
       "0  001d39dc-366c-4021-9604-6a3b9ff01e25 2020-05-12 07:40:47   \n",
       "1  003ee7e8-6356-4286-a715-62f22a18d2a1 2020-05-17 21:47:49   \n",
       "2  004074f8-251a-4776-922c-8348dca1a2f6 2020-05-16 19:57:40   \n",
       "3  00464e5e-28ed-4be6-bf44-517ef7b3937b 2020-05-15 16:02:01   \n",
       "4  0056c007-c082-43cc-bdef-afc49bca4cb9 2020-05-16 13:48:39   \n",
       "\n",
       "                       type     start_game_date        game_time  \\\n",
       "0  Победа над первым врагом 2020-05-05 21:02:05  6 days 10:38:42   \n",
       "1  Победа над первым врагом 2020-05-05 08:31:04 12 days 13:16:45   \n",
       "2  Победа над первым врагом 2020-05-04 01:07:35 12 days 18:50:05   \n",
       "3  Победа над первым врагом 2020-05-04 08:35:29 11 days 07:26:32   \n",
       "4  Победа над первым врагом 2020-05-10 11:49:47  6 days 01:58:52   \n",
       "\n",
       "  start_game_day  game_day  \n",
       "0     2020-05-05         6  \n",
       "1     2020-05-05        13  \n",
       "2     2020-05-04        13  \n",
       "3     2020-05-04        11  \n",
       "4     2020-05-10         6  "
      ]
     },
     "execution_count": 88,
     "metadata": {},
     "output_type": "execute_result"
    }
   ],
   "source": [
    "# выделим время прохождения уровня в отдельный столбец и представим в виде одного числа\n",
    "\n",
    "merge_game['game_day'] = merge_game['game_time'] / np.timedelta64(1, 'D')\n",
    "\n",
    "merge_game['game_day'] = merge_game['game_day'].round().astype('int') \n",
    "\n",
    "merge_game.head()"
   ]
  },
  {
   "cell_type": "code",
   "execution_count": 89,
   "metadata": {},
   "outputs": [],
   "source": [
    "# отберем данные для каждого уровня\n",
    "\n",
    "p_win = merge_game[merge_game['type'] == \"Победа над первым врагом\"]['game_day']\n",
    "p_project = merge_game[merge_game['type'] == \"Реализация проекта\"]['game_day']"
   ]
  },
  {
   "cell_type": "code",
   "execution_count": 90,
   "metadata": {},
   "outputs": [
    {
     "name": "stdout",
     "output_type": "stream",
     "text": [
      "Среднее время прохождения уровня для данных p_win: 11.11\n",
      "Среднее время прохождения уровня для данных p_project: 11.88\n"
     ]
    }
   ],
   "source": [
    "# среднее каждой выборки\n",
    "\n",
    "print('Среднее время прохождения уровня для данных p_win: {:.2f}'.format(merge_game[merge_game['type'] == \"Победа над первым врагом\"]['game_day'].mean()))\n",
    "\n",
    "print('Среднее время прохождения уровня для данных p_project: {:.2f}'.format(merge_game[merge_game['type'] == \"Реализация проекта\"]['game_day'].mean()))"
   ]
  },
  {
   "cell_type": "code",
   "execution_count": 91,
   "metadata": {},
   "outputs": [
    {
     "name": "stdout",
     "output_type": "stream",
     "text": [
      "Значение дисперсии для выборки p_win: 16.85\n",
      "Значение дисперсии для выборки p_project: 13.35\n",
      "Разница дисперсий: 20.79%\n",
      "\n",
      "p-значение: 7.444371631883923e-13\n",
      "Принимаем альтернативную гипотезу\n"
     ]
    }
   ],
   "source": [
    "# cравним дисперсии двух выборок\n",
    "\n",
    "print('Значение дисперсии для выборки p_win: {:.2f}'.format(p_win.var()))\n",
    "\n",
    "print('Значение дисперсии для выборки p_project: {:.2f}'.format(p_project.var()))\n",
    "\n",
    "print('Разница дисперсий: {:.2%}'.format((p_win.var()-p_project.var())/ p_win.var()))\n",
    "\n",
    "print()\n",
    "\n",
    "# проверим гипотезу о равенстве среднего двух генеральных совокупностей\n",
    "\n",
    "results = st.ttest_ind(p_win, p_project, equal_var = False)\n",
    "\n",
    "# критический уровень статистической значимости\n",
    "\n",
    "alpha = 0.05 \n",
    "\n",
    "# для проверки используем критерий p-value\n",
    "\n",
    "print('p-значение:', results.pvalue)\n",
    "\n",
    "# сравним получившееся p-значение с заданным уровнем статистической значимости\n",
    "\n",
    "if results.pvalue < alpha:\n",
    "    print('Принимаем альтернативную гипотезу')\n",
    "else:\n",
    "    print('Не получилось отвергнуть нулевую гипотезу')"
   ]
  },
  {
   "cell_type": "code",
   "execution_count": 92,
   "metadata": {},
   "outputs": [
    {
     "data": {
      "image/png": "[encoded data removed]",
      "text/plain": [
       "<Figure size 432x288 with 1 Axes>"
      ]
     },
     "metadata": {},
     "output_type": "display_data"
    }
   ],
   "source": [
    "# построим гистограмму по результату теста\n",
    "sns.distplot(p_win);\n",
    "sns.distplot(p_project);\n",
    "plt.title('Разница во времени прохождения уровня')\n",
    "plt.xlabel('Количество часов')\n",
    "plt.ylabel('Плотность')\n",
    "plt.legend(['p_win', 'p_project'])\n",
    "plt.show()"
   ]
  },
  {
   "cell_type": "markdown",
   "metadata": {},
   "source": [
    "#### Гипотеза различия количества построенных зданий"
   ]
  },
  {
   "cell_type": "markdown",
   "metadata": {},
   "source": [
    "Нулевая гипотеза H0 - Среднее количество построенных зданий между пользователями, которые заканчивают уровень через реализацию проекта, и пользователями, которые заканчивают уровень победой над другим игроком, совпадает.\n",
    "\n",
    "Альтернативная гипотеза H1 - Среднее количество построенных зданий между пользователями, которые заканчивают уровень через реализацию проекта, и пользователями, которые заканчивают уровень победой над другим игроком, не совпадает.\n",
    "\n",
    "Критический уровень статистической значимости определим, как alpha = 0.05 "
   ]
  },
  {
   "cell_type": "code",
   "execution_count": 93,
   "metadata": {},
   "outputs": [
    {
     "data": {
      "text/html": [
       "<div>\n",
       "<style scoped>\n",
       "    .dataframe tbody tr th:only-of-type {\n",
       "        vertical-align: middle;\n",
       "    }\n",
       "\n",
       "    .dataframe tbody tr th {\n",
       "        vertical-align: top;\n",
       "    }\n",
       "\n",
       "    .dataframe thead th {\n",
       "        text-align: right;\n",
       "    }\n",
       "</style>\n",
       "<table border=\"1\" class=\"dataframe\">\n",
       "  <thead>\n",
       "    <tr style=\"text-align: right;\">\n",
       "      <th></th>\n",
       "      <th>user_id</th>\n",
       "      <th>building_type</th>\n",
       "    </tr>\n",
       "  </thead>\n",
       "  <tbody>\n",
       "    <tr>\n",
       "      <th>0</th>\n",
       "      <td>006380d6-67a6-45de-ab1e-6eb54ad8dbe8</td>\n",
       "      <td>11</td>\n",
       "    </tr>\n",
       "    <tr>\n",
       "      <th>1</th>\n",
       "      <td>00be7371-fa79-4fbd-b8e7-8ba32e3f8f82</td>\n",
       "      <td>12</td>\n",
       "    </tr>\n",
       "    <tr>\n",
       "      <th>2</th>\n",
       "      <td>00c2b9f2-2615-439c-aed0-6974e4c6c1c1</td>\n",
       "      <td>11</td>\n",
       "    </tr>\n",
       "    <tr>\n",
       "      <th>3</th>\n",
       "      <td>00de2809-403e-4476-a2f7-ca1b11700190</td>\n",
       "      <td>13</td>\n",
       "    </tr>\n",
       "    <tr>\n",
       "      <th>4</th>\n",
       "      <td>00e83261-5fd4-4939-9616-802b5a0202c6</td>\n",
       "      <td>13</td>\n",
       "    </tr>\n",
       "  </tbody>\n",
       "</table>\n",
       "</div>"
      ],
      "text/plain": [
       "                                user_id  building_type\n",
       "0  006380d6-67a6-45de-ab1e-6eb54ad8dbe8             11\n",
       "1  00be7371-fa79-4fbd-b8e7-8ba32e3f8f82             12\n",
       "2  00c2b9f2-2615-439c-aed0-6974e4c6c1c1             11\n",
       "3  00de2809-403e-4476-a2f7-ca1b11700190             13\n",
       "4  00e83261-5fd4-4939-9616-802b5a0202c6             13"
      ]
     },
     "execution_count": 93,
     "metadata": {},
     "output_type": "execute_result"
    }
   ],
   "source": [
    "# отберем все данные по пользователям, которые завершили уровень победой над врагом\n",
    "\n",
    "win_building = game_actions_type[game_actions_type['user_id'].isin(user_project)]\n",
    "\n",
    "# подсчитаем количество построенных зданий для каждого пользователя\n",
    "\n",
    "building_type_win = win_building.groupby('user_id').agg({'building_type':'count'}).reset_index()\n",
    "building_type_win.head()"
   ]
  },
  {
   "cell_type": "code",
   "execution_count": 94,
   "metadata": {},
   "outputs": [
    {
     "data": {
      "text/html": [
       "<div>\n",
       "<style scoped>\n",
       "    .dataframe tbody tr th:only-of-type {\n",
       "        vertical-align: middle;\n",
       "    }\n",
       "\n",
       "    .dataframe tbody tr th {\n",
       "        vertical-align: top;\n",
       "    }\n",
       "\n",
       "    .dataframe thead th {\n",
       "        text-align: right;\n",
       "    }\n",
       "</style>\n",
       "<table border=\"1\" class=\"dataframe\">\n",
       "  <thead>\n",
       "    <tr style=\"text-align: right;\">\n",
       "      <th></th>\n",
       "      <th>user_id</th>\n",
       "      <th>building_type</th>\n",
       "    </tr>\n",
       "  </thead>\n",
       "  <tbody>\n",
       "    <tr>\n",
       "      <th>0</th>\n",
       "      <td>001d39dc-366c-4021-9604-6a3b9ff01e25</td>\n",
       "      <td>8</td>\n",
       "    </tr>\n",
       "    <tr>\n",
       "      <th>1</th>\n",
       "      <td>003ee7e8-6356-4286-a715-62f22a18d2a1</td>\n",
       "      <td>8</td>\n",
       "    </tr>\n",
       "    <tr>\n",
       "      <th>2</th>\n",
       "      <td>004074f8-251a-4776-922c-8348dca1a2f6</td>\n",
       "      <td>12</td>\n",
       "    </tr>\n",
       "    <tr>\n",
       "      <th>3</th>\n",
       "      <td>00464e5e-28ed-4be6-bf44-517ef7b3937b</td>\n",
       "      <td>8</td>\n",
       "    </tr>\n",
       "    <tr>\n",
       "      <th>4</th>\n",
       "      <td>0056c007-c082-43cc-bdef-afc49bca4cb9</td>\n",
       "      <td>3</td>\n",
       "    </tr>\n",
       "  </tbody>\n",
       "</table>\n",
       "</div>"
      ],
      "text/plain": [
       "                                user_id  building_type\n",
       "0  001d39dc-366c-4021-9604-6a3b9ff01e25              8\n",
       "1  003ee7e8-6356-4286-a715-62f22a18d2a1              8\n",
       "2  004074f8-251a-4776-922c-8348dca1a2f6             12\n",
       "3  00464e5e-28ed-4be6-bf44-517ef7b3937b              8\n",
       "4  0056c007-c082-43cc-bdef-afc49bca4cb9              3"
      ]
     },
     "execution_count": 94,
     "metadata": {},
     "output_type": "execute_result"
    }
   ],
   "source": [
    "# отберем все данные по пользователям, которые завершили уровень реализацией проекта\n",
    "\n",
    "project_building = game_actions_type[game_actions_type['user_id'].isin(user_win)]\n",
    "\n",
    "# подсчитаем количество построенных зданий для каждого пользователя\n",
    "\n",
    "building_type_project = project_building.groupby('user_id').agg({'building_type':'count'}).reset_index()\n",
    "building_type_project.head()"
   ]
  },
  {
   "cell_type": "code",
   "execution_count": 95,
   "metadata": {},
   "outputs": [],
   "source": [
    "# отберем данные для каждого уровня\n",
    "\n",
    "p_win_building = building_type_win['building_type']\n",
    "p_project_building = building_type_project['building_type']"
   ]
  },
  {
   "cell_type": "code",
   "execution_count": 96,
   "metadata": {},
   "outputs": [
    {
     "name": "stdout",
     "output_type": "stream",
     "text": [
      "Cреднее значение количества построек на пользователя для данных p_win_building: 12.65\n",
      "Cреднее значение количества построек на пользователя для данных p_project_building: 9.41\n"
     ]
    }
   ],
   "source": [
    "# подсчитаем среднее значение количества построек\n",
    "\n",
    "print('Cреднее значение количества построек на пользователя для данных p_win_building: {:.2f}'.format(building_type_win['building_type'].mean()))\n",
    "\n",
    "print('Cреднее значение количества построек на пользователя для данных p_project_building: {:.2f}'.format(building_type_project['building_type'].mean()))"
   ]
  },
  {
   "cell_type": "code",
   "execution_count": 97,
   "metadata": {},
   "outputs": [
    {
     "name": "stdout",
     "output_type": "stream",
     "text": [
      "Значение дисперсии для выборки p_win_building: 4.676502331836245\n",
      "Значение дисперсии для выборки p_project_building: 9.360717395692165\n",
      "Разница дисперсий: 50.04%\n",
      "\n",
      "p-значение: 0.0\n",
      "Принимаем альтернативную гипотезу\n"
     ]
    }
   ],
   "source": [
    "# cравним дисперсии двух выборок\n",
    "\n",
    "print('Значение дисперсии для выборки p_win_building:', p_win_building.var())\n",
    "\n",
    "print('Значение дисперсии для выборки p_project_building:', p_project_building.var())\n",
    "\n",
    "print('Разница дисперсий: {:.2%}'.format((p_project_building.var()-p_win_building.var())/ p_project_building.var()))\n",
    "\n",
    "print()\n",
    "\n",
    "# проверим гипотезу о равенстве среднего двух генеральных совокупностей\n",
    " \n",
    "results = st.ttest_ind(p_win_building, p_project_building, equal_var = False)\n",
    "\n",
    "# критический уровень статистической значимости\n",
    "\n",
    "alpha = 0.05 \n",
    "\n",
    "# для проверки используем критерий p-value\n",
    "\n",
    "print('p-значение:', results.pvalue)\n",
    "\n",
    "# сравним получившееся p-значение с заданным уровнем статистической значимости\n",
    "\n",
    "if results.pvalue < alpha:\n",
    "    print('Принимаем альтернативную гипотезу')\n",
    "else:\n",
    "    print('Не получилось отвергнуть нулевую гипотезу')"
   ]
  },
  {
   "cell_type": "code",
   "execution_count": 98,
   "metadata": {},
   "outputs": [
    {
     "data": {
      "image/png": "[encoded data removed]",
      "text/plain": [
       "<Figure size 432x288 with 1 Axes>"
      ]
     },
     "metadata": {},
     "output_type": "display_data"
    }
   ],
   "source": [
    "# построим гистограмму по результатам теста\n",
    "sns.distplot(p_win_building);\n",
    "sns.distplot(p_project_building);\n",
    "plt.title('Разница между стратегиями')\n",
    "plt.xlabel('Количество построек')\n",
    "plt.ylabel('Плотность')\n",
    "plt.legend(['p_win_b', 'p_project_b'])\n",
    "plt.show()"
   ]
  },
  {
   "cell_type": "markdown",
   "metadata": {},
   "source": [
    "**Вывод**\n",
    "\n",
    "На данном шаге проверены статистические гипотезы.\n",
    "\n",
    "**Гипотеза различия времени прохождения уровня**\n",
    "\n",
    "Нулевая гипотеза H0 - Среднее время прохождения уровня между пользователями, которые заканчивают уровень через реализацию проекта, и пользователями, которые заканчивают уровень победой над другим игроком, совпадает.\n",
    "Альтернативная гипотеза H1 - Среднее время прохождения уровня между пользователями, которые заканчивают уровень через реализацию проекта, и пользователями, которые заканчивают уровень победой над другим игроком, не совпадает.\n",
    "\n",
    "- p-значение: 7.444371631883923e-13, что дает нам право приниять альтернативную гипотезу - среднее время прохождения уровня между пользователями, которые заканчивают уровень через реализацию проекта, и пользователями, которые заканчивают уровень победой над другим игроком, не совпадает.Что подтверждается графически.\n",
    "\n",
    "**Гипотеза различия количества построенных зданий**\n",
    "\n",
    "Нулевая гипотеза H0 - Среднее количество построенных зданий между пользователями, которые заканчивают уровень через реализацию проекта, и пользователями, которые заканчивают уровень победой над другим игроком, совпадает.\n",
    "\n",
    "Альтернативная гипотеза H1 - Среднее количество построенных зданий между пользователями, которые заканчивают уровень через реализацию проекта, и пользователями, которые заканчивают уровень победой над другим игроком, не совпадает.\n",
    "\n",
    "- p-значение: 0.0 , что дает нам право приниять альтернативную гипотезу - среднее количество построенных зданий между пользователями, которые заканчивают уровень через реализацию проекта, и пользователями, которые заканчивают уровень победой над другим игроком, не совпадает. Видим подтверждение на соответствующем графике."
   ]
  },
  {
   "cell_type": "markdown",
   "metadata": {},
   "source": [
    "### Шаг 4. Формулирование модели монетизации и выводов"
   ]
  },
  {
   "cell_type": "markdown",
   "metadata": {},
   "source": [
    "#### Модель монетизации"
   ]
  },
  {
   "cell_type": "markdown",
   "metadata": {},
   "source": [
    "Тесты подтвердили, что среднее количество построенных зданий между пользователями, которые заканчивают уровень через реализацию проекта, и пользователями, которые заканчивают уровень победой над другим игроком, а так же время их прохождения не совпадают.\n",
    "\n",
    "В соотвествии с проведённым выше исследованием сформулируем модель монетизации.\n",
    "\n",
    "По условию предполагается, что в приложении будет происходить показ рекламы на экране с выбором типа объекта для постройки. Придерживаемсяя данной концепции.\n",
    "\n",
    "Стоимость привлечения клиента считаем равной 0.57.\n",
    "За среднее значение количества построек на пользователя будем считать равным 10.\n",
    "\n",
    "Если мы будем показывать рекламу на каждом экране с выбором типа объекта для постройки, значит стоимость рекламы должна составлять не менее 0.57/10 = 0.06, чтобы окупить расходы. С учетом ожидаемого 10% оттока пользователей из-за показа рекламы (данные из интернета), стоимость рекламы должна составлять не менее 0.06/0.9 = 0.066. Если мы будем показывать рекламу через раз (на 5 объектах из 10), стоимость рекламы  ворастает в 2 раза.\n",
    "\n",
    "Таким образом, стоимость рекламы должна составлять:\n",
    "\n",
    "- 0.066 - если размещать рекламу каждом экране с выбором типа объекта для постройки.\n",
    "\n",
    "По возможности время запуск нового этапа лучше начинать с праздничных или выходных дней, так как это потенциально увечивает количество пользователей. \n",
    "\n",
    "Что касается особенности поведения пользователей, то мы видим 57.2%  это пользователи, не окончившие 1 уровень (который длится в среднем 10-11 дней)  и имеет более короткий lifetime, чем пользователи прошедшие первый уровень. Поэтому, возможно стоит сократить время прохождения первого уровня, так как долгое прохождение и вливание в игру отрицательно сказываясь на удержании в игре, а более длительное прохождение реализовать на последующих уровнях."
   ]
  },
  {
   "cell_type": "markdown",
   "metadata": {},
   "source": [
    "#### Общий вывод"
   ]
  },
  {
   "cell_type": "markdown",
   "metadata": {},
   "source": [
    "В рамках данного проекта необходимо было проанализировать поведение первых пользователей мобильной игры, выявить особенности поведения и выбрать для бизнеса оптимальное время для запуска рекламы. По условию задачи создатели игры планируют показывать её на экране выбором постройки.\n",
    "\n",
    "В качестве исходных данных были предоставлен датасет game_actions с данными первых пользователей приложения и два дополнительных датасета с информацией о рекламных активностях (ad_costs, user_source).\n",
    "\n",
    "Целевое событие - завершение первого уровня.\n",
    "\n",
    "Исследование проводили в несколько шагов.\n",
    "\n",
    "Шаг  **Подготовка данных к исследованию**\n",
    "\n",
    "На первом шаге и изучили общую информацию по каждой таблице. Проверили таблицы на наличие пропущенных значений и дубликатов и подготовили данные к исследованию.\n",
    "\n",
    "При этом по условию задачи сказано, что в датасете содержатся данные первых пользователей приложения — когорты пользователей, которые начали пользоваться приложением в период с 4 по 10 мая включительно.\n",
    "\n",
    "По условию задачи в датасете представлены данные по игре пользователей на первом уровне, и завершение первого уровня требует от игрока выполнения одного из двух условий:\n",
    "- Победа над первым врагом\n",
    "- Реализация проекта - разработка орбитальной сборки спутников.\n",
    "\n",
    "Резюмируя, первый уровень завершён finished_stage_1 у 5817 пользователей. Процент завершивших первый уровень составляет 42.85%. Из них 1866 пользователей завершили уровень через реализацию проекта project (разработку орбитальной сборки спутников). А 5817 - 1866 = 3951 завершили уровень через победу над первым врагом. Т.е. способ прохождения уровня через победу над врагом пользователи предпочитают больше, чем разработку орбитальной сборки спутников.\n",
    "\n",
    "Период, за который представлены данные в столбце, - с 3 мая по 9 мая 2020 включительно:\n",
    "\n",
    "    - Максимальное значение даты и времени - 2020-05-03\n",
    "    - Максимальное значение даты и времени - 2020-05-09\n",
    "\n",
    "Наибольший дневной бюджет канала приходится на источники трафика:\n",
    "\n",
    "    - yandex_direct = 2233.11\n",
    "    - instagram_new_adverts = 2161.44\n",
    "    - facebook_ads = 2140.90\n",
    "    - youtube_channel_reklama = 1068.11\n",
    "\n",
    "Аналогично распределению дневного бюджета, больше всего пользователей приходится на источник трафика yandex_direct, на втором месте instagram_new_adverts, на третьем месте facebook_ads, а меньше всего - на youtube_channel_reklama.\n",
    "\n",
    "Шаг  **Исследовательский анализ данных**\n",
    "\n",
    "*Cреднее время прохождения уровня*\n",
    "\n",
    "- Среднее время прохождения уровня для варианта 'Победа над первым врагом' = 11 days 02:30:24\n",
    "- Медианное время прохождения уровня для варианта \"Победа над первым врагом\" = 10 days 19:01:37\n",
    "\n",
    "- Среднее время прохождения уровня для варианта \"Реализация проекта\": 11 days 21:16:06\n",
    "- Медианное время прохождения уровня для варианта \"Реализация проекта\": 11 days 07:12:24\n",
    "\n",
    "Таким образом, пользователи завершают первый уровень быстрее, если выбирают вариант победить врага.\n",
    "\n",
    "*Количество построек на каждого пользователя*\n",
    "\n",
    "Количество построек на пользователя в разрезе варианта прохождения уровня:\n",
    "\n",
    "- Реализация проекта: 12.65\n",
    "- Победа над первым врагом: 9.41\n",
    "- Первый уровень не завершён: 8.66\n",
    "- Сколько раз за день пользователи в среднем заходят в мобильное приложение\n",
    "\n",
    "- Среднее количество сессий в день = 4110\n",
    "- Среднее количество уникальных пользователей в день = 2884\n",
    "- Среднее количество сессий в день на каждого уникального пользователя = 1.33\n",
    "- Максимальное количество сессий в день на каждого уникального пользователя = 1.65\n",
    "- Минимальное количество сессий в день на каждого уникального пользователя = 1.22\n",
    "\n",
    "*Показатели вовлечённости - DAU, WAU, Sticky Factor*\n",
    "- Количество уникальных пользователей в день DAU = 2884 пользователя\n",
    "- Количество уникальных пользователей в неделю WAU = 6120 пользователей\n",
    "- Вовлечённость аудитории Sticky Factor за неделю = 47.12%\n",
    "\n",
    "Количество уникальных пользователей приходится на каждый день:\n",
    "1) 2020-05-10 = 9219 , 2)2020-05-09 = 8394, 3) 2020-05-08 = 7891\n",
    "\n",
    "- На графиках также видим, что самое большое количество пользователей приходится на 10 мая, и в целом пик приходится на \"вторые майские\" праздники. Видимо, в честь праздника пользователи решили сразиться с виртуальными врагами. Также по условию задачи нам представлены данные по первому уровню, получается, большинство пользователей прошли уровень к 10 мая, а далее перешли на второй уровень или ушли в отток, и количество пользователей в день закономерно снижается.\n",
    "\n",
    "*Коэффициент удержания Retention Rate*\n",
    "\n",
    "рафики Retention Rate по 2 когортам:1)пользователи, окончившие первый уровень (любым способом) -42.8%, 2)пользователи, которые не закончили первый уровень - 57.2%.\n",
    " \n",
    "Гуппа \"пользователей без первого уровня\" имеет lifetime короче первой. Если пользователи, пришедшие 4 мая и завершившие уровень, еще в малои количестве остаются на 31-й день, то пользователи второй группы пропадают на 27-й день бесследно.\n",
    "\n",
    "В обоих когортах наблюдается тенденция: чем позже пришел пользователь, тем меньше он заинтересован в игре. Так же когорты \"вымирают\" на 90% к половине lifetime (если lifetime имеет 30 дней, то на 15-й день остнется 10% от изначальных пользователей.\n",
    "\n",
    "Больше половины потерь от первоначального количества пользователей уже на следующий день, после появления новой когорты. Возможно, что в самой игре не хватает удержания.\n",
    "\n",
    "*Стоимость привлечения клиента CAC*\n",
    "\n",
    "Распределение стоимости привлечения пользователей по источникам трафика составило:\n",
    "- facebook_ads = 0.79\n",
    "- instagram_new_adverts = 0.65\n",
    "- yandex_direct = 0.46\n",
    "- youtube_channel_reklama = 0.40\n",
    "\n",
    "Таким образом, самый дорогой способ привлечения пользователей через facebook_ads, а самый бюджетный - через youtube_channel_reklama.\n",
    "\n",
    "Шаг  **Проверка статистических гипотез**\n",
    "\n",
    "*Гипотеза различия времени прохождения уровня*\n",
    "\n",
    "-Нулевая гипотеза H0 - Среднее время прохождения уровня между пользователями, которые заканчивают уровень через реализацию проекта, и пользователями, которые заканчивают уровень победой над другим игроком, совпадает.\n",
    "-Альтернативная гипотеза H1 - Среднее время прохождения уровня между пользователями, которые заканчивают уровень через реализацию проекта, и пользователями, которые заканчивают уровень победой над другим игроком, не совпадает.\n",
    "p-значение: 7.444371631883923e-13. Приняли альтернативную гипотезу.\n",
    "\n",
    "*Гипотеза различия количества построенных зданий*\n",
    "\n",
    "- Нулевая гипотеза H0 - Среднее количество построенных зданий между пользователями, которые заканчивают уровень через реализацию проекта, и пользователями, которые заканчивают уровень победой над другим игроком, совпадает.\n",
    "- Альтернативная гипотеза H1 - Среднее количество построенных зданий между пользователями, которые заканчивают уровень через реализацию проекта, и пользователями, которые заканчивают уровень победой над другим игроком, не совпадает.\n",
    "p-значение: 0.0. Принияли альтернативную гипотезу.\n",
    "\n",
    "Шаг  **Модель монетизации**\n",
    "\n",
    "По условию предполагается, что в приложении будет происходить показ рекламы на экране с выбором типа объекта для постройки. Придерживаемсяя данной концепции.\n",
    "\n",
    "Стоимость привлечения клиента считаем равной 0.57. За среднее значение количества построек на пользователя будем считать равным 10.\n",
    "\n",
    "Если мы будем показывать рекламу на каждом экране с выбором типа объекта для постройки, значит стоимость рекламы должна составлять не менее 0.57/10 = 0.06, чтобы окупить расходы. С учетом ожидаемого 10% оттока пользователей из-за показа рекламы (данные из интернета), стоимость рекламы должна составлять не менее 0.06/0.9 = 0.066. Если мы будем показывать рекламу через раз (на 5 объектах из 10), стоимость рекламы ворастает в 2 раза.\n",
    "\n",
    "Таким образом, стоимость рекламы должна составлять:\n",
    "\n",
    "0.066 - если размещать рекламу на каждом экране с выбором типа объекта для постройки.\n",
    "\n",
    "По возможности время запуск нового этапа лучше начинать с праздничных или выходных дней, так как это потенциально увечивает количество пользователей. \n",
    "\n",
    "Самый выгодный источник, по стоимости окупаемости размещенной рекламы -youtube_channel_reklama = 0.42. \n",
    "\n",
    "Что касается особенности поведения пользователей, то мы видим 57.2%  это пользователи, не окончившие 1 уровень (который длится в среднем 10-11 дней)  и имеет более короткий lifetime, чем пользователи прошедшие первый уровень. Поэтому, возможно стоит сократить время прохождения первого уровня, так как долгое прохождение и вливание в игру отрицательно сказываясь на удержании в игре, а более длительное прохождение реализовать на последующих уровнях."
   ]
  }
 ],
 "metadata": {
  "ExecuteTimeLog": [
   {
    "duration": 103,
    "start_time": "2022-08-22T16:52:36.656Z"
   },
   {
    "duration": 1467,
    "start_time": "2022-08-22T16:58:11.468Z"
   },
   {
    "duration": 973,
    "start_time": "2022-08-22T16:58:31.417Z"
   },
   {
    "duration": 77,
    "start_time": "2022-08-22T16:58:59.329Z"
   },
   {
    "duration": 1298,
    "start_time": "2022-08-23T03:50:51.429Z"
   },
   {
    "duration": 824,
    "start_time": "2022-08-23T03:50:52.729Z"
   },
   {
    "duration": 58,
    "start_time": "2022-08-23T03:50:53.626Z"
   },
   {
    "duration": 78,
    "start_time": "2022-08-23T04:03:51.066Z"
   },
   {
    "duration": 135,
    "start_time": "2022-08-23T04:04:09.231Z"
   },
   {
    "duration": 3,
    "start_time": "2022-08-23T04:05:41.400Z"
   },
   {
    "duration": 145,
    "start_time": "2022-08-23T04:07:03.882Z"
   },
   {
    "duration": 8,
    "start_time": "2022-08-23T04:08:32.523Z"
   },
   {
    "duration": 46,
    "start_time": "2022-08-23T04:08:58.376Z"
   },
   {
    "duration": 56,
    "start_time": "2022-08-23T04:10:02.212Z"
   },
   {
    "duration": 81,
    "start_time": "2022-08-23T04:11:42.904Z"
   },
   {
    "duration": 7,
    "start_time": "2022-08-23T04:12:11.650Z"
   },
   {
    "duration": 55,
    "start_time": "2022-08-23T04:12:37.003Z"
   },
   {
    "duration": 4,
    "start_time": "2022-08-23T04:13:00.417Z"
   },
   {
    "duration": 146,
    "start_time": "2022-08-23T04:13:25.777Z"
   },
   {
    "duration": 74,
    "start_time": "2022-08-23T04:15:29.819Z"
   },
   {
    "duration": 7,
    "start_time": "2022-08-23T04:16:09.561Z"
   },
   {
    "duration": 53,
    "start_time": "2022-08-23T04:16:28.413Z"
   },
   {
    "duration": 141,
    "start_time": "2022-08-23T04:17:15.374Z"
   },
   {
    "duration": 71,
    "start_time": "2022-08-23T04:18:30.543Z"
   },
   {
    "duration": 9,
    "start_time": "2022-08-23T04:19:18.825Z"
   },
   {
    "duration": 6,
    "start_time": "2022-08-23T04:20:45.781Z"
   },
   {
    "duration": 100,
    "start_time": "2022-08-23T04:21:12.389Z"
   },
   {
    "duration": 85,
    "start_time": "2022-08-23T04:21:26.384Z"
   },
   {
    "duration": 7,
    "start_time": "2022-08-23T04:22:23.575Z"
   },
   {
    "duration": 3,
    "start_time": "2022-08-23T04:23:08.582Z"
   },
   {
    "duration": 4,
    "start_time": "2022-08-23T04:23:24.436Z"
   },
   {
    "duration": 4,
    "start_time": "2022-08-23T04:25:04.046Z"
   },
   {
    "duration": 4,
    "start_time": "2022-08-23T04:25:26.619Z"
   },
   {
    "duration": 6,
    "start_time": "2022-08-23T04:25:53.426Z"
   },
   {
    "duration": 4,
    "start_time": "2022-08-23T04:27:24.327Z"
   },
   {
    "duration": 8,
    "start_time": "2022-08-23T04:27:42.709Z"
   },
   {
    "duration": 151,
    "start_time": "2022-08-23T04:28:07.389Z"
   },
   {
    "duration": 147,
    "start_time": "2022-08-23T04:28:32.661Z"
   },
   {
    "duration": 11,
    "start_time": "2022-08-23T04:29:07.585Z"
   },
   {
    "duration": 151,
    "start_time": "2022-08-23T04:29:31.984Z"
   },
   {
    "duration": 2,
    "start_time": "2022-08-23T04:31:05.967Z"
   },
   {
    "duration": 18,
    "start_time": "2022-08-23T04:31:37.843Z"
   },
   {
    "duration": 4,
    "start_time": "2022-08-23T04:32:24.825Z"
   },
   {
    "duration": 17,
    "start_time": "2022-08-23T04:33:31.262Z"
   },
   {
    "duration": 145,
    "start_time": "2022-08-23T04:33:57.664Z"
   },
   {
    "duration": 29,
    "start_time": "2022-08-23T04:37:39.832Z"
   },
   {
    "duration": 3,
    "start_time": "2022-08-23T04:38:07.213Z"
   },
   {
    "duration": 18,
    "start_time": "2022-08-23T04:38:23.111Z"
   },
   {
    "duration": 27,
    "start_time": "2022-08-23T04:38:41.842Z"
   },
   {
    "duration": 65,
    "start_time": "2022-08-23T04:39:13.364Z"
   },
   {
    "duration": 374,
    "start_time": "2022-08-23T04:39:30.518Z"
   },
   {
    "duration": 30,
    "start_time": "2022-08-23T04:39:49.163Z"
   },
   {
    "duration": 22,
    "start_time": "2022-08-23T04:40:08.652Z"
   },
   {
    "duration": 17,
    "start_time": "2022-08-23T04:40:30.639Z"
   },
   {
    "duration": 4,
    "start_time": "2022-08-23T04:41:28.378Z"
   },
   {
    "duration": 4,
    "start_time": "2022-08-23T04:41:51.225Z"
   },
   {
    "duration": 7,
    "start_time": "2022-08-23T04:42:11.126Z"
   },
   {
    "duration": 6,
    "start_time": "2022-08-23T04:42:39.928Z"
   },
   {
    "duration": 7,
    "start_time": "2022-08-23T04:43:05.824Z"
   },
   {
    "duration": 6,
    "start_time": "2022-08-23T04:43:30.776Z"
   },
   {
    "duration": 5,
    "start_time": "2022-08-23T04:44:43.281Z"
   },
   {
    "duration": 18,
    "start_time": "2022-08-23T04:45:03.664Z"
   },
   {
    "duration": 11,
    "start_time": "2022-08-23T04:45:28.981Z"
   },
   {
    "duration": 254,
    "start_time": "2022-08-23T04:45:59.315Z"
   },
   {
    "duration": 303,
    "start_time": "2022-08-23T04:46:33.947Z"
   },
   {
    "duration": 36,
    "start_time": "2022-08-23T04:48:53.290Z"
   },
   {
    "duration": 4,
    "start_time": "2022-08-23T04:49:32.866Z"
   },
   {
    "duration": 4,
    "start_time": "2022-08-23T04:50:06.366Z"
   },
   {
    "duration": 18,
    "start_time": "2022-08-23T04:50:28.023Z"
   },
   {
    "duration": 5,
    "start_time": "2022-08-23T04:50:54.333Z"
   },
   {
    "duration": 3,
    "start_time": "2022-08-23T04:51:07.079Z"
   },
   {
    "duration": 3,
    "start_time": "2022-08-23T04:51:44.610Z"
   },
   {
    "duration": 3,
    "start_time": "2022-08-23T04:51:51.492Z"
   },
   {
    "duration": 9,
    "start_time": "2022-08-23T04:52:27.441Z"
   },
   {
    "duration": 78,
    "start_time": "2022-08-23T04:53:01.447Z"
   },
   {
    "duration": 55,
    "start_time": "2022-08-23T04:54:03.242Z"
   },
   {
    "duration": 144,
    "start_time": "2022-08-23T04:54:28.346Z"
   },
   {
    "duration": 501,
    "start_time": "2022-08-23T04:55:27.797Z"
   },
   {
    "duration": 59,
    "start_time": "2022-08-23T04:56:34.210Z"
   },
   {
    "duration": 6,
    "start_time": "2022-08-23T04:57:03.437Z"
   },
   {
    "duration": 4,
    "start_time": "2022-08-23T04:57:46.773Z"
   },
   {
    "duration": 84,
    "start_time": "2022-08-23T04:58:10.547Z"
   },
   {
    "duration": 3,
    "start_time": "2022-08-23T04:58:37.052Z"
   },
   {
    "duration": 244,
    "start_time": "2022-08-23T04:59:10.672Z"
   },
   {
    "duration": 45,
    "start_time": "2022-08-23T05:00:55.167Z"
   },
   {
    "duration": 46,
    "start_time": "2022-08-23T05:01:31.415Z"
   },
   {
    "duration": 37,
    "start_time": "2022-08-23T05:01:52.325Z"
   },
   {
    "duration": 4,
    "start_time": "2022-08-23T05:02:21.060Z"
   },
   {
    "duration": 385,
    "start_time": "2022-08-23T05:02:42.083Z"
   },
   {
    "duration": 211,
    "start_time": "2022-08-23T05:03:03.519Z"
   },
   {
    "duration": 884,
    "start_time": "2022-08-23T05:05:14.162Z"
   },
   {
    "duration": 46,
    "start_time": "2022-08-23T05:05:40.769Z"
   },
   {
    "duration": 53,
    "start_time": "2022-08-23T05:06:19.474Z"
   },
   {
    "duration": 55,
    "start_time": "2022-08-23T05:06:39.267Z"
   },
   {
    "duration": 84,
    "start_time": "2022-08-23T05:07:04.163Z"
   },
   {
    "duration": 111,
    "start_time": "2022-08-23T05:09:33.212Z"
   },
   {
    "duration": 6,
    "start_time": "2022-08-23T05:09:56.049Z"
   },
   {
    "duration": 3,
    "start_time": "2022-08-23T05:10:21.243Z"
   },
   {
    "duration": 50,
    "start_time": "2022-08-23T05:10:43.755Z"
   },
   {
    "duration": 2861,
    "start_time": "2022-08-23T05:11:39.927Z"
   },
   {
    "duration": 79,
    "start_time": "2022-08-23T05:12:49.931Z"
   },
   {
    "duration": 14,
    "start_time": "2022-08-23T05:14:16.701Z"
   },
   {
    "duration": 9,
    "start_time": "2022-08-23T05:14:39.522Z"
   },
   {
    "duration": 4,
    "start_time": "2022-08-23T05:15:13.166Z"
   },
   {
    "duration": 193,
    "start_time": "2022-08-23T05:15:36.160Z"
   },
   {
    "duration": 80,
    "start_time": "2022-08-23T05:17:32.627Z"
   },
   {
    "duration": 14,
    "start_time": "2022-08-23T05:19:14.106Z"
   },
   {
    "duration": 7,
    "start_time": "2022-08-23T05:19:36.861Z"
   },
   {
    "duration": 8,
    "start_time": "2022-08-23T05:20:02.157Z"
   },
   {
    "duration": 8,
    "start_time": "2022-08-23T05:20:53.523Z"
   },
   {
    "duration": 344,
    "start_time": "2022-08-23T05:21:36.500Z"
   },
   {
    "duration": 3,
    "start_time": "2022-08-23T05:22:46.673Z"
   },
   {
    "duration": 28,
    "start_time": "2022-08-23T05:23:36.013Z"
   },
   {
    "duration": 26,
    "start_time": "2022-08-23T05:24:05.404Z"
   },
   {
    "duration": 4,
    "start_time": "2022-08-23T05:24:30.834Z"
   },
   {
    "duration": 4,
    "start_time": "2022-08-23T05:24:58.527Z"
   },
   {
    "duration": 7,
    "start_time": "2022-08-23T05:25:50.681Z"
   },
   {
    "duration": 288,
    "start_time": "2022-08-23T05:26:33.665Z"
   },
   {
    "duration": 1331,
    "start_time": "2022-08-26T05:40:53.921Z"
   },
   {
    "duration": 616,
    "start_time": "2022-08-26T05:40:55.254Z"
   },
   {
    "duration": 75,
    "start_time": "2022-08-26T05:40:55.872Z"
   },
   {
    "duration": 78,
    "start_time": "2022-08-26T05:40:56.317Z"
   },
   {
    "duration": 143,
    "start_time": "2022-08-26T05:40:56.681Z"
   },
   {
    "duration": 195,
    "start_time": "2022-08-26T05:40:57.499Z"
   },
   {
    "duration": 9,
    "start_time": "2022-08-26T05:40:58.095Z"
   },
   {
    "duration": 51,
    "start_time": "2022-08-26T05:40:58.453Z"
   },
   {
    "duration": 59,
    "start_time": "2022-08-26T05:40:59.035Z"
   },
   {
    "duration": 9,
    "start_time": "2022-08-26T05:41:00.367Z"
   },
   {
    "duration": 65,
    "start_time": "2022-08-26T05:41:00.759Z"
   },
   {
    "duration": 3,
    "start_time": "2022-08-26T05:41:01.131Z"
   },
   {
    "duration": 173,
    "start_time": "2022-08-26T05:41:01.750Z"
   },
   {
    "duration": 9,
    "start_time": "2022-08-26T05:41:02.533Z"
   },
   {
    "duration": 61,
    "start_time": "2022-08-26T05:41:03.136Z"
   },
   {
    "duration": 155,
    "start_time": "2022-08-26T05:41:03.661Z"
   },
   {
    "duration": 13,
    "start_time": "2022-08-26T05:41:05.141Z"
   },
   {
    "duration": 8,
    "start_time": "2022-08-26T05:41:05.848Z"
   },
   {
    "duration": 7,
    "start_time": "2022-08-26T05:41:08.371Z"
   },
   {
    "duration": 3,
    "start_time": "2022-08-26T05:41:09.497Z"
   },
   {
    "duration": 5,
    "start_time": "2022-08-26T05:41:10.037Z"
   },
   {
    "duration": 4,
    "start_time": "2022-08-26T05:41:11.442Z"
   },
   {
    "duration": 4,
    "start_time": "2022-08-26T05:41:12.059Z"
   },
   {
    "duration": 7,
    "start_time": "2022-08-26T05:41:12.347Z"
   },
   {
    "duration": 7,
    "start_time": "2022-08-26T05:41:13.908Z"
   },
   {
    "duration": 7,
    "start_time": "2022-08-26T05:41:14.298Z"
   },
   {
    "duration": 163,
    "start_time": "2022-08-26T05:41:15.088Z"
   },
   {
    "duration": 12,
    "start_time": "2022-08-26T05:41:15.625Z"
   },
   {
    "duration": 168,
    "start_time": "2022-08-26T05:41:16.324Z"
   },
   {
    "duration": 19,
    "start_time": "2022-08-26T05:41:20.670Z"
   },
   {
    "duration": 4,
    "start_time": "2022-08-26T05:41:21.218Z"
   },
   {
    "duration": 17,
    "start_time": "2022-08-26T05:41:22.027Z"
   },
   {
    "duration": 158,
    "start_time": "2022-08-26T05:41:22.397Z"
   },
   {
    "duration": 28,
    "start_time": "2022-08-26T05:41:24.046Z"
   },
   {
    "duration": 3,
    "start_time": "2022-08-26T05:41:24.495Z"
   },
   {
    "duration": 17,
    "start_time": "2022-08-26T05:41:24.781Z"
   },
   {
    "duration": 28,
    "start_time": "2022-08-26T05:41:25.091Z"
   },
   {
    "duration": 69,
    "start_time": "2022-08-26T05:41:25.437Z"
   },
   {
    "duration": 493,
    "start_time": "2022-08-26T05:41:25.779Z"
   },
   {
    "duration": 36,
    "start_time": "2022-08-26T05:41:26.273Z"
   },
   {
    "duration": 23,
    "start_time": "2022-08-26T05:41:26.361Z"
   },
   {
    "duration": 16,
    "start_time": "2022-08-26T05:41:26.700Z"
   },
   {
    "duration": 5,
    "start_time": "2022-08-26T05:41:27.238Z"
   },
   {
    "duration": 4,
    "start_time": "2022-08-26T05:41:27.567Z"
   },
   {
    "duration": 8,
    "start_time": "2022-08-26T05:41:27.890Z"
   },
   {
    "duration": 7,
    "start_time": "2022-08-26T05:41:28.210Z"
   },
   {
    "duration": 6,
    "start_time": "2022-08-26T05:41:28.527Z"
   },
   {
    "duration": 7,
    "start_time": "2022-08-26T05:41:28.851Z"
   },
   {
    "duration": 6,
    "start_time": "2022-08-26T05:41:29.423Z"
   },
   {
    "duration": 18,
    "start_time": "2022-08-26T05:41:29.722Z"
   },
   {
    "duration": 10,
    "start_time": "2022-08-26T05:41:30.039Z"
   },
   {
    "duration": 309,
    "start_time": "2022-08-26T05:43:30.448Z"
   },
   {
    "duration": 273,
    "start_time": "2022-08-26T05:43:31.553Z"
   },
   {
    "duration": 36,
    "start_time": "2022-08-26T05:43:34.663Z"
   },
   {
    "duration": 3,
    "start_time": "2022-08-26T05:43:35.027Z"
   },
   {
    "duration": 4,
    "start_time": "2022-08-26T05:43:35.370Z"
   },
   {
    "duration": 19,
    "start_time": "2022-08-26T05:43:35.732Z"
   },
   {
    "duration": 3,
    "start_time": "2022-08-26T05:43:36.116Z"
   },
   {
    "duration": 152,
    "start_time": "2022-08-26T05:43:36.451Z"
   },
   {
    "duration": 56,
    "start_time": "2022-08-26T05:43:36.793Z"
   },
   {
    "duration": 197,
    "start_time": "2022-08-26T05:43:37.150Z"
   },
   {
    "duration": 524,
    "start_time": "2022-08-26T05:43:37.776Z"
   },
   {
    "duration": 58,
    "start_time": "2022-08-26T05:43:38.699Z"
   },
   {
    "duration": 6,
    "start_time": "2022-08-26T05:43:39.015Z"
   },
   {
    "duration": 3,
    "start_time": "2022-08-26T05:43:39.651Z"
   },
   {
    "duration": 5,
    "start_time": "2022-08-26T05:43:42.963Z"
   },
   {
    "duration": 259,
    "start_time": "2022-08-26T05:43:46.643Z"
   },
   {
    "duration": 46,
    "start_time": "2022-08-26T05:43:50.216Z"
   },
   {
    "duration": 50,
    "start_time": "2022-08-26T05:43:51.293Z"
   },
   {
    "duration": 38,
    "start_time": "2022-08-26T05:43:51.781Z"
   },
   {
    "duration": 5,
    "start_time": "2022-08-26T05:43:53.714Z"
   },
   {
    "duration": 378,
    "start_time": "2022-08-26T05:43:54.072Z"
   },
   {
    "duration": 234,
    "start_time": "2022-08-26T05:43:54.452Z"
   },
   {
    "duration": 1025,
    "start_time": "2022-08-26T05:43:56.112Z"
   },
   {
    "duration": 52,
    "start_time": "2022-08-26T05:43:57.645Z"
   },
   {
    "duration": 59,
    "start_time": "2022-08-26T05:43:58.889Z"
   },
   {
    "duration": 60,
    "start_time": "2022-08-26T05:43:59.325Z"
   },
   {
    "duration": 90,
    "start_time": "2022-08-26T05:44:03.883Z"
   },
   {
    "duration": 127,
    "start_time": "2022-08-26T05:44:05.124Z"
   },
   {
    "duration": 5,
    "start_time": "2022-08-26T05:44:06.170Z"
   },
   {
    "duration": 4,
    "start_time": "2022-08-26T05:44:06.479Z"
   },
   {
    "duration": 72,
    "start_time": "2022-08-26T05:44:06.796Z"
   },
   {
    "duration": 3014,
    "start_time": "2022-08-26T05:44:07.363Z"
   },
   {
    "duration": 17,
    "start_time": "2022-08-26T05:44:15.649Z"
   },
   {
    "duration": 9,
    "start_time": "2022-08-26T05:44:16.945Z"
   },
   {
    "duration": 5,
    "start_time": "2022-08-26T05:44:18.489Z"
   },
   {
    "duration": 190,
    "start_time": "2022-08-26T05:44:19.922Z"
   },
   {
    "duration": 3,
    "start_time": "2022-08-26T05:44:31.962Z"
   },
   {
    "duration": 4,
    "start_time": "2022-08-26T05:44:36.386Z"
   },
   {
    "duration": 98,
    "start_time": "2022-08-26T05:47:49.946Z"
   },
   {
    "duration": 9,
    "start_time": "2022-08-26T05:48:16.823Z"
   },
   {
    "duration": 9,
    "start_time": "2022-08-26T05:48:43.086Z"
   },
   {
    "duration": 10,
    "start_time": "2022-08-26T06:25:13.207Z"
   },
   {
    "duration": 11,
    "start_time": "2022-08-26T06:40:42.257Z"
   },
   {
    "duration": 13,
    "start_time": "2022-08-26T07:05:36.015Z"
   },
   {
    "duration": 64,
    "start_time": "2022-08-26T07:06:00.239Z"
   },
   {
    "duration": 49,
    "start_time": "2022-08-26T07:09:27.552Z"
   },
   {
    "duration": 10,
    "start_time": "2022-08-26T13:02:36.542Z"
   },
   {
    "duration": 18,
    "start_time": "2022-08-26T13:35:37.259Z"
   },
   {
    "duration": 12,
    "start_time": "2022-08-26T13:35:50.799Z"
   },
   {
    "duration": 98,
    "start_time": "2022-08-26T13:37:27.611Z"
   },
   {
    "duration": 53,
    "start_time": "2022-08-26T13:38:39.322Z"
   },
   {
    "duration": 51,
    "start_time": "2022-08-26T13:48:38.837Z"
   },
   {
    "duration": 43,
    "start_time": "2022-08-26T13:50:59.159Z"
   },
   {
    "duration": 14,
    "start_time": "2022-08-26T13:54:46.577Z"
   },
   {
    "duration": 51,
    "start_time": "2022-08-26T13:56:39.873Z"
   },
   {
    "duration": 56,
    "start_time": "2022-08-26T13:57:21.220Z"
   },
   {
    "duration": 135,
    "start_time": "2022-08-26T13:57:48.592Z"
   },
   {
    "duration": 164,
    "start_time": "2022-08-26T13:58:08.190Z"
   },
   {
    "duration": 15,
    "start_time": "2022-08-26T14:06:31.032Z"
   },
   {
    "duration": 13,
    "start_time": "2022-08-26T14:06:37.431Z"
   },
   {
    "duration": 5,
    "start_time": "2022-08-26T14:06:41.642Z"
   },
   {
    "duration": 186,
    "start_time": "2022-08-26T14:06:44.923Z"
   },
   {
    "duration": 11,
    "start_time": "2022-08-26T14:06:52.251Z"
   },
   {
    "duration": 22,
    "start_time": "2022-08-26T14:14:38.708Z"
   },
   {
    "duration": 23,
    "start_time": "2022-08-26T14:17:14.399Z"
   },
   {
    "duration": 30,
    "start_time": "2022-08-26T14:18:55.002Z"
   },
   {
    "duration": 24,
    "start_time": "2022-08-26T14:26:37.737Z"
   },
   {
    "duration": 10,
    "start_time": "2022-08-26T14:28:54.274Z"
   },
   {
    "duration": 10,
    "start_time": "2022-08-26T14:30:33.481Z"
   },
   {
    "duration": 19,
    "start_time": "2022-08-26T14:31:58.420Z"
   },
   {
    "duration": 18,
    "start_time": "2022-08-26T14:32:18.604Z"
   },
   {
    "duration": 13,
    "start_time": "2022-08-26T14:33:07.374Z"
   },
   {
    "duration": 13,
    "start_time": "2022-08-26T14:33:27.672Z"
   },
   {
    "duration": 17,
    "start_time": "2022-08-26T14:34:30.539Z"
   },
   {
    "duration": 16,
    "start_time": "2022-08-26T14:35:12.906Z"
   },
   {
    "duration": 18,
    "start_time": "2022-08-26T14:36:07.877Z"
   },
   {
    "duration": 19,
    "start_time": "2022-08-26T14:39:09.339Z"
   },
   {
    "duration": 15,
    "start_time": "2022-08-26T14:42:14.930Z"
   },
   {
    "duration": 47,
    "start_time": "2022-08-26T14:51:03.079Z"
   },
   {
    "duration": 55,
    "start_time": "2022-08-26T14:56:10.589Z"
   },
   {
    "duration": 65,
    "start_time": "2022-08-26T14:56:41.841Z"
   },
   {
    "duration": 68,
    "start_time": "2022-08-26T15:02:28.729Z"
   },
   {
    "duration": 68,
    "start_time": "2022-08-26T15:04:34.027Z"
   },
   {
    "duration": 12,
    "start_time": "2022-08-26T20:07:56.580Z"
   },
   {
    "duration": 1460,
    "start_time": "2022-08-26T20:10:02.861Z"
   },
   {
    "duration": 10,
    "start_time": "2022-08-26T20:10:29.509Z"
   },
   {
    "duration": 10,
    "start_time": "2022-08-26T20:10:47.587Z"
   },
   {
    "duration": 6,
    "start_time": "2022-08-26T20:11:02.357Z"
   },
   {
    "duration": 216,
    "start_time": "2022-08-26T20:12:45.821Z"
   },
   {
    "duration": 57,
    "start_time": "2022-08-26T20:16:44.481Z"
   },
   {
    "duration": 25,
    "start_time": "2022-08-26T20:16:50.875Z"
   },
   {
    "duration": 16,
    "start_time": "2022-08-26T20:34:31.318Z"
   },
   {
    "duration": 16,
    "start_time": "2022-08-26T20:37:09.097Z"
   },
   {
    "duration": 65,
    "start_time": "2022-08-26T20:42:04.714Z"
   },
   {
    "duration": 10,
    "start_time": "2022-08-26T20:42:27.779Z"
   },
   {
    "duration": 37,
    "start_time": "2022-08-26T20:43:02.986Z"
   },
   {
    "duration": 37,
    "start_time": "2022-08-26T20:44:00.583Z"
   },
   {
    "duration": 54,
    "start_time": "2022-08-26T20:56:14.655Z"
   },
   {
    "duration": 15,
    "start_time": "2022-08-26T21:00:11.358Z"
   },
   {
    "duration": 184,
    "start_time": "2022-08-26T21:14:04.487Z"
   },
   {
    "duration": 12,
    "start_time": "2022-08-26T21:14:16.278Z"
   },
   {
    "duration": 13,
    "start_time": "2022-08-26T21:15:40.602Z"
   },
   {
    "duration": 1138,
    "start_time": "2022-08-26T21:26:50.868Z"
   },
   {
    "duration": 262,
    "start_time": "2022-08-26T21:26:52.065Z"
   },
   {
    "duration": 74,
    "start_time": "2022-08-26T21:26:53.139Z"
   },
   {
    "duration": 82,
    "start_time": "2022-08-26T21:26:59.202Z"
   },
   {
    "duration": 157,
    "start_time": "2022-08-26T21:26:59.653Z"
   },
   {
    "duration": 187,
    "start_time": "2022-08-26T21:27:00.498Z"
   },
   {
    "duration": 9,
    "start_time": "2022-08-26T21:27:01.145Z"
   },
   {
    "duration": 57,
    "start_time": "2022-08-26T21:27:01.546Z"
   },
   {
    "duration": 68,
    "start_time": "2022-08-26T21:27:05.446Z"
   },
   {
    "duration": 9,
    "start_time": "2022-08-26T21:27:27.915Z"
   },
   {
    "duration": 67,
    "start_time": "2022-08-26T21:27:28.901Z"
   },
   {
    "duration": 3,
    "start_time": "2022-08-26T21:27:32.015Z"
   },
   {
    "duration": 177,
    "start_time": "2022-08-26T21:27:32.532Z"
   },
   {
    "duration": 11,
    "start_time": "2022-08-26T21:27:33.350Z"
   },
   {
    "duration": 65,
    "start_time": "2022-08-26T21:27:33.773Z"
   },
   {
    "duration": 170,
    "start_time": "2022-08-26T21:27:34.180Z"
   },
   {
    "duration": 12,
    "start_time": "2022-08-26T21:27:35.819Z"
   },
   {
    "duration": 8,
    "start_time": "2022-08-26T21:27:39.021Z"
   },
   {
    "duration": 9,
    "start_time": "2022-08-26T21:27:42.362Z"
   },
   {
    "duration": 5,
    "start_time": "2022-08-26T21:27:43.065Z"
   },
   {
    "duration": 5,
    "start_time": "2022-08-26T21:27:43.433Z"
   },
   {
    "duration": 4,
    "start_time": "2022-08-26T21:27:44.293Z"
   },
   {
    "duration": 3,
    "start_time": "2022-08-26T21:27:44.664Z"
   },
   {
    "duration": 6,
    "start_time": "2022-08-26T21:27:44.996Z"
   },
   {
    "duration": 4,
    "start_time": "2022-08-26T21:27:45.838Z"
   },
   {
    "duration": 7,
    "start_time": "2022-08-26T21:27:46.208Z"
   },
   {
    "duration": 179,
    "start_time": "2022-08-26T21:27:46.619Z"
   },
   {
    "duration": 14,
    "start_time": "2022-08-26T21:27:47.002Z"
   },
   {
    "duration": 154,
    "start_time": "2022-08-26T21:27:47.384Z"
   },
   {
    "duration": 20,
    "start_time": "2022-08-26T21:27:48.688Z"
   },
   {
    "duration": 5,
    "start_time": "2022-08-26T21:27:49.319Z"
   },
   {
    "duration": 19,
    "start_time": "2022-08-26T21:27:52.542Z"
   },
   {
    "duration": 182,
    "start_time": "2022-08-26T21:28:02.606Z"
   },
   {
    "duration": 31,
    "start_time": "2022-08-26T21:28:09.513Z"
   },
   {
    "duration": 3,
    "start_time": "2022-08-26T21:28:14.294Z"
   },
   {
    "duration": 19,
    "start_time": "2022-08-26T21:34:00.380Z"
   },
   {
    "duration": 29,
    "start_time": "2022-08-26T21:34:32.642Z"
   },
   {
    "duration": 75,
    "start_time": "2022-08-26T21:34:34.522Z"
   },
   {
    "duration": 482,
    "start_time": "2022-08-26T21:34:36.360Z"
   },
   {
    "duration": 42,
    "start_time": "2022-08-26T21:34:37.404Z"
   },
   {
    "duration": 25,
    "start_time": "2022-08-26T21:34:38.477Z"
   },
   {
    "duration": 17,
    "start_time": "2022-08-26T21:34:58.980Z"
   },
   {
    "duration": 5,
    "start_time": "2022-08-26T21:35:00.761Z"
   },
   {
    "duration": 6,
    "start_time": "2022-08-26T21:35:01.136Z"
   },
   {
    "duration": 9,
    "start_time": "2022-08-26T21:35:01.494Z"
   },
   {
    "duration": 8,
    "start_time": "2022-08-26T21:35:01.891Z"
   },
   {
    "duration": 8,
    "start_time": "2022-08-26T21:35:02.275Z"
   },
   {
    "duration": 7,
    "start_time": "2022-08-26T21:35:02.654Z"
   },
   {
    "duration": 9,
    "start_time": "2022-08-26T21:35:03.205Z"
   },
   {
    "duration": 21,
    "start_time": "2022-08-26T21:35:03.669Z"
   },
   {
    "duration": 12,
    "start_time": "2022-08-26T21:35:04.024Z"
   },
   {
    "duration": 317,
    "start_time": "2022-08-26T21:35:04.437Z"
   },
   {
    "duration": 307,
    "start_time": "2022-08-26T21:35:04.821Z"
   },
   {
    "duration": 42,
    "start_time": "2022-08-26T21:35:09.125Z"
   },
   {
    "duration": 4,
    "start_time": "2022-08-26T21:35:09.483Z"
   },
   {
    "duration": 4,
    "start_time": "2022-08-26T21:35:09.843Z"
   },
   {
    "duration": 18,
    "start_time": "2022-08-26T21:35:10.193Z"
   },
   {
    "duration": 3,
    "start_time": "2022-08-26T21:35:10.557Z"
   },
   {
    "duration": 182,
    "start_time": "2022-08-26T21:35:10.973Z"
   },
   {
    "duration": 70,
    "start_time": "2022-08-26T21:35:33.654Z"
   },
   {
    "duration": 170,
    "start_time": "2022-08-26T21:35:34.073Z"
   },
   {
    "duration": 614,
    "start_time": "2022-08-26T21:35:34.675Z"
   },
   {
    "duration": 60,
    "start_time": "2022-08-26T21:35:35.421Z"
   },
   {
    "duration": 6,
    "start_time": "2022-08-26T21:35:36.995Z"
   },
   {
    "duration": 5,
    "start_time": "2022-08-26T21:35:37.392Z"
   },
   {
    "duration": 4,
    "start_time": "2022-08-26T21:35:38.188Z"
   },
   {
    "duration": 305,
    "start_time": "2022-08-26T21:35:38.589Z"
   },
   {
    "duration": 61,
    "start_time": "2022-08-26T21:35:40.271Z"
   },
   {
    "duration": 54,
    "start_time": "2022-08-26T21:35:40.632Z"
   },
   {
    "duration": 48,
    "start_time": "2022-08-26T21:35:40.981Z"
   },
   {
    "duration": 3,
    "start_time": "2022-08-26T21:35:41.355Z"
   },
   {
    "duration": 429,
    "start_time": "2022-08-26T21:35:41.704Z"
   },
   {
    "duration": 248,
    "start_time": "2022-08-26T21:35:45.161Z"
   },
   {
    "duration": 5,
    "start_time": "2022-08-26T21:35:47.439Z"
   },
   {
    "duration": 115,
    "start_time": "2022-08-26T21:35:47.777Z"
   },
   {
    "duration": 857,
    "start_time": "2022-08-26T21:35:48.145Z"
   },
   {
    "duration": 0,
    "start_time": "2022-08-26T21:35:49.004Z"
   },
   {
    "duration": 16,
    "start_time": "2022-08-26T21:35:49.558Z"
   },
   {
    "duration": 94,
    "start_time": "2022-08-26T21:35:49.953Z"
   },
   {
    "duration": 6,
    "start_time": "2022-08-26T21:35:52.822Z"
   },
   {
    "duration": 3,
    "start_time": "2022-08-26T21:35:54.147Z"
   },
   {
    "duration": 79,
    "start_time": "2022-08-26T21:35:56.073Z"
   },
   {
    "duration": 25,
    "start_time": "2022-08-26T21:35:56.602Z"
   },
   {
    "duration": 15,
    "start_time": "2022-08-26T21:36:17.938Z"
   },
   {
    "duration": 11,
    "start_time": "2022-08-26T21:36:30.865Z"
   },
   {
    "duration": 4,
    "start_time": "2022-08-26T21:36:32.099Z"
   },
   {
    "duration": 190,
    "start_time": "2022-08-26T21:36:33.466Z"
   },
   {
    "duration": 17,
    "start_time": "2022-08-26T21:36:34.907Z"
   },
   {
    "duration": 5,
    "start_time": "2022-08-26T21:36:39.400Z"
   },
   {
    "duration": 196,
    "start_time": "2022-08-26T21:36:41.222Z"
   },
   {
    "duration": 155,
    "start_time": "2022-08-26T21:39:41.295Z"
   },
   {
    "duration": 55,
    "start_time": "2022-08-26T21:40:38.468Z"
   },
   {
    "duration": 1006,
    "start_time": "2022-08-26T21:59:08.343Z"
   },
   {
    "duration": 45,
    "start_time": "2022-08-26T21:59:40.757Z"
   },
   {
    "duration": 82,
    "start_time": "2022-08-26T21:59:44.208Z"
   },
   {
    "duration": 44,
    "start_time": "2022-08-26T21:59:45.485Z"
   },
   {
    "duration": 76,
    "start_time": "2022-08-26T21:59:46.835Z"
   },
   {
    "duration": 143,
    "start_time": "2022-08-26T21:59:48.500Z"
   },
   {
    "duration": 4,
    "start_time": "2022-08-26T21:59:49.903Z"
   },
   {
    "duration": 3,
    "start_time": "2022-08-26T21:59:51.207Z"
   },
   {
    "duration": 57,
    "start_time": "2022-08-26T21:59:52.526Z"
   },
   {
    "duration": 3144,
    "start_time": "2022-08-26T21:59:55.483Z"
   },
   {
    "duration": 18,
    "start_time": "2022-08-26T22:00:05.784Z"
   },
   {
    "duration": 10,
    "start_time": "2022-08-26T22:00:12.286Z"
   },
   {
    "duration": 5,
    "start_time": "2022-08-26T22:00:13.523Z"
   },
   {
    "duration": 188,
    "start_time": "2022-08-26T22:00:15.021Z"
   },
   {
    "duration": 10,
    "start_time": "2022-08-26T22:00:16.578Z"
   },
   {
    "duration": 5,
    "start_time": "2022-08-26T22:00:26.503Z"
   },
   {
    "duration": 188,
    "start_time": "2022-08-26T22:00:27.908Z"
   },
   {
    "duration": 9,
    "start_time": "2022-08-26T22:33:45.526Z"
   },
   {
    "duration": 10,
    "start_time": "2022-08-26T22:34:04.003Z"
   },
   {
    "duration": 118,
    "start_time": "2022-08-26T22:34:26.325Z"
   },
   {
    "duration": 64,
    "start_time": "2022-08-26T22:36:34.760Z"
   },
   {
    "duration": 18,
    "start_time": "2022-08-26T22:56:02.299Z"
   },
   {
    "duration": 2724,
    "start_time": "2022-08-26T22:56:42.505Z"
   },
   {
    "duration": 1156,
    "start_time": "2022-08-26T23:01:42.267Z"
   },
   {
    "duration": 267,
    "start_time": "2022-08-26T23:01:43.425Z"
   },
   {
    "duration": 72,
    "start_time": "2022-08-26T23:01:43.694Z"
   },
   {
    "duration": 79,
    "start_time": "2022-08-26T23:01:44.870Z"
   },
   {
    "duration": 159,
    "start_time": "2022-08-26T23:01:45.257Z"
   },
   {
    "duration": 173,
    "start_time": "2022-08-26T23:01:46.099Z"
   },
   {
    "duration": 10,
    "start_time": "2022-08-26T23:01:46.729Z"
   },
   {
    "duration": 64,
    "start_time": "2022-08-26T23:01:47.103Z"
   },
   {
    "duration": 63,
    "start_time": "2022-08-26T23:01:47.811Z"
   },
   {
    "duration": 9,
    "start_time": "2022-08-26T23:01:48.681Z"
   },
   {
    "duration": 64,
    "start_time": "2022-08-26T23:01:49.125Z"
   },
   {
    "duration": 4,
    "start_time": "2022-08-26T23:01:49.563Z"
   },
   {
    "duration": 175,
    "start_time": "2022-08-26T23:01:49.966Z"
   },
   {
    "duration": 9,
    "start_time": "2022-08-26T23:01:50.782Z"
   },
   {
    "duration": 61,
    "start_time": "2022-08-26T23:01:51.452Z"
   },
   {
    "duration": 159,
    "start_time": "2022-08-26T23:01:51.929Z"
   },
   {
    "duration": 10,
    "start_time": "2022-08-26T23:01:53.287Z"
   },
   {
    "duration": 8,
    "start_time": "2022-08-26T23:01:54.036Z"
   },
   {
    "duration": 9,
    "start_time": "2022-08-26T23:01:54.930Z"
   },
   {
    "duration": 4,
    "start_time": "2022-08-26T23:01:55.506Z"
   },
   {
    "duration": 5,
    "start_time": "2022-08-26T23:01:55.867Z"
   },
   {
    "duration": 4,
    "start_time": "2022-08-26T23:02:00.224Z"
   },
   {
    "duration": 4,
    "start_time": "2022-08-26T23:02:00.647Z"
   },
   {
    "duration": 7,
    "start_time": "2022-08-26T23:02:00.968Z"
   },
   {
    "duration": 4,
    "start_time": "2022-08-26T23:02:04.514Z"
   },
   {
    "duration": 7,
    "start_time": "2022-08-26T23:02:04.885Z"
   },
   {
    "duration": 174,
    "start_time": "2022-08-26T23:02:05.283Z"
   },
   {
    "duration": 15,
    "start_time": "2022-08-26T23:02:05.678Z"
   },
   {
    "duration": 156,
    "start_time": "2022-08-26T23:02:06.387Z"
   },
   {
    "duration": 24,
    "start_time": "2022-08-26T23:02:07.361Z"
   },
   {
    "duration": 4,
    "start_time": "2022-08-26T23:02:07.988Z"
   },
   {
    "duration": 20,
    "start_time": "2022-08-26T23:02:08.763Z"
   },
   {
    "duration": 164,
    "start_time": "2022-08-26T23:02:09.217Z"
   },
   {
    "duration": 30,
    "start_time": "2022-08-26T23:02:14.278Z"
   },
   {
    "duration": 3,
    "start_time": "2022-08-26T23:02:14.721Z"
   },
   {
    "duration": 19,
    "start_time": "2022-08-26T23:02:15.024Z"
   },
   {
    "duration": 29,
    "start_time": "2022-08-26T23:02:15.372Z"
   },
   {
    "duration": 83,
    "start_time": "2022-08-26T23:02:15.962Z"
   },
   {
    "duration": 409,
    "start_time": "2022-08-26T23:02:16.373Z"
   },
   {
    "duration": 39,
    "start_time": "2022-08-26T23:02:16.784Z"
   },
   {
    "duration": 24,
    "start_time": "2022-08-26T23:02:16.996Z"
   },
   {
    "duration": 18,
    "start_time": "2022-08-26T23:02:17.383Z"
   },
   {
    "duration": 4,
    "start_time": "2022-08-26T23:02:38.946Z"
   },
   {
    "duration": 4,
    "start_time": "2022-08-26T23:02:42.359Z"
   },
   {
    "duration": 8,
    "start_time": "2022-08-26T23:02:43.984Z"
   },
   {
    "duration": 8,
    "start_time": "2022-08-26T23:02:45.579Z"
   },
   {
    "duration": 7,
    "start_time": "2022-08-26T23:02:49.932Z"
   },
   {
    "duration": 7,
    "start_time": "2022-08-26T23:02:50.298Z"
   },
   {
    "duration": 6,
    "start_time": "2022-08-26T23:02:50.877Z"
   },
   {
    "duration": 18,
    "start_time": "2022-08-26T23:02:51.178Z"
   },
   {
    "duration": 12,
    "start_time": "2022-08-26T23:02:54.431Z"
   },
   {
    "duration": 285,
    "start_time": "2022-08-26T23:02:54.832Z"
   },
   {
    "duration": 260,
    "start_time": "2022-08-26T23:02:55.181Z"
   },
   {
    "duration": 39,
    "start_time": "2022-08-26T23:02:56.188Z"
   },
   {
    "duration": 4,
    "start_time": "2022-08-26T23:02:58.970Z"
   },
   {
    "duration": 5,
    "start_time": "2022-08-26T23:02:59.320Z"
   },
   {
    "duration": 17,
    "start_time": "2022-08-26T23:02:59.706Z"
   },
   {
    "duration": 4,
    "start_time": "2022-08-26T23:03:00.134Z"
   },
   {
    "duration": 176,
    "start_time": "2022-08-26T23:03:00.475Z"
   },
   {
    "duration": 63,
    "start_time": "2022-08-26T23:03:00.859Z"
   },
   {
    "duration": 171,
    "start_time": "2022-08-26T23:03:01.407Z"
   },
   {
    "duration": 585,
    "start_time": "2022-08-26T23:03:10.238Z"
   },
   {
    "duration": 64,
    "start_time": "2022-08-26T23:03:11.091Z"
   },
   {
    "duration": 6,
    "start_time": "2022-08-26T23:03:11.429Z"
   },
   {
    "duration": 4,
    "start_time": "2022-08-26T23:03:11.754Z"
   },
   {
    "duration": 3,
    "start_time": "2022-08-26T23:03:17.424Z"
   },
   {
    "duration": 275,
    "start_time": "2022-08-26T23:03:17.795Z"
   },
   {
    "duration": 50,
    "start_time": "2022-08-26T23:03:18.774Z"
   },
   {
    "duration": 51,
    "start_time": "2022-08-26T23:03:19.099Z"
   },
   {
    "duration": 56,
    "start_time": "2022-08-26T23:03:31.672Z"
   },
   {
    "duration": 4,
    "start_time": "2022-08-26T23:03:33.318Z"
   },
   {
    "duration": 398,
    "start_time": "2022-08-26T23:03:33.702Z"
   },
   {
    "duration": 235,
    "start_time": "2022-08-26T23:03:34.109Z"
   },
   {
    "duration": 1006,
    "start_time": "2022-08-26T23:03:38.601Z"
   },
   {
    "duration": 41,
    "start_time": "2022-08-26T23:03:39.965Z"
   },
   {
    "duration": 67,
    "start_time": "2022-08-26T23:03:40.353Z"
   },
   {
    "duration": 64,
    "start_time": "2022-08-26T23:03:40.694Z"
   },
   {
    "duration": 92,
    "start_time": "2022-08-26T23:03:41.947Z"
   },
   {
    "duration": 134,
    "start_time": "2022-08-26T23:03:42.363Z"
   },
   {
    "duration": 4,
    "start_time": "2022-08-26T23:03:42.702Z"
   },
   {
    "duration": 3,
    "start_time": "2022-08-26T23:03:43.080Z"
   },
   {
    "duration": 60,
    "start_time": "2022-08-26T23:03:43.393Z"
   },
   {
    "duration": 3082,
    "start_time": "2022-08-26T23:03:44.173Z"
   },
   {
    "duration": 15,
    "start_time": "2022-08-26T23:03:50.984Z"
   },
   {
    "duration": 9,
    "start_time": "2022-08-26T23:03:52.104Z"
   },
   {
    "duration": 4,
    "start_time": "2022-08-26T23:03:52.526Z"
   },
   {
    "duration": 191,
    "start_time": "2022-08-26T23:03:53.645Z"
   },
   {
    "duration": 11,
    "start_time": "2022-08-26T23:03:53.967Z"
   },
   {
    "duration": 5,
    "start_time": "2022-08-26T23:03:55.766Z"
   },
   {
    "duration": 228,
    "start_time": "2022-08-26T23:03:57.180Z"
   },
   {
    "duration": 2249,
    "start_time": "2022-08-26T23:04:02.168Z"
   },
   {
    "duration": 1401,
    "start_time": "2022-08-26T23:06:09.943Z"
   },
   {
    "duration": 1371,
    "start_time": "2022-08-26T23:07:13.383Z"
   },
   {
    "duration": 10,
    "start_time": "2022-08-26T23:10:02.022Z"
   },
   {
    "duration": 9,
    "start_time": "2022-08-26T23:10:14.788Z"
   },
   {
    "duration": 1433,
    "start_time": "2022-08-26T23:10:25.974Z"
   },
   {
    "duration": 17,
    "start_time": "2022-08-26T23:18:09.839Z"
   },
   {
    "duration": 10,
    "start_time": "2022-08-26T23:18:11.541Z"
   },
   {
    "duration": 5,
    "start_time": "2022-08-26T23:18:13.035Z"
   },
   {
    "duration": 303,
    "start_time": "2022-08-26T23:18:14.353Z"
   },
   {
    "duration": 11,
    "start_time": "2022-08-26T23:18:15.557Z"
   },
   {
    "duration": 5,
    "start_time": "2022-08-26T23:18:17.604Z"
   },
   {
    "duration": 191,
    "start_time": "2022-08-26T23:18:18.872Z"
   },
   {
    "duration": 1216,
    "start_time": "2022-08-26T23:18:20.737Z"
   },
   {
    "duration": 797,
    "start_time": "2022-08-26T23:19:44.810Z"
   },
   {
    "duration": 821,
    "start_time": "2022-08-26T23:20:15.838Z"
   },
   {
    "duration": 24,
    "start_time": "2022-08-26T23:23:07.794Z"
   },
   {
    "duration": 805,
    "start_time": "2022-08-26T23:31:03.673Z"
   },
   {
    "duration": 727,
    "start_time": "2022-08-26T23:32:10.691Z"
   },
   {
    "duration": 24,
    "start_time": "2022-08-26T23:32:33.708Z"
   },
   {
    "duration": 1651,
    "start_time": "2022-08-26T23:39:02.228Z"
   },
   {
    "duration": 3387,
    "start_time": "2022-08-26T23:41:50.355Z"
   },
   {
    "duration": 845,
    "start_time": "2022-08-26T23:42:43.337Z"
   },
   {
    "duration": 23,
    "start_time": "2022-08-26T23:43:48.789Z"
   },
   {
    "duration": 1015,
    "start_time": "2022-08-26T23:54:25.234Z"
   },
   {
    "duration": 122,
    "start_time": "2022-08-26T23:55:03.015Z"
   },
   {
    "duration": 46,
    "start_time": "2022-08-26T23:55:23.553Z"
   },
   {
    "duration": 954,
    "start_time": "2022-08-26T23:57:28.088Z"
   },
   {
    "duration": 1985,
    "start_time": "2022-08-27T00:00:02.121Z"
   },
   {
    "duration": 1059,
    "start_time": "2022-08-27T00:01:42.006Z"
   },
   {
    "duration": 1166,
    "start_time": "2022-08-27T00:02:05.605Z"
   },
   {
    "duration": 48,
    "start_time": "2022-08-27T00:02:30.882Z"
   },
   {
    "duration": 1249,
    "start_time": "2022-08-27T00:05:59.747Z"
   },
   {
    "duration": 289,
    "start_time": "2022-08-27T00:06:06.016Z"
   },
   {
    "duration": 111,
    "start_time": "2022-08-27T00:06:07.204Z"
   },
   {
    "duration": 88,
    "start_time": "2022-08-27T00:06:08.627Z"
   },
   {
    "duration": 163,
    "start_time": "2022-08-27T00:06:09.020Z"
   },
   {
    "duration": 194,
    "start_time": "2022-08-27T00:06:09.832Z"
   },
   {
    "duration": 11,
    "start_time": "2022-08-27T00:06:10.535Z"
   },
   {
    "duration": 55,
    "start_time": "2022-08-27T00:06:10.925Z"
   },
   {
    "duration": 66,
    "start_time": "2022-08-27T00:06:11.516Z"
   },
   {
    "duration": 9,
    "start_time": "2022-08-27T00:06:12.373Z"
   },
   {
    "duration": 66,
    "start_time": "2022-08-27T00:06:12.762Z"
   },
   {
    "duration": 4,
    "start_time": "2022-08-27T00:06:13.210Z"
   },
   {
    "duration": 179,
    "start_time": "2022-08-27T00:06:13.623Z"
   },
   {
    "duration": 9,
    "start_time": "2022-08-27T00:06:14.367Z"
   },
   {
    "duration": 68,
    "start_time": "2022-08-27T00:06:14.782Z"
   },
   {
    "duration": 169,
    "start_time": "2022-08-27T00:06:15.240Z"
   },
   {
    "duration": 11,
    "start_time": "2022-08-27T00:06:16.567Z"
   },
   {
    "duration": 8,
    "start_time": "2022-08-27T00:06:17.316Z"
   },
   {
    "duration": 8,
    "start_time": "2022-08-27T00:06:18.370Z"
   },
   {
    "duration": 4,
    "start_time": "2022-08-27T00:06:19.001Z"
   },
   {
    "duration": 5,
    "start_time": "2022-08-27T00:06:19.370Z"
   },
   {
    "duration": 5,
    "start_time": "2022-08-27T00:06:20.097Z"
   },
   {
    "duration": 4,
    "start_time": "2022-08-27T00:06:20.447Z"
   },
   {
    "duration": 7,
    "start_time": "2022-08-27T00:06:20.835Z"
   },
   {
    "duration": 5,
    "start_time": "2022-08-27T00:06:21.723Z"
   },
   {
    "duration": 7,
    "start_time": "2022-08-27T00:06:22.059Z"
   },
   {
    "duration": 176,
    "start_time": "2022-08-27T00:06:22.412Z"
   },
   {
    "duration": 12,
    "start_time": "2022-08-27T00:06:22.764Z"
   },
   {
    "duration": 168,
    "start_time": "2022-08-27T00:06:23.160Z"
   },
   {
    "duration": 19,
    "start_time": "2022-08-27T00:06:30.926Z"
   },
   {
    "duration": 5,
    "start_time": "2022-08-27T00:06:31.557Z"
   },
   {
    "duration": 19,
    "start_time": "2022-08-27T00:06:32.325Z"
   },
   {
    "duration": 175,
    "start_time": "2022-08-27T00:06:33.772Z"
   },
   {
    "duration": 35,
    "start_time": "2022-08-27T00:06:35.553Z"
   },
   {
    "duration": 4,
    "start_time": "2022-08-27T00:06:35.990Z"
   },
   {
    "duration": 19,
    "start_time": "2022-08-27T00:06:36.295Z"
   },
   {
    "duration": 29,
    "start_time": "2022-08-27T00:06:36.597Z"
   },
   {
    "duration": 77,
    "start_time": "2022-08-27T00:06:37.046Z"
   },
   {
    "duration": 426,
    "start_time": "2022-08-27T00:06:37.456Z"
   },
   {
    "duration": 40,
    "start_time": "2022-08-27T00:06:37.884Z"
   },
   {
    "duration": 25,
    "start_time": "2022-08-27T00:06:38.067Z"
   },
   {
    "duration": 19,
    "start_time": "2022-08-27T00:06:38.463Z"
   },
   {
    "duration": 4,
    "start_time": "2022-08-27T00:06:39.061Z"
   },
   {
    "duration": 4,
    "start_time": "2022-08-27T00:06:39.411Z"
   },
   {
    "duration": 8,
    "start_time": "2022-08-27T00:06:39.766Z"
   },
   {
    "duration": 8,
    "start_time": "2022-08-27T00:06:40.120Z"
   },
   {
    "duration": 8,
    "start_time": "2022-08-27T00:06:40.474Z"
   },
   {
    "duration": 7,
    "start_time": "2022-08-27T00:06:40.881Z"
   },
   {
    "duration": 7,
    "start_time": "2022-08-27T00:06:41.447Z"
   },
   {
    "duration": 22,
    "start_time": "2022-08-27T00:06:41.806Z"
   },
   {
    "duration": 12,
    "start_time": "2022-08-27T00:06:42.214Z"
   },
   {
    "duration": 291,
    "start_time": "2022-08-27T00:06:42.641Z"
   },
   {
    "duration": 278,
    "start_time": "2022-08-27T00:06:43.077Z"
   },
   {
    "duration": 43,
    "start_time": "2022-08-27T00:06:58.063Z"
   },
   {
    "duration": 5,
    "start_time": "2022-08-27T00:06:58.499Z"
   },
   {
    "duration": 4,
    "start_time": "2022-08-27T00:06:58.861Z"
   },
   {
    "duration": 17,
    "start_time": "2022-08-27T00:06:59.211Z"
   },
   {
    "duration": 3,
    "start_time": "2022-08-27T00:06:59.600Z"
   },
   {
    "duration": 174,
    "start_time": "2022-08-27T00:06:59.947Z"
   },
   {
    "duration": 61,
    "start_time": "2022-08-27T00:07:00.374Z"
   },
   {
    "duration": 169,
    "start_time": "2022-08-27T00:07:00.771Z"
   },
   {
    "duration": 573,
    "start_time": "2022-08-27T00:07:01.603Z"
   },
   {
    "duration": 61,
    "start_time": "2022-08-27T00:07:02.359Z"
   },
   {
    "duration": 6,
    "start_time": "2022-08-27T00:07:02.709Z"
   },
   {
    "duration": 3,
    "start_time": "2022-08-27T00:07:03.047Z"
   },
   {
    "duration": 4,
    "start_time": "2022-08-27T00:07:03.579Z"
   },
   {
    "duration": 280,
    "start_time": "2022-08-27T00:07:03.918Z"
   },
   {
    "duration": 49,
    "start_time": "2022-08-27T00:07:04.837Z"
   },
   {
    "duration": 51,
    "start_time": "2022-08-27T00:07:05.202Z"
   },
   {
    "duration": 40,
    "start_time": "2022-08-27T00:07:05.578Z"
   },
   {
    "duration": 5,
    "start_time": "2022-08-27T00:07:05.947Z"
   },
   {
    "duration": 397,
    "start_time": "2022-08-27T00:07:06.317Z"
   },
   {
    "duration": 243,
    "start_time": "2022-08-27T00:07:06.716Z"
   },
   {
    "duration": 1026,
    "start_time": "2022-08-27T00:07:07.776Z"
   },
   {
    "duration": 49,
    "start_time": "2022-08-27T00:07:08.803Z"
   },
   {
    "duration": 84,
    "start_time": "2022-08-27T00:07:08.853Z"
   },
   {
    "duration": 61,
    "start_time": "2022-08-27T00:07:08.939Z"
   },
   {
    "duration": 93,
    "start_time": "2022-08-27T00:07:09.215Z"
   },
   {
    "duration": 138,
    "start_time": "2022-08-27T00:07:09.584Z"
   },
   {
    "duration": 6,
    "start_time": "2022-08-27T00:07:09.944Z"
   },
   {
    "duration": 4,
    "start_time": "2022-08-27T00:07:10.256Z"
   },
   {
    "duration": 59,
    "start_time": "2022-08-27T00:07:10.546Z"
   },
   {
    "duration": 2949,
    "start_time": "2022-08-27T00:07:11.101Z"
   },
   {
    "duration": 16,
    "start_time": "2022-08-27T00:07:14.052Z"
   },
   {
    "duration": 8,
    "start_time": "2022-08-27T00:07:14.070Z"
   },
   {
    "duration": 7,
    "start_time": "2022-08-27T00:07:14.080Z"
   },
   {
    "duration": 187,
    "start_time": "2022-08-27T00:07:28.602Z"
   },
   {
    "duration": 10,
    "start_time": "2022-08-27T00:07:28.973Z"
   },
   {
    "duration": 5,
    "start_time": "2022-08-27T00:07:29.451Z"
   },
   {
    "duration": 197,
    "start_time": "2022-08-27T00:07:30.005Z"
   },
   {
    "duration": 28,
    "start_time": "2022-08-27T00:07:30.369Z"
   },
   {
    "duration": 107,
    "start_time": "2022-08-27T00:07:30.721Z"
   },
   {
    "duration": 11,
    "start_time": "2022-08-27T00:07:31.044Z"
   },
   {
    "duration": 1373,
    "start_time": "2022-08-28T18:15:29.309Z"
   },
   {
    "duration": 871,
    "start_time": "2022-08-28T18:15:30.685Z"
   },
   {
    "duration": 81,
    "start_time": "2022-08-28T18:15:31.558Z"
   },
   {
    "duration": 94,
    "start_time": "2022-08-28T18:15:31.642Z"
   },
   {
    "duration": 167,
    "start_time": "2022-08-28T18:15:31.738Z"
   },
   {
    "duration": 173,
    "start_time": "2022-08-28T18:15:31.907Z"
   },
   {
    "duration": 9,
    "start_time": "2022-08-28T18:15:32.084Z"
   },
   {
    "duration": 91,
    "start_time": "2022-08-28T18:15:32.095Z"
   },
   {
    "duration": 67,
    "start_time": "2022-08-28T18:15:32.188Z"
   },
   {
    "duration": 26,
    "start_time": "2022-08-28T18:15:32.259Z"
   },
   {
    "duration": 77,
    "start_time": "2022-08-28T18:15:32.287Z"
   },
   {
    "duration": 20,
    "start_time": "2022-08-28T18:15:32.366Z"
   },
   {
    "duration": 188,
    "start_time": "2022-08-28T18:15:32.388Z"
   },
   {
    "duration": 13,
    "start_time": "2022-08-28T18:15:32.578Z"
   },
   {
    "duration": 64,
    "start_time": "2022-08-28T18:15:32.593Z"
   },
   {
    "duration": 212,
    "start_time": "2022-08-28T18:15:32.659Z"
   },
   {
    "duration": 15,
    "start_time": "2022-08-28T18:15:32.872Z"
   },
   {
    "duration": 10,
    "start_time": "2022-08-28T18:15:32.889Z"
   },
   {
    "duration": 11,
    "start_time": "2022-08-28T18:15:32.900Z"
   },
   {
    "duration": 26,
    "start_time": "2022-08-28T18:15:32.913Z"
   },
   {
    "duration": 13,
    "start_time": "2022-08-28T18:15:32.941Z"
   },
   {
    "duration": 6,
    "start_time": "2022-08-28T18:15:32.956Z"
   },
   {
    "duration": 16,
    "start_time": "2022-08-28T18:15:32.964Z"
   },
   {
    "duration": 14,
    "start_time": "2022-08-28T18:15:32.982Z"
   },
   {
    "duration": 9,
    "start_time": "2022-08-28T18:15:32.998Z"
   },
   {
    "duration": 11,
    "start_time": "2022-08-28T18:15:33.008Z"
   },
   {
    "duration": 198,
    "start_time": "2022-08-28T18:15:33.021Z"
   },
   {
    "duration": 14,
    "start_time": "2022-08-28T18:15:33.224Z"
   },
   {
    "duration": 176,
    "start_time": "2022-08-28T18:15:33.240Z"
   },
   {
    "duration": 22,
    "start_time": "2022-08-28T18:15:33.418Z"
   },
   {
    "duration": 6,
    "start_time": "2022-08-28T18:15:33.442Z"
   },
   {
    "duration": 45,
    "start_time": "2022-08-28T18:15:33.450Z"
   },
   {
    "duration": 202,
    "start_time": "2022-08-28T18:15:33.498Z"
   },
   {
    "duration": 31,
    "start_time": "2022-08-28T18:15:33.702Z"
   },
   {
    "duration": 4,
    "start_time": "2022-08-28T18:15:33.735Z"
   },
   {
    "duration": 21,
    "start_time": "2022-08-28T18:15:33.740Z"
   },
   {
    "duration": 48,
    "start_time": "2022-08-28T18:15:33.763Z"
   },
   {
    "duration": 95,
    "start_time": "2022-08-28T18:15:33.812Z"
   },
   {
    "duration": 516,
    "start_time": "2022-08-28T18:15:33.909Z"
   },
   {
    "duration": 45,
    "start_time": "2022-08-28T18:15:34.427Z"
   },
   {
    "duration": 38,
    "start_time": "2022-08-28T18:15:34.474Z"
   },
   {
    "duration": 34,
    "start_time": "2022-08-28T18:15:34.514Z"
   },
   {
    "duration": 11,
    "start_time": "2022-08-28T18:15:34.549Z"
   },
   {
    "duration": 22,
    "start_time": "2022-08-28T18:15:34.562Z"
   },
   {
    "duration": 16,
    "start_time": "2022-08-28T18:15:34.586Z"
   },
   {
    "duration": 19,
    "start_time": "2022-08-28T18:15:34.604Z"
   },
   {
    "duration": 17,
    "start_time": "2022-08-28T18:15:34.626Z"
   },
   {
    "duration": 23,
    "start_time": "2022-08-28T18:15:34.645Z"
   },
   {
    "duration": 18,
    "start_time": "2022-08-28T18:15:34.670Z"
   },
   {
    "duration": 33,
    "start_time": "2022-08-28T18:15:34.690Z"
   },
   {
    "duration": 12,
    "start_time": "2022-08-28T18:15:34.725Z"
   },
   {
    "duration": 309,
    "start_time": "2022-08-28T18:15:34.739Z"
   },
   {
    "duration": 287,
    "start_time": "2022-08-28T18:15:35.050Z"
   },
   {
    "duration": 47,
    "start_time": "2022-08-28T18:15:35.339Z"
   },
   {
    "duration": 5,
    "start_time": "2022-08-28T18:15:35.387Z"
   },
   {
    "duration": 10,
    "start_time": "2022-08-28T18:15:35.394Z"
   },
   {
    "duration": 21,
    "start_time": "2022-08-28T18:15:35.405Z"
   },
   {
    "duration": 3,
    "start_time": "2022-08-28T18:15:35.429Z"
   },
   {
    "duration": 211,
    "start_time": "2022-08-28T18:15:35.434Z"
   },
   {
    "duration": 68,
    "start_time": "2022-08-28T18:15:35.647Z"
   },
   {
    "duration": 174,
    "start_time": "2022-08-28T18:15:35.716Z"
   },
   {
    "duration": 595,
    "start_time": "2022-08-28T18:15:35.891Z"
   },
   {
    "duration": 60,
    "start_time": "2022-08-28T18:15:36.488Z"
   },
   {
    "duration": 7,
    "start_time": "2022-08-28T18:15:36.549Z"
   },
   {
    "duration": 29,
    "start_time": "2022-08-28T18:15:36.558Z"
   },
   {
    "duration": 7,
    "start_time": "2022-08-28T18:15:36.589Z"
   },
   {
    "duration": 294,
    "start_time": "2022-08-28T18:15:36.598Z"
   },
   {
    "duration": 48,
    "start_time": "2022-08-28T18:15:36.893Z"
   },
   {
    "duration": 59,
    "start_time": "2022-08-28T18:15:36.943Z"
   },
   {
    "duration": 42,
    "start_time": "2022-08-28T18:15:37.004Z"
   },
   {
    "duration": 4,
    "start_time": "2022-08-28T18:15:37.048Z"
   },
   {
    "duration": 464,
    "start_time": "2022-08-28T18:15:37.054Z"
   },
   {
    "duration": 232,
    "start_time": "2022-08-28T18:15:37.520Z"
   },
   {
    "duration": 1046,
    "start_time": "2022-08-28T18:15:37.754Z"
   },
   {
    "duration": 41,
    "start_time": "2022-08-28T18:15:38.801Z"
   },
   {
    "duration": 75,
    "start_time": "2022-08-28T18:15:38.844Z"
   },
   {
    "duration": 70,
    "start_time": "2022-08-28T18:15:38.920Z"
   },
   {
    "duration": 101,
    "start_time": "2022-08-28T18:15:38.992Z"
   },
   {
    "duration": 130,
    "start_time": "2022-08-28T18:15:39.095Z"
   },
   {
    "duration": 4,
    "start_time": "2022-08-28T18:15:39.227Z"
   },
   {
    "duration": 6,
    "start_time": "2022-08-28T18:15:39.233Z"
   },
   {
    "duration": 65,
    "start_time": "2022-08-28T18:15:39.244Z"
   },
   {
    "duration": 3082,
    "start_time": "2022-08-28T18:15:39.311Z"
   },
   {
    "duration": 18,
    "start_time": "2022-08-28T18:15:42.395Z"
   },
   {
    "duration": 9,
    "start_time": "2022-08-28T18:15:42.414Z"
   },
   {
    "duration": 5,
    "start_time": "2022-08-28T18:15:42.425Z"
   },
   {
    "duration": 255,
    "start_time": "2022-08-28T18:15:42.432Z"
   },
   {
    "duration": 12,
    "start_time": "2022-08-28T18:15:42.689Z"
   },
   {
    "duration": 7,
    "start_time": "2022-08-28T18:15:42.703Z"
   },
   {
    "duration": 239,
    "start_time": "2022-08-28T18:15:42.712Z"
   },
   {
    "duration": 57,
    "start_time": "2022-08-28T18:15:42.955Z"
   },
   {
    "duration": 77,
    "start_time": "2022-08-28T18:15:43.014Z"
   },
   {
    "duration": 55,
    "start_time": "2022-08-28T18:15:43.093Z"
   },
   {
    "duration": 405,
    "start_time": "2022-08-28T18:15:43.150Z"
   },
   {
    "duration": 30,
    "start_time": "2022-08-28T18:15:43.557Z"
   },
   {
    "duration": 21,
    "start_time": "2022-08-28T18:15:43.589Z"
   },
   {
    "duration": 8,
    "start_time": "2022-08-28T18:15:43.612Z"
   },
   {
    "duration": 8,
    "start_time": "2022-08-28T18:15:43.621Z"
   },
   {
    "duration": 8,
    "start_time": "2022-08-28T18:15:43.630Z"
   },
   {
    "duration": 383,
    "start_time": "2022-08-28T18:15:43.640Z"
   },
   {
    "duration": 24,
    "start_time": "2022-08-28T18:15:44.024Z"
   },
   {
    "duration": 59,
    "start_time": "2022-08-28T18:15:44.050Z"
   },
   {
    "duration": 8,
    "start_time": "2022-08-28T18:15:44.111Z"
   },
   {
    "duration": 12,
    "start_time": "2022-08-28T18:15:44.121Z"
   },
   {
    "duration": 9,
    "start_time": "2022-08-28T18:15:44.135Z"
   },
   {
    "duration": 351,
    "start_time": "2022-08-28T18:15:44.146Z"
   }
  ],
  "kernelspec": {
   "display_name": "Python 3 (ipykernel)",
   "language": "python",
   "name": "python3"
  },
  "language_info": {
   "codemirror_mode": {
    "name": "ipython",
    "version": 3
   },
   "file_extension": ".py",
   "mimetype": "text/x-python",
   "name": "python",
   "nbconvert_exporter": "python",
   "pygments_lexer": "ipython3",
   "version": "3.9.5"
  },
  "toc": {
   "base_numbering": 1,
   "nav_menu": {},
   "number_sections": true,
   "sideBar": true,
   "skip_h1_title": true,
   "title_cell": "Table of Contents",
   "title_sidebar": "Contents",
   "toc_cell": false,
   "toc_position": {
    "height": "calc(100% - 180px)",
    "left": "10px",
    "top": "150px",
    "width": "165px"
   },
   "toc_section_display": true,
   "toc_window_display": true
  }
 },
 "nbformat": 4,
 "nbformat_minor": 2
}
